{
 "cells": [
  {
   "cell_type": "markdown",
   "id": "5ba76dd2",
   "metadata": {},
   "source": [
    "# WHILE LOOP"
   ]
  },
  {
   "cell_type": "markdown",
   "id": "523ff4fb",
   "metadata": {},
   "source": [
    "## Agenda\n",
    "- `while` loop syntax\n",
    "- `break` key word\n",
    "- `continue` key word\n",
    "- nested while loop\n",
    "- looping over iterables\n",
    "  "
   ]
  },
  {
   "cell_type": "markdown",
   "id": "246d235a",
   "metadata": {},
   "source": [
    "## While loop syntax"
   ]
  },
  {
   "cell_type": "markdown",
   "id": "f6a341ed",
   "metadata": {},
   "source": [
    "**syntax for while**  \n",
    "```python \n",
    "while <condition>:   \n",
    "   statements;  \n",
    "   increments/decrements  \n",
    "```   \n"
   ]
  },
  {
   "cell_type": "code",
   "execution_count": 46,
   "id": "92052e73",
   "metadata": {},
   "outputs": [
    {
     "name": "stdout",
     "output_type": "stream",
     "text": [
      "3\n",
      "another logic\n"
     ]
    }
   ],
   "source": [
    "if 3==3:\n",
    "    print(3)\n",
    "    print('another logic')"
   ]
  },
  {
   "cell_type": "code",
   "execution_count": 47,
   "id": "5aba0fdd",
   "metadata": {},
   "outputs": [],
   "source": [
    "# while 3==3:\n",
    "#     print(3)\n",
    "#     print('another logic')"
   ]
  },
  {
   "cell_type": "code",
   "execution_count": 48,
   "id": "8d406be3",
   "metadata": {},
   "outputs": [
    {
     "name": "stdout",
     "output_type": "stream",
     "text": [
      "0\n",
      "1\n",
      "2\n",
      "3\n",
      "4\n"
     ]
    }
   ],
   "source": [
    "a = 0\n",
    "while a < 5:\n",
    "    print(a)\n",
    "    a = a + 1"
   ]
  },
  {
   "cell_type": "code",
   "execution_count": 49,
   "id": "5d0bf5e6",
   "metadata": {},
   "outputs": [
    {
     "name": "stdout",
     "output_type": "stream",
     "text": [
      "0\n"
     ]
    }
   ],
   "source": [
    "a = 0\n",
    "if a < 5:\n",
    "    print(a)\n",
    "    a = a + 1"
   ]
  },
  {
   "cell_type": "code",
   "execution_count": 50,
   "id": "b3d9841d",
   "metadata": {},
   "outputs": [
    {
     "name": "stdout",
     "output_type": "stream",
     "text": [
      "1\n"
     ]
    }
   ],
   "source": [
    "if a < 5:\n",
    "    print(a)\n",
    "    a = a + 1"
   ]
  },
  {
   "cell_type": "code",
   "execution_count": 51,
   "id": "a8e3c739",
   "metadata": {},
   "outputs": [
    {
     "name": "stdout",
     "output_type": "stream",
     "text": [
      "2\n"
     ]
    }
   ],
   "source": [
    "if a < 5:\n",
    "    print(a)\n",
    "    a = a + 1"
   ]
  },
  {
   "cell_type": "code",
   "execution_count": 52,
   "id": "e584a8b1",
   "metadata": {},
   "outputs": [
    {
     "name": "stdout",
     "output_type": "stream",
     "text": [
      "0 5\n"
     ]
    }
   ],
   "source": [
    "a = 0 \n",
    "b  = 5\n",
    "if a < 5 and b > 3 :\n",
    "    print(a,b)\n",
    "    a = a + 1 # a += 1\n",
    "    b = b -1  # b -= 1\n",
    "    "
   ]
  },
  {
   "cell_type": "code",
   "execution_count": 53,
   "id": "952e0396",
   "metadata": {},
   "outputs": [
    {
     "name": "stdout",
     "output_type": "stream",
     "text": [
      "0 5\n",
      "1 4\n"
     ]
    }
   ],
   "source": [
    "a = 0 \n",
    "b  = 5\n",
    "while a < 5 and b > 3 :\n",
    "    print(a,b)\n",
    "    a = a + 1 # a += 1\n",
    "    b = b -1  # b -= 1"
   ]
  },
  {
   "cell_type": "code",
   "execution_count": 54,
   "id": "75cd1c7f",
   "metadata": {},
   "outputs": [
    {
     "name": "stdout",
     "output_type": "stream",
     "text": [
      "1\n",
      "2\n",
      "3\n",
      "4\n",
      "5\n",
      "6\n",
      "7\n",
      "8\n",
      "9\n",
      "10\n"
     ]
    }
   ],
   "source": [
    "a = 1\n",
    "while a < 11:\n",
    "    print(a)\n",
    "    a = a+1\n"
   ]
  },
  {
   "cell_type": "code",
   "execution_count": 55,
   "id": "254280b8",
   "metadata": {},
   "outputs": [
    {
     "name": "stdout",
     "output_type": "stream",
     "text": [
      "1\n",
      "3\n",
      "5\n",
      "7\n",
      "9\n"
     ]
    }
   ],
   "source": [
    "a = 1\n",
    "while a < 11:\n",
    "    print(a)\n",
    "    a = a+2"
   ]
  },
  {
   "cell_type": "code",
   "execution_count": 56,
   "id": "1bd664ac",
   "metadata": {},
   "outputs": [],
   "source": [
    "lst = [1,2,3,4,5,6,7,8,9,10]"
   ]
  },
  {
   "cell_type": "code",
   "execution_count": 57,
   "id": "80e2506d",
   "metadata": {},
   "outputs": [
    {
     "data": {
      "text/plain": [
       "(2, 4, 6)"
      ]
     },
     "execution_count": 57,
     "metadata": {},
     "output_type": "execute_result"
    }
   ],
   "source": [
    "lst[1], lst[3], lst[5]"
   ]
  },
  {
   "cell_type": "code",
   "execution_count": 58,
   "id": "9123846d",
   "metadata": {},
   "outputs": [
    {
     "name": "stdout",
     "output_type": "stream",
     "text": [
      "2\n",
      "4\n",
      "6\n",
      "8\n",
      "10\n",
      "12\n"
     ]
    }
   ],
   "source": [
    "a = 0\n",
    "while a < 11:\n",
    "    a = a + 2\n",
    "    print(a)"
   ]
  },
  {
   "cell_type": "code",
   "execution_count": 59,
   "id": "b510c385",
   "metadata": {},
   "outputs": [],
   "source": [
    "lst = [4,3,5,1,7,10,9]"
   ]
  },
  {
   "cell_type": "code",
   "execution_count": 60,
   "id": "bd225f44",
   "metadata": {},
   "outputs": [
    {
     "name": "stdout",
     "output_type": "stream",
     "text": [
      "4\n",
      "5\n",
      "7\n",
      "9\n"
     ]
    }
   ],
   "source": [
    "a = 0\n",
    "while a < len(lst):\n",
    "    print(lst[a])\n",
    "    a = a + 2"
   ]
  },
  {
   "cell_type": "code",
   "execution_count": 61,
   "id": "5acb9697",
   "metadata": {},
   "outputs": [
    {
     "name": "stdout",
     "output_type": "stream",
     "text": [
      "[4, 3, 5, 1, 7, 10, 9]\n",
      "3\n",
      "1\n",
      "10\n"
     ]
    }
   ],
   "source": [
    "print(lst)\n",
    "a = 1\n",
    "while a < len(lst):\n",
    "    print(lst[a])\n",
    "    a = a + 2"
   ]
  },
  {
   "cell_type": "code",
   "execution_count": 62,
   "id": "c2f113a5",
   "metadata": {},
   "outputs": [
    {
     "name": "stdout",
     "output_type": "stream",
     "text": [
      "a is not 4\n"
     ]
    }
   ],
   "source": [
    "a = 3\n",
    "if a == 4:\n",
    "    print(\"a is 4\")\n",
    "else:\n",
    "    print(\"a is not 4\")"
   ]
  },
  {
   "cell_type": "code",
   "execution_count": 63,
   "id": "602b175b",
   "metadata": {},
   "outputs": [
    {
     "name": "stdout",
     "output_type": "stream",
     "text": [
      "a is not 4\n"
     ]
    }
   ],
   "source": [
    "a = 3\n",
    "while a == 4:\n",
    "    print(\"a is 4\")\n",
    "else:\n",
    "    print(\"a is not 4\")"
   ]
  },
  {
   "cell_type": "code",
   "execution_count": 64,
   "id": "aecba922",
   "metadata": {},
   "outputs": [
    {
     "name": "stdout",
     "output_type": "stream",
     "text": [
      "a is less than 4\n"
     ]
    }
   ],
   "source": [
    "a = 0\n",
    "if a < 4:\n",
    "    print(\"a is less than 4\")\n",
    "else:\n",
    "    print(\"a is greater than or equal to 4\")"
   ]
  },
  {
   "cell_type": "code",
   "execution_count": 65,
   "id": "0f37702b",
   "metadata": {},
   "outputs": [
    {
     "name": "stdout",
     "output_type": "stream",
     "text": [
      "0  is less than 4\n",
      "1  is less than 4\n",
      "2  is less than 4\n",
      "3  is less than 4\n",
      "4  is greater than or equal to 4\n"
     ]
    }
   ],
   "source": [
    "a = 0\n",
    "while a < 4:\n",
    "    print(a,\" is less than 4\")\n",
    "    \n",
    "    a =a+1\n",
    "else:\n",
    "    print(a,\" is greater than or equal to 4\")"
   ]
  },
  {
   "cell_type": "code",
   "execution_count": null,
   "id": "cad86f54",
   "metadata": {},
   "outputs": [],
   "source": []
  },
  {
   "cell_type": "markdown",
   "id": "c5cab6a5",
   "metadata": {},
   "source": [
    "## **break** key word"
   ]
  },
  {
   "cell_type": "code",
   "execution_count": 66,
   "id": "db911248",
   "metadata": {},
   "outputs": [
    {
     "name": "stdout",
     "output_type": "stream",
     "text": [
      "-1  is greater than or equal to 4\n"
     ]
    }
   ],
   "source": [
    "a = -1\n",
    "while a < 4 and a>=0:\n",
    "    print(a,\" is less than 4\")\n",
    "    \n",
    "    a =a+1\n",
    "else:\n",
    "    print(a,\" is greater than or equal to 4\")"
   ]
  },
  {
   "cell_type": "code",
   "execution_count": 67,
   "id": "1dbf74cb",
   "metadata": {},
   "outputs": [
    {
     "name": "stdout",
     "output_type": "stream",
     "text": [
      "0  is less than 4\n"
     ]
    }
   ],
   "source": [
    "a = 0\n",
    "while a < 4:\n",
    "    print(a,\" is less than 4\")\n",
    "    a =a+1\n",
    "    break\n",
    "else:\n",
    "    print(a,\" is greater than or equal to 4\")"
   ]
  },
  {
   "cell_type": "code",
   "execution_count": 68,
   "id": "7c908477",
   "metadata": {},
   "outputs": [
    {
     "name": "stdout",
     "output_type": "stream",
     "text": [
      "0  is less than 4\n",
      "1  is less than 4\n",
      "2  is less than 4\n",
      "3  is less than 4\n",
      "4  is greater than or equal to 4\n"
     ]
    }
   ],
   "source": [
    "a = 0\n",
    "while a < 4:\n",
    "    print(a,\" is less than 4\")\n",
    "    a =a+1\n",
    "    if a < 0:\n",
    "        break\n",
    "else:\n",
    "    print(a,\" is greater than or equal to 4\")"
   ]
  },
  {
   "cell_type": "code",
   "execution_count": 69,
   "id": "e910959c",
   "metadata": {},
   "outputs": [
    {
     "name": "stdout",
     "output_type": "stream",
     "text": [
      "-1  is less than 4\n",
      "0  is less than 4\n",
      "1  is less than 4\n",
      "2  is less than 4\n",
      "3  is less than 4\n",
      "4  is greater than or equal to 4\n"
     ]
    }
   ],
   "source": [
    "a = -1\n",
    "while a < 4:\n",
    "    print(a,\" is less than 4\")\n",
    "    a =a+1\n",
    "    if a < 0:\n",
    "        break\n",
    "else:\n",
    "    print(a,\" is greater than or equal to 4\")"
   ]
  },
  {
   "cell_type": "code",
   "execution_count": 70,
   "id": "50c5faf6",
   "metadata": {},
   "outputs": [
    {
     "name": "stdout",
     "output_type": "stream",
     "text": [
      "a is less than 0\n"
     ]
    }
   ],
   "source": [
    "a = -1\n",
    "while a < 4:\n",
    "    if a < 0:\n",
    "        print('a is less than 0')\n",
    "        break\n",
    "    print(a,\" is less than 4\")\n",
    "    a =a+1\n",
    "\n",
    "else:\n",
    "    print(a,\" is greater than or equal to 4\")"
   ]
  },
  {
   "cell_type": "code",
   "execution_count": 71,
   "id": "6fec26fc",
   "metadata": {},
   "outputs": [
    {
     "name": "stdout",
     "output_type": "stream",
     "text": [
      "0\n",
      "1\n",
      "2\n",
      "3\n",
      "4\n"
     ]
    }
   ],
   "source": [
    "a = 0\n",
    "while a < 10:\n",
    "    if a == 5:\n",
    "        break\n",
    "    print(a)\n",
    "    a += 1 # a = a+1"
   ]
  },
  {
   "cell_type": "code",
   "execution_count": 72,
   "id": "e50f5009",
   "metadata": {},
   "outputs": [
    {
     "name": "stdout",
     "output_type": "stream",
     "text": [
      "6\n",
      "7\n",
      "8\n",
      "9\n"
     ]
    }
   ],
   "source": [
    "a = 6\n",
    "while a < 10:\n",
    "    if a == 5:\n",
    "        break\n",
    "    print(a)\n",
    "    a += 1 # a = a+1"
   ]
  },
  {
   "cell_type": "code",
   "execution_count": 73,
   "id": "5babf290",
   "metadata": {},
   "outputs": [],
   "source": [
    "a = 6\n",
    "while a < 10:\n",
    "    if a >= 5:\n",
    "        break\n",
    "    print(a)\n",
    "    a += 1 # a = a+1"
   ]
  },
  {
   "cell_type": "code",
   "execution_count": null,
   "id": "a7346de4",
   "metadata": {},
   "outputs": [],
   "source": []
  },
  {
   "cell_type": "code",
   "execution_count": null,
   "id": "97b21984",
   "metadata": {},
   "outputs": [],
   "source": []
  },
  {
   "cell_type": "markdown",
   "id": "9a3b03af",
   "metadata": {},
   "source": [
    "## **continue** key word"
   ]
  },
  {
   "cell_type": "code",
   "execution_count": 75,
   "id": "c83afca2",
   "metadata": {},
   "outputs": [
    {
     "name": "stdout",
     "output_type": "stream",
     "text": [
      "0\n",
      "1\n",
      "2\n",
      "3\n",
      "4\n",
      "5\n",
      "6\n",
      "7\n",
      "8\n",
      "9\n"
     ]
    }
   ],
   "source": [
    "a = 0\n",
    "while a < 10:\n",
    "    print(a)\n",
    "    a += 1"
   ]
  },
  {
   "cell_type": "code",
   "execution_count": 78,
   "id": "918cd99a",
   "metadata": {},
   "outputs": [
    {
     "name": "stdout",
     "output_type": "stream",
     "text": [
      "0\n",
      "1\n",
      "2\n",
      "3\n",
      "4\n",
      "5\n",
      "6\n",
      "7\n",
      "8\n",
      "9\n"
     ]
    }
   ],
   "source": [
    "a = 0\n",
    "while a < 10:\n",
    "    print(a)\n",
    "    if a == 5:\n",
    "        a += 1\n",
    "        continue\n",
    "    a += 1"
   ]
  },
  {
   "cell_type": "code",
   "execution_count": 79,
   "id": "b1698ae5",
   "metadata": {},
   "outputs": [],
   "source": [
    "## list of values if any values square is greater than 100 break the loop"
   ]
  },
  {
   "cell_type": "code",
   "execution_count": 84,
   "id": "29439b3a",
   "metadata": {},
   "outputs": [],
   "source": [
    "lst = [5,2,7,4,12,10, 9,45]"
   ]
  },
  {
   "cell_type": "code",
   "execution_count": 85,
   "id": "96817319",
   "metadata": {},
   "outputs": [
    {
     "name": "stdout",
     "output_type": "stream",
     "text": [
      "25\n",
      "4\n",
      "49\n",
      "16\n"
     ]
    }
   ],
   "source": [
    "a = 0\n",
    "while a < len(lst):\n",
    "    val = lst[a]*lst[a] # lst[a]**2\n",
    "    if val > 100:\n",
    "        break\n",
    "    print(val)\n",
    "    a += 1\n",
    "    "
   ]
  },
  {
   "cell_type": "code",
   "execution_count": 87,
   "id": "8fa52448",
   "metadata": {},
   "outputs": [
    {
     "name": "stdout",
     "output_type": "stream",
     "text": [
      "25\n",
      "4\n",
      "49\n",
      "16\n",
      "100\n",
      "81\n"
     ]
    }
   ],
   "source": [
    "a = 0\n",
    "while a < len(lst):\n",
    "    val = lst[a]*lst[a] # lst[a]**2\n",
    "    if val > 100:\n",
    "        a += 1\n",
    "        continue\n",
    "    print(val)\n",
    "    a += 1"
   ]
  },
  {
   "cell_type": "code",
   "execution_count": null,
   "id": "fb2a37ef",
   "metadata": {},
   "outputs": [],
   "source": []
  },
  {
   "cell_type": "code",
   "execution_count": null,
   "id": "fecfa46a",
   "metadata": {},
   "outputs": [],
   "source": []
  },
  {
   "cell_type": "code",
   "execution_count": null,
   "id": "4679c14c",
   "metadata": {},
   "outputs": [],
   "source": []
  },
  {
   "cell_type": "code",
   "execution_count": null,
   "id": "948b2c2b",
   "metadata": {},
   "outputs": [],
   "source": []
  },
  {
   "cell_type": "markdown",
   "id": "5956b688",
   "metadata": {},
   "source": [
    "## nested while loop"
   ]
  },
  {
   "cell_type": "code",
   "execution_count": null,
   "id": "db0b4b19",
   "metadata": {},
   "outputs": [
    {
     "name": "stdout",
     "output_type": "stream",
     "text": [
      "0\n",
      "1\n",
      "2\n",
      "3\n",
      "4\n"
     ]
    }
   ],
   "source": [
    "outter = 0\n",
    "inner = 0\n",
    "while outter < 5:\n",
    "    inner =0\n",
    "    while inner < 5:\n",
    "        print(inner)\n",
    "    print('')\n",
    "    outter += 1"
   ]
  },
  {
   "cell_type": "code",
   "execution_count": null,
   "id": "86f73593",
   "metadata": {},
   "outputs": [],
   "source": []
  },
  {
   "cell_type": "code",
   "execution_count": null,
   "id": "1e5cb4a0",
   "metadata": {},
   "outputs": [],
   "source": []
  },
  {
   "cell_type": "code",
   "execution_count": null,
   "id": "dd37ba5c",
   "metadata": {},
   "outputs": [],
   "source": []
  },
  {
   "cell_type": "markdown",
   "id": "e86319c9",
   "metadata": {},
   "source": [
    "## looping over iterables"
   ]
  },
  {
   "cell_type": "markdown",
   "id": "62bc6ec1",
   "metadata": {},
   "source": []
  }
 ],
 "metadata": {
  "kernelspec": {
   "display_name": ".venv",
   "language": "python",
   "name": "python3"
  },
  "language_info": {
   "codemirror_mode": {
    "name": "ipython",
    "version": 3
   },
   "file_extension": ".py",
   "mimetype": "text/x-python",
   "name": "python",
   "nbconvert_exporter": "python",
   "pygments_lexer": "ipython3",
   "version": "3.12.5"
  }
 },
 "nbformat": 4,
 "nbformat_minor": 5
}
