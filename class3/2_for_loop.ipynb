{
 "cells": [
  {
   "cell_type": "markdown",
   "id": "d83a22d8",
   "metadata": {},
   "source": [
    "# FOR LOOP"
   ]
  },
  {
   "cell_type": "markdown",
   "id": "4674e703",
   "metadata": {},
   "source": [
    "## Agenda\n",
    "- `for` loop syntax\n",
    "- what are iterabels?\n",
    "- more about `range` and `enumerate` functions\n",
    "- `else`, `break` and `continue` \n",
    "- nested for loop"
   ]
  },
  {
   "cell_type": "markdown",
   "id": "93ee7d82",
   "metadata": {},
   "source": [
    "## **for** loop syntax"
   ]
  },
  {
   "cell_type": "markdown",
   "id": "20ff4c9f",
   "metadata": {},
   "source": [
    "```python\n",
    "for <var> in <iterables>:\n",
    "    statement\n",
    "```    "
   ]
  },
  {
   "cell_type": "code",
   "execution_count": 4,
   "id": "f3effca2",
   "metadata": {},
   "outputs": [
    {
     "name": "stdout",
     "output_type": "stream",
     "text": [
      "0\n",
      "start\n",
      "1\n",
      "start\n",
      "2\n",
      "start\n",
      "3\n",
      "start\n",
      "4\n",
      "start\n",
      "end\n"
     ]
    }
   ],
   "source": [
    "for a in range(0,5):\n",
    "    print(a)\n",
    "    print('start')\n",
    "print('end')"
   ]
  },
  {
   "cell_type": "code",
   "execution_count": null,
   "id": "24701007",
   "metadata": {},
   "outputs": [],
   "source": []
  },
  {
   "cell_type": "code",
   "execution_count": null,
   "id": "d816dc4b",
   "metadata": {},
   "outputs": [],
   "source": [
    "# 100 -> 50 -> 25 -> 12 -> 6 -> 3 -> 1"
   ]
  },
  {
   "cell_type": "markdown",
   "id": "87be7fee",
   "metadata": {},
   "source": [
    "## what are iterabels?"
   ]
  },
  {
   "cell_type": "code",
   "execution_count": 3,
   "id": "c71dc849",
   "metadata": {},
   "outputs": [],
   "source": [
    "# list, tuple set, dict, range , map "
   ]
  },
  {
   "cell_type": "code",
   "execution_count": null,
   "id": "e43bc345",
   "metadata": {},
   "outputs": [],
   "source": []
  },
  {
   "cell_type": "markdown",
   "id": "66d117b1",
   "metadata": {},
   "source": [
    "## more about **range** and **enumerate**  functions"
   ]
  },
  {
   "cell_type": "code",
   "execution_count": 1,
   "id": "64ef097d",
   "metadata": {},
   "outputs": [
    {
     "data": {
      "text/plain": [
       "[-5, -4, -3, -2, -1, 0, 1, 2, 3, 4]"
      ]
     },
     "execution_count": 1,
     "metadata": {},
     "output_type": "execute_result"
    }
   ],
   "source": [
    "list(range(-5,5))"
   ]
  },
  {
   "cell_type": "code",
   "execution_count": 21,
   "id": "94fd4f58",
   "metadata": {},
   "outputs": [
    {
     "data": {
      "text/plain": [
       "[1, 2, 3, 4]"
      ]
     },
     "execution_count": 21,
     "metadata": {},
     "output_type": "execute_result"
    }
   ],
   "source": [
    "list(range(1,5))"
   ]
  },
  {
   "cell_type": "code",
   "execution_count": 22,
   "id": "7dec3c51",
   "metadata": {},
   "outputs": [
    {
     "data": {
      "text/plain": [
       "[]"
      ]
     },
     "execution_count": 22,
     "metadata": {},
     "output_type": "execute_result"
    }
   ],
   "source": [
    "list(range(6,5))"
   ]
  },
  {
   "cell_type": "code",
   "execution_count": 24,
   "id": "f4af88cf",
   "metadata": {},
   "outputs": [
    {
     "data": {
      "text/plain": [
       "[1, 2, 3, 4, 5]"
      ]
     },
     "execution_count": 24,
     "metadata": {},
     "output_type": "execute_result"
    }
   ],
   "source": [
    "list(range(1,6))"
   ]
  },
  {
   "cell_type": "code",
   "execution_count": 25,
   "id": "b0180950",
   "metadata": {},
   "outputs": [
    {
     "data": {
      "text/plain": [
       "[1, 2, 3, 4, 5]"
      ]
     },
     "execution_count": 25,
     "metadata": {},
     "output_type": "execute_result"
    }
   ],
   "source": [
    "list(range(1,6,1))"
   ]
  },
  {
   "cell_type": "code",
   "execution_count": 27,
   "id": "2051a99a",
   "metadata": {},
   "outputs": [
    {
     "data": {
      "text/plain": [
       "[1, 3, 5]"
      ]
     },
     "execution_count": 27,
     "metadata": {},
     "output_type": "execute_result"
    }
   ],
   "source": [
    "list(range(1,6,2))"
   ]
  },
  {
   "cell_type": "code",
   "execution_count": 6,
   "id": "25791d5d",
   "metadata": {},
   "outputs": [
    {
     "data": {
      "text/plain": [
       "[-5, -3, -1, 1, 3]"
      ]
     },
     "execution_count": 6,
     "metadata": {},
     "output_type": "execute_result"
    }
   ],
   "source": [
    "list(range(-5,5,2))"
   ]
  },
  {
   "cell_type": "code",
   "execution_count": 4,
   "id": "c7dc1846",
   "metadata": {},
   "outputs": [
    {
     "name": "stdout",
     "output_type": "stream",
     "text": [
      "0\n",
      "1\n",
      "2\n",
      "3\n",
      "4\n"
     ]
    }
   ],
   "source": [
    "for a in range(5):\n",
    "    print(a)"
   ]
  },
  {
   "cell_type": "code",
   "execution_count": 5,
   "id": "15902487",
   "metadata": {},
   "outputs": [],
   "source": [
    "lst = [34,12,1,2,3]"
   ]
  },
  {
   "cell_type": "code",
   "execution_count": 6,
   "id": "25232eaa",
   "metadata": {},
   "outputs": [
    {
     "name": "stdout",
     "output_type": "stream",
     "text": [
      "34\n",
      "12\n",
      "1\n",
      "2\n",
      "3\n"
     ]
    }
   ],
   "source": [
    "a = 0\n",
    "while a < len(lst):\n",
    "    print(lst[a])\n",
    "    a += 1"
   ]
  },
  {
   "cell_type": "code",
   "execution_count": 8,
   "id": "dfb43872",
   "metadata": {},
   "outputs": [
    {
     "name": "stdout",
     "output_type": "stream",
     "text": [
      "34\n",
      "12\n",
      "1\n",
      "2\n",
      "3\n"
     ]
    }
   ],
   "source": [
    "for a in lst:\n",
    "    print(a)"
   ]
  },
  {
   "cell_type": "code",
   "execution_count": 10,
   "id": "1325172c",
   "metadata": {},
   "outputs": [
    {
     "name": "stdout",
     "output_type": "stream",
     "text": [
      "1\n",
      "2\n",
      "3\n",
      "4\n"
     ]
    }
   ],
   "source": [
    "t = (1,2,3,4)\n",
    "for i in t:\n",
    "    print(i)"
   ]
  },
  {
   "cell_type": "code",
   "execution_count": 11,
   "id": "204ad48f",
   "metadata": {},
   "outputs": [
    {
     "name": "stdout",
     "output_type": "stream",
     "text": [
      "1\n",
      "2\n",
      "3\n",
      "4\n"
     ]
    }
   ],
   "source": [
    "for i in (1,2,3,4):\n",
    "    print(i)"
   ]
  },
  {
   "cell_type": "code",
   "execution_count": 12,
   "id": "430a4ecf",
   "metadata": {},
   "outputs": [
    {
     "name": "stdout",
     "output_type": "stream",
     "text": [
      "1\n",
      "2\n",
      "3\n",
      "4\n"
     ]
    }
   ],
   "source": [
    "s= {1,2,3,4}\n",
    "for i in s:\n",
    "    print(i)"
   ]
  },
  {
   "cell_type": "code",
   "execution_count": 13,
   "id": "d0760647",
   "metadata": {},
   "outputs": [
    {
     "name": "stdout",
     "output_type": "stream",
     "text": [
      "a\n",
      "b\n",
      "c\n"
     ]
    }
   ],
   "source": [
    "d = dict(a=20, b=30, c=40)\n",
    "for i in d:\n",
    "    print(i)"
   ]
  },
  {
   "cell_type": "code",
   "execution_count": 14,
   "id": "e71dc259",
   "metadata": {},
   "outputs": [
    {
     "data": {
      "text/plain": [
       "dict_items([('a', 20), ('b', 30), ('c', 40)])"
      ]
     },
     "execution_count": 14,
     "metadata": {},
     "output_type": "execute_result"
    }
   ],
   "source": [
    "d.items()"
   ]
  },
  {
   "cell_type": "code",
   "execution_count": 15,
   "id": "64d443d1",
   "metadata": {},
   "outputs": [
    {
     "name": "stdout",
     "output_type": "stream",
     "text": [
      "a 20\n",
      "b 30\n",
      "c 40\n"
     ]
    }
   ],
   "source": [
    "for key, val in d.items():\n",
    "    print(key,val)"
   ]
  },
  {
   "cell_type": "code",
   "execution_count": null,
   "id": "40d5847a",
   "metadata": {},
   "outputs": [],
   "source": []
  },
  {
   "cell_type": "code",
   "execution_count": null,
   "id": "7d87917b",
   "metadata": {},
   "outputs": [],
   "source": []
  },
  {
   "cell_type": "markdown",
   "id": "c55657d9",
   "metadata": {},
   "source": [
    "## **else**, **break** and **continue** "
   ]
  },
  {
   "cell_type": "code",
   "execution_count": null,
   "id": "7ee30c6b",
   "metadata": {},
   "outputs": [],
   "source": [
    "# range(<start>, <end> , <step>)\n",
    "# range(5)\n",
    "# range(0,5,1)\n",
    "\n",
    "# range(2,5)\n",
    "# range(2,5,1)\n",
    "\n",
    "# range(2,10,3)\n",
    "# range(2,10,3)"
   ]
  },
  {
   "cell_type": "code",
   "execution_count": 9,
   "id": "20211df8",
   "metadata": {},
   "outputs": [
    {
     "name": "stdout",
     "output_type": "stream",
     "text": [
      "0\n",
      "1\n",
      "2\n",
      "3\n",
      "4\n",
      "5\n",
      "6\n",
      "7\n",
      "8\n",
      "9\n"
     ]
    }
   ],
   "source": [
    "for i in range(0,10,1):\n",
    "    print(i)"
   ]
  },
  {
   "cell_type": "code",
   "execution_count": 10,
   "id": "4b6d7242",
   "metadata": {},
   "outputs": [
    {
     "name": "stdout",
     "output_type": "stream",
     "text": [
      "0\n",
      "2\n",
      "4\n",
      "6\n",
      "8\n"
     ]
    }
   ],
   "source": [
    "for i in range(0,10,2):\n",
    "    print(i)"
   ]
  },
  {
   "cell_type": "code",
   "execution_count": null,
   "id": "bd3effe8",
   "metadata": {},
   "outputs": [],
   "source": [
    "# val ** pow"
   ]
  },
  {
   "cell_type": "code",
   "execution_count": 13,
   "id": "efc375e1",
   "metadata": {},
   "outputs": [
    {
     "name": "stdout",
     "output_type": "stream",
     "text": [
      "1\n",
      "4\n",
      "9\n",
      "16\n",
      "25\n",
      "36\n",
      "49\n",
      "64\n",
      "81\n",
      "100\n"
     ]
    }
   ],
   "source": [
    "for i in range(1,11,1):\n",
    "    print(i*i)\n"
   ]
  },
  {
   "cell_type": "code",
   "execution_count": 15,
   "id": "7501684e",
   "metadata": {},
   "outputs": [
    {
     "name": "stdout",
     "output_type": "stream",
     "text": [
      "4\n",
      "2\n",
      "5\n",
      "7\n",
      "29\n",
      "4\n",
      "7\n"
     ]
    }
   ],
   "source": [
    "lst = [4,2,5,7,29,4,7]\n",
    "for i in lst:\n",
    "    print(i)"
   ]
  },
  {
   "cell_type": "code",
   "execution_count": 16,
   "id": "ccb2c9d7",
   "metadata": {},
   "outputs": [
    {
     "name": "stdout",
     "output_type": "stream",
     "text": [
      "4\n",
      "2\n",
      "4\n"
     ]
    }
   ],
   "source": [
    "lst = [4,2,5,7,29,4,7]\n",
    "for i in lst:\n",
    "    if i%2 == 0:\n",
    "        print(i)"
   ]
  },
  {
   "cell_type": "code",
   "execution_count": null,
   "id": "971a5d64",
   "metadata": {},
   "outputs": [],
   "source": []
  },
  {
   "cell_type": "markdown",
   "id": "a11a4f1b",
   "metadata": {},
   "source": [
    "## nested for loop"
   ]
  },
  {
   "cell_type": "markdown",
   "id": "f74d3162",
   "metadata": {},
   "source": []
  },
  {
   "cell_type": "code",
   "execution_count": null,
   "id": "5d5af74e",
   "metadata": {},
   "outputs": [
    {
     "name": "stdout",
     "output_type": "stream",
     "text": [
      "0 0\n",
      "0 1\n",
      "0 2\n",
      "1 0\n",
      "1 1\n",
      "1 2\n"
     ]
    }
   ],
   "source": [
    "i = 0\n",
    "while i < 2:\n",
    "    j = 0\n",
    "    while j < 3:\n",
    "        print(i,j)\n",
    "        j += 1\n",
    "    i += 1    \n"
   ]
  },
  {
   "cell_type": "code",
   "execution_count": 7,
   "id": "7beb55c8",
   "metadata": {},
   "outputs": [
    {
     "name": "stdout",
     "output_type": "stream",
     "text": [
      "0 0\n",
      "0 1\n",
      "0 2\n",
      "end of inner loop\n",
      "1 0\n",
      "1 1\n",
      "1 2\n",
      "end of inner loop\n"
     ]
    }
   ],
   "source": [
    "for i in range(2):\n",
    "    for j in range(3):\n",
    "        print(i,j)\n",
    "    print(\"end of inner loop\")    "
   ]
  },
  {
   "cell_type": "code",
   "execution_count": 8,
   "id": "dbb971f4",
   "metadata": {},
   "outputs": [
    {
     "name": "stdout",
     "output_type": "stream",
     "text": [
      "0 0\n",
      "end of inner loop\n",
      "0 1\n",
      "end of inner loop\n",
      "0 2\n",
      "end of inner loop\n",
      "1 0\n",
      "end of inner loop\n",
      "1 1\n",
      "end of inner loop\n",
      "1 2\n",
      "end of inner loop\n"
     ]
    }
   ],
   "source": [
    "for i in range(2):\n",
    "    for j in range(3):\n",
    "        print(i,j)\n",
    "        print(\"end of inner loop\")    "
   ]
  },
  {
   "cell_type": "code",
   "execution_count": 5,
   "id": "06135698",
   "metadata": {},
   "outputs": [
    {
     "name": "stdout",
     "output_type": "stream",
     "text": [
      "********\n",
      "1 0\n",
      "1 1\n",
      "1 2\n"
     ]
    }
   ],
   "source": [
    "for i in range(2):\n",
    "    # print(i)\n",
    "    x = i >= 1\n",
    "\n",
    "\n",
    "print('*'*8)\n",
    "\n",
    "for j in range(3):\n",
    "    print(i,j)\n"
   ]
  },
  {
   "cell_type": "code",
   "execution_count": null,
   "id": "051d0df8",
   "metadata": {},
   "outputs": [],
   "source": []
  }
 ],
 "metadata": {
  "kernelspec": {
   "display_name": ".venv",
   "language": "python",
   "name": "python3"
  },
  "language_info": {
   "codemirror_mode": {
    "name": "ipython",
    "version": 3
   },
   "file_extension": ".py",
   "mimetype": "text/x-python",
   "name": "python",
   "nbconvert_exporter": "python",
   "pygments_lexer": "ipython3",
   "version": "3.12.5"
  }
 },
 "nbformat": 4,
 "nbformat_minor": 5
}
