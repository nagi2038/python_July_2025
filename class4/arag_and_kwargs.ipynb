{
 "cells": [
  {
   "cell_type": "code",
   "execution_count": 1,
   "id": "292ee318",
   "metadata": {},
   "outputs": [],
   "source": [
    "def add(a,b):\n",
    "    return a+b"
   ]
  },
  {
   "cell_type": "code",
   "execution_count": 2,
   "id": "0f2c12d1",
   "metadata": {},
   "outputs": [
    {
     "data": {
      "text/plain": [
       "7"
      ]
     },
     "execution_count": 2,
     "metadata": {},
     "output_type": "execute_result"
    }
   ],
   "source": [
    "add(3,4)"
   ]
  },
  {
   "cell_type": "code",
   "execution_count": 3,
   "id": "422b4082",
   "metadata": {},
   "outputs": [
    {
     "ename": "TypeError",
     "evalue": "add() takes 2 positional arguments but 3 were given",
     "output_type": "error",
     "traceback": [
      "\u001b[31m---------------------------------------------------------------------------\u001b[39m",
      "\u001b[31mTypeError\u001b[39m                                 Traceback (most recent call last)",
      "\u001b[36mCell\u001b[39m\u001b[36m \u001b[39m\u001b[32mIn[3]\u001b[39m\u001b[32m, line 1\u001b[39m\n\u001b[32m----> \u001b[39m\u001b[32m1\u001b[39m \u001b[43madd\u001b[49m\u001b[43m(\u001b[49m\u001b[32;43m3\u001b[39;49m\u001b[43m,\u001b[49m\u001b[32;43m4\u001b[39;49m\u001b[43m,\u001b[49m\u001b[32;43m5\u001b[39;49m\u001b[43m)\u001b[49m\n",
      "\u001b[31mTypeError\u001b[39m: add() takes 2 positional arguments but 3 were given"
     ]
    }
   ],
   "source": [
    "add(3,4,5)"
   ]
  },
  {
   "cell_type": "code",
   "execution_count": 4,
   "id": "4bee3451",
   "metadata": {},
   "outputs": [],
   "source": [
    "a = 1,2,3"
   ]
  },
  {
   "cell_type": "code",
   "execution_count": 5,
   "id": "39757632",
   "metadata": {},
   "outputs": [
    {
     "name": "stdout",
     "output_type": "stream",
     "text": [
      "(1, 2, 3)\n"
     ]
    }
   ],
   "source": [
    "print(a)"
   ]
  },
  {
   "cell_type": "code",
   "execution_count": 6,
   "id": "13ef8fc8",
   "metadata": {},
   "outputs": [],
   "source": [
    "from typing import List , Tuple, Any"
   ]
  },
  {
   "cell_type": "code",
   "execution_count": null,
   "id": "b5bad9f2",
   "metadata": {},
   "outputs": [],
   "source": [
    "def sayHi(lst : List[str] , default = [1,2]) -> List[Any]:\n",
    "    for i in lst:\n",
    "        print(i.upper())\n",
    "    return 1    "
   ]
  },
  {
   "cell_type": "code",
   "execution_count": 22,
   "id": "3d9ef481",
   "metadata": {},
   "outputs": [
    {
     "name": "stdout",
     "output_type": "stream",
     "text": [
      "PYTHON\n",
      "JAVA\n",
      "C#\n"
     ]
    },
    {
     "data": {
      "text/plain": [
       "1"
      ]
     },
     "execution_count": 22,
     "metadata": {},
     "output_type": "execute_result"
    }
   ],
   "source": [
    "sayHi(lst=\"python java c#\".split())"
   ]
  },
  {
   "cell_type": "code",
   "execution_count": 18,
   "id": "e1d8d391",
   "metadata": {},
   "outputs": [],
   "source": [
    "a = 10"
   ]
  },
  {
   "cell_type": "code",
   "execution_count": 11,
   "id": "47d623ff",
   "metadata": {},
   "outputs": [],
   "source": [
    "a : int = 10"
   ]
  },
  {
   "cell_type": "code",
   "execution_count": 12,
   "id": "1638504c",
   "metadata": {},
   "outputs": [],
   "source": [
    "a :float = 10"
   ]
  },
  {
   "cell_type": "code",
   "execution_count": 13,
   "id": "93e47109",
   "metadata": {},
   "outputs": [
    {
     "name": "stdout",
     "output_type": "stream",
     "text": [
      "10\n"
     ]
    }
   ],
   "source": [
    "print(a)"
   ]
  },
  {
   "cell_type": "code",
   "execution_count": null,
   "id": "f30e2a7f",
   "metadata": {},
   "outputs": [],
   "source": [
    "def sayHi1(lst ):\n",
    "    for i in lst:\n",
    "        print(i.)"
   ]
  },
  {
   "cell_type": "code",
   "execution_count": 29,
   "id": "bbf2cf7d",
   "metadata": {},
   "outputs": [
    {
     "name": "stdout",
     "output_type": "stream",
     "text": [
      "0 4\n",
      "3 5\n",
      "2 6\n",
      "2 7\n",
      "2 8\n"
     ]
    }
   ],
   "source": [
    "lst : List[int] = [2,5,4,3,2,1,0,0,0]\n",
    "target : int = 4\n",
    "m  ={}\n",
    "for i in range(len(lst)):\n",
    "    c = target - lst[i]\n",
    "    if c in m:\n",
    "        print(m[c] ,i)\n",
    "    m[lst[i]] =   i  \n",
    "# possible outcomes = (0,2), ()"
   ]
  },
  {
   "cell_type": "code",
   "execution_count": 1,
   "id": "23708a8f",
   "metadata": {},
   "outputs": [],
   "source": [
    "def mult(a,b):\n",
    "    return a*b"
   ]
  },
  {
   "cell_type": "code",
   "execution_count": 2,
   "id": "7735628f",
   "metadata": {},
   "outputs": [
    {
     "data": {
      "text/plain": [
       "200"
      ]
     },
     "execution_count": 2,
     "metadata": {},
     "output_type": "execute_result"
    }
   ],
   "source": [
    "a,b = 10,20\n",
    "mult(a,b)"
   ]
  },
  {
   "cell_type": "code",
   "execution_count": 4,
   "id": "cb978890",
   "metadata": {},
   "outputs": [
    {
     "data": {
      "text/plain": [
       "2"
      ]
     },
     "execution_count": 4,
     "metadata": {},
     "output_type": "execute_result"
    }
   ],
   "source": [
    "x,y,z = 1,2,3\n",
    "output1 = mult(x,y)\n",
    "output1"
   ]
  },
  {
   "cell_type": "code",
   "execution_count": 6,
   "id": "48337cf4",
   "metadata": {},
   "outputs": [
    {
     "data": {
      "text/plain": [
       "6"
      ]
     },
     "execution_count": 6,
     "metadata": {},
     "output_type": "execute_result"
    }
   ],
   "source": [
    "mult(output1, z)"
   ]
  },
  {
   "cell_type": "code",
   "execution_count": 7,
   "id": "8ada13d1",
   "metadata": {},
   "outputs": [
    {
     "ename": "TypeError",
     "evalue": "mult() takes 2 positional arguments but 3 were given",
     "output_type": "error",
     "traceback": [
      "\u001b[31m---------------------------------------------------------------------------\u001b[39m",
      "\u001b[31mTypeError\u001b[39m                                 Traceback (most recent call last)",
      "\u001b[36mCell\u001b[39m\u001b[36m \u001b[39m\u001b[32mIn[7]\u001b[39m\u001b[32m, line 1\u001b[39m\n\u001b[32m----> \u001b[39m\u001b[32m1\u001b[39m \u001b[43mmult\u001b[49m\u001b[43m(\u001b[49m\u001b[43mx\u001b[49m\u001b[43m,\u001b[49m\u001b[43my\u001b[49m\u001b[43m,\u001b[49m\u001b[43mz\u001b[49m\u001b[43m)\u001b[49m\n",
      "\u001b[31mTypeError\u001b[39m: mult() takes 2 positional arguments but 3 were given"
     ]
    }
   ],
   "source": [
    "mult(x,y,z)"
   ]
  },
  {
   "cell_type": "code",
   "execution_count": null,
   "id": "b11cca19",
   "metadata": {},
   "outputs": [],
   "source": [
    "def adv_mult(*a):\n",
    "    print(type(a), a)"
   ]
  },
  {
   "cell_type": "code",
   "execution_count": 9,
   "id": "67da2653",
   "metadata": {},
   "outputs": [
    {
     "name": "stdout",
     "output_type": "stream",
     "text": [
      "<class 'tuple'> (1,)\n"
     ]
    }
   ],
   "source": [
    "x,y,z = 1,2,3\n",
    "adv_mult(x)"
   ]
  },
  {
   "cell_type": "code",
   "execution_count": 10,
   "id": "71879bd0",
   "metadata": {},
   "outputs": [
    {
     "name": "stdout",
     "output_type": "stream",
     "text": [
      "<class 'tuple'> (1, 2, 3)\n"
     ]
    }
   ],
   "source": [
    "adv_mult(x,y,z)"
   ]
  },
  {
   "cell_type": "code",
   "execution_count": 16,
   "id": "433c4c8c",
   "metadata": {},
   "outputs": [
    {
     "name": "stdout",
     "output_type": "stream",
     "text": [
      "python is a codinglanguage\n",
      "python***is***a***coding***language\n"
     ]
    }
   ],
   "source": [
    "x = [1,2,3,4,5]\n",
    "print(\"python\",\"is\", \"a\", \"coding\" \"language\", )\n",
    "print(\"python\",\"is\", \"a\", \"coding\", \"language\", sep=\"***\")\n"
   ]
  },
  {
   "cell_type": "code",
   "execution_count": 19,
   "id": "c63e7689",
   "metadata": {},
   "outputs": [
    {
     "name": "stdout",
     "output_type": "stream",
     "text": [
      "[1, 2, 3, 4, 5]\n",
      "1-2-3-4-5\n",
      "1-2-3-4-5\n"
     ]
    }
   ],
   "source": [
    "print(x, sep=\"-\")\n",
    "print(*x, sep=\"-\")\n",
    "print(1,2,3,4,5,sep='-')"
   ]
  },
  {
   "cell_type": "code",
   "execution_count": 20,
   "id": "6f02e525",
   "metadata": {},
   "outputs": [],
   "source": [
    "a = 1,2,3"
   ]
  },
  {
   "cell_type": "code",
   "execution_count": 21,
   "id": "e6d42218",
   "metadata": {},
   "outputs": [
    {
     "data": {
      "text/plain": [
       "tuple"
      ]
     },
     "execution_count": 21,
     "metadata": {},
     "output_type": "execute_result"
    }
   ],
   "source": [
    "type(a)"
   ]
  },
  {
   "cell_type": "code",
   "execution_count": 22,
   "id": "97c250e9",
   "metadata": {},
   "outputs": [],
   "source": [
    "a,b = 1,2"
   ]
  },
  {
   "cell_type": "code",
   "execution_count": 25,
   "id": "268f52c8",
   "metadata": {},
   "outputs": [],
   "source": [
    "def adv_add(*args) -> None:\n",
    "    print(type(args), args)"
   ]
  },
  {
   "cell_type": "code",
   "execution_count": 26,
   "id": "aa626bf0",
   "metadata": {},
   "outputs": [
    {
     "name": "stdout",
     "output_type": "stream",
     "text": [
      "<class 'tuple'> (1, 2, 3)\n"
     ]
    }
   ],
   "source": [
    "adv_add(1,2,3)"
   ]
  },
  {
   "cell_type": "code",
   "execution_count": 28,
   "id": "6f6fdaf9",
   "metadata": {},
   "outputs": [],
   "source": [
    "def adv_add(*args) -> int:\n",
    "    output = 0\n",
    "    for i in args:\n",
    "        output = output + i # output1 += i\n",
    "    return output   "
   ]
  },
  {
   "cell_type": "code",
   "execution_count": 32,
   "id": "9886863f",
   "metadata": {},
   "outputs": [
    {
     "data": {
      "text/plain": [
       "6"
      ]
     },
     "execution_count": 32,
     "metadata": {},
     "output_type": "execute_result"
    }
   ],
   "source": [
    "x,y,z=1,2,3\n",
    "adv_add(x,y,z)"
   ]
  },
  {
   "cell_type": "code",
   "execution_count": 33,
   "id": "9bcf3ade",
   "metadata": {},
   "outputs": [],
   "source": [
    "def greet(name):\n",
    "    print(f'welcom {name}')"
   ]
  },
  {
   "cell_type": "code",
   "execution_count": 34,
   "id": "3f38eb4f",
   "metadata": {},
   "outputs": [
    {
     "name": "stdout",
     "output_type": "stream",
     "text": [
      "welcom python\n"
     ]
    }
   ],
   "source": [
    "greet(\"python\")"
   ]
  },
  {
   "cell_type": "code",
   "execution_count": 35,
   "id": "b9745e91",
   "metadata": {},
   "outputs": [
    {
     "ename": "TypeError",
     "evalue": "greet() missing 1 required positional argument: 'name'",
     "output_type": "error",
     "traceback": [
      "\u001b[31m---------------------------------------------------------------------------\u001b[39m",
      "\u001b[31mTypeError\u001b[39m                                 Traceback (most recent call last)",
      "\u001b[36mCell\u001b[39m\u001b[36m \u001b[39m\u001b[32mIn[35]\u001b[39m\u001b[32m, line 1\u001b[39m\n\u001b[32m----> \u001b[39m\u001b[32m1\u001b[39m \u001b[43mgreet\u001b[49m\u001b[43m(\u001b[49m\u001b[43m)\u001b[49m\n",
      "\u001b[31mTypeError\u001b[39m: greet() missing 1 required positional argument: 'name'"
     ]
    }
   ],
   "source": [
    "greet()"
   ]
  },
  {
   "cell_type": "code",
   "execution_count": 36,
   "id": "2ebd78b9",
   "metadata": {},
   "outputs": [],
   "source": [
    "def greet(name=\"Guest\"):\n",
    "    print(f'welcom {name}')"
   ]
  },
  {
   "cell_type": "code",
   "execution_count": null,
   "id": "d0e5c779",
   "metadata": {},
   "outputs": [
    {
     "name": "stdout",
     "output_type": "stream",
     "text": [
      "welcom python\n"
     ]
    }
   ],
   "source": [
    "greet(\"python\")"
   ]
  },
  {
   "cell_type": "code",
   "execution_count": 38,
   "id": "84e29ed6",
   "metadata": {},
   "outputs": [
    {
     "name": "stdout",
     "output_type": "stream",
     "text": [
      "welcom Guest\n"
     ]
    }
   ],
   "source": [
    "greet()"
   ]
  },
  {
   "cell_type": "code",
   "execution_count": 42,
   "id": "90d54e4a",
   "metadata": {},
   "outputs": [
    {
     "name": "stdout",
     "output_type": "stream",
     "text": [
      "1 2 3 4 5 6 7\n",
      "1->2->3->4->5->6->7\n"
     ]
    }
   ],
   "source": [
    "print(1,2,3,4,5,6,7)\n",
    "print(1,2,3,4,5,6,7, sep=\"->\")"
   ]
  },
  {
   "cell_type": "code",
   "execution_count": 44,
   "id": "e0b20b0a",
   "metadata": {},
   "outputs": [
    {
     "name": "stdout",
     "output_type": "stream",
     "text": [
      "1 2 3 4 5 6 7<--->1 2 3 4 5 6 7\n"
     ]
    }
   ],
   "source": [
    "print(1,2,3,4,5,6,7, end=\"<--->\")\n",
    "print(1,2,3,4,5,6,7)"
   ]
  },
  {
   "cell_type": "code",
   "execution_count": 46,
   "id": "55968d04",
   "metadata": {},
   "outputs": [
    {
     "name": "stdout",
     "output_type": "stream",
     "text": [
      "1 2 3 4 5 6 7<--->1 2 3 4 5 6 7\n",
      "hello\n"
     ]
    }
   ],
   "source": [
    "print(1,2,3,4,5,6,7, end=\"<--->\")\n",
    "print(1,2,3,4,5,6,7)\n",
    "print(\"hello\")"
   ]
  },
  {
   "cell_type": "code",
   "execution_count": null,
   "id": "c1218fb5",
   "metadata": {},
   "outputs": [
    {
     "ename": "SyntaxError",
     "evalue": "invalid syntax (622983022.py, line 1)",
     "output_type": "error",
     "traceback": [
      "  \u001b[36mCell\u001b[39m\u001b[36m \u001b[39m\u001b[32mIn[47]\u001b[39m\u001b[32m, line 1\u001b[39m\n\u001b[31m    \u001b[39m\u001b[31mteam -> team_lead + and team member\u001b[39m\n         ^\n\u001b[31mSyntaxError\u001b[39m\u001b[31m:\u001b[39m invalid syntax\n"
     ]
    }
   ],
   "source": [
    "# team -> team_lead + and team member"
   ]
  },
  {
   "cell_type": "code",
   "execution_count": 48,
   "id": "3243ff48",
   "metadata": {},
   "outputs": [],
   "source": [
    "# ===================TEMA LEAD NAME =================\n",
    "# - TEAM MEMBER1\n",
    "# - TEAM MEMBER2"
   ]
  },
  {
   "cell_type": "code",
   "execution_count": 49,
   "id": "c14ae17a",
   "metadata": {},
   "outputs": [],
   "source": [
    "def display_team(*team):\n",
    "    for name in team:\n",
    "        print(f\"- {name}\")"
   ]
  },
  {
   "cell_type": "code",
   "execution_count": 50,
   "id": "8009f588",
   "metadata": {},
   "outputs": [],
   "source": [
    "team_lead = \"Python\"\n",
    "team_member1 = \"Cpython\"\n",
    "team_member2 = \"Jython\"\n",
    "team_member3 = \"Ironthon\""
   ]
  },
  {
   "cell_type": "code",
   "execution_count": null,
   "id": "831cadba",
   "metadata": {},
   "outputs": [
    {
     "name": "stdout",
     "output_type": "stream",
     "text": [
      "- Python\n",
      "- Cpython\n",
      "- Jython\n",
      "- Ironthon\n"
     ]
    }
   ],
   "source": []
  },
  {
   "cell_type": "code",
   "execution_count": 52,
   "id": "c756851b",
   "metadata": {},
   "outputs": [],
   "source": [
    "def display_team(*team, team_lead):\n",
    "    for name in team:\n",
    "        print(f\"- {name}\")\n",
    "    print(team_lead)    "
   ]
  },
  {
   "cell_type": "code",
   "execution_count": null,
   "id": "609b942a",
   "metadata": {},
   "outputs": [
    {
     "ename": "TypeError",
     "evalue": "display_team() missing 1 required keyword-only argument: 'team_lead'",
     "output_type": "error",
     "traceback": [
      "\u001b[31m---------------------------------------------------------------------------\u001b[39m",
      "\u001b[31mTypeError\u001b[39m                                 Traceback (most recent call last)",
      "\u001b[36mCell\u001b[39m\u001b[36m \u001b[39m\u001b[32mIn[53]\u001b[39m\u001b[32m, line 1\u001b[39m\n\u001b[32m----> \u001b[39m\u001b[32m1\u001b[39m \u001b[43mdisplay_team\u001b[49m\u001b[43m(\u001b[49m\u001b[43mteam_member1\u001b[49m\u001b[43m,\u001b[49m\u001b[43m \u001b[49m\u001b[43mteam_member2\u001b[49m\u001b[43m,\u001b[49m\u001b[43m \u001b[49m\u001b[43mteam_member3\u001b[49m\u001b[43m,\u001b[49m\u001b[43m \u001b[49m\u001b[43mteam_lead\u001b[49m\u001b[43m)\u001b[49m\n",
      "\u001b[31mTypeError\u001b[39m: display_team() missing 1 required keyword-only argument: 'team_lead'"
     ]
    }
   ],
   "source": []
  },
  {
   "cell_type": "code",
   "execution_count": 56,
   "id": "5717f929",
   "metadata": {},
   "outputs": [],
   "source": [
    "def display_team(team_lead , *team):\n",
    "    print(team_lead.center(40,\"=\"))\n",
    "    for name in team:\n",
    "        print(f\"- {name}\")"
   ]
  },
  {
   "cell_type": "code",
   "execution_count": 57,
   "id": "278289db",
   "metadata": {},
   "outputs": [
    {
     "name": "stdout",
     "output_type": "stream",
     "text": [
      "=================Python=================\n",
      "- Cpython\n",
      "- Jython\n",
      "- Ironthon\n"
     ]
    }
   ],
   "source": [
    "display_team(team_lead, team_member1, team_member2, team_member3)"
   ]
  },
  {
   "cell_type": "code",
   "execution_count": null,
   "id": "ad9fb5c2",
   "metadata": {},
   "outputs": [],
   "source": [
    "def add(a,b):\n",
    "    return a+b\n",
    "add(3,4)"
   ]
  }
 ],
 "metadata": {
  "kernelspec": {
   "display_name": ".venv",
   "language": "python",
   "name": "python3"
  },
  "language_info": {
   "codemirror_mode": {
    "name": "ipython",
    "version": 3
   },
   "file_extension": ".py",
   "mimetype": "text/x-python",
   "name": "python",
   "nbconvert_exporter": "python",
   "pygments_lexer": "ipython3",
   "version": "3.12.5"
  }
 },
 "nbformat": 4,
 "nbformat_minor": 5
}
