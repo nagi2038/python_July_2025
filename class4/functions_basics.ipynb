{
 "cells": [
  {
   "cell_type": "markdown",
   "id": "fbe3a9f1",
   "metadata": {},
   "source": [
    "# FUNCTIONS"
   ]
  },
  {
   "cell_type": "markdown",
   "id": "1050a07d",
   "metadata": {},
   "source": [
    "## Syntax\n",
    "```python \n",
    "def <functionname>(<paremeter>: optional):\n",
    "    statements\n",
    "```    "
   ]
  },
  {
   "cell_type": "markdown",
   "id": "d75b4b8e",
   "metadata": {},
   "source": [
    "- First letter should be small letter\n",
    "- function name can contain alpha numaric \n",
    "- only `-` spl char is allowed"
   ]
  },
  {
   "cell_type": "code",
   "execution_count": 10,
   "id": "a90a7491",
   "metadata": {},
   "outputs": [],
   "source": [
    "# def hello_python():\n",
    "# def helloPthon~f():\n",
    "\n",
    "\n",
    "    "
   ]
  },
  {
   "cell_type": "code",
   "execution_count": 15,
   "id": "4aeb7936",
   "metadata": {},
   "outputs": [],
   "source": [
    "def greet():\n",
    "    a = 10\n",
    "    a  = a+1\n",
    "    print(a)\n",
    "    if a > 10:\n",
    "        print(a,\"is greater than 10\")\n",
    "    else:\n",
    "        print(a,\"is less than or equal to 10\")\n",
    "    lst = [1,2,3] \n",
    "    tup = (1,2,3,4)\n",
    "    s = {1,2,3,4,5}\n",
    "    d  = dict(a=10,b=20)\n",
    "\n",
    "    for l in lst:\n",
    "        print(l)\n",
    "\n",
    "    i = 0\n",
    "    while i < len(tup):\n",
    "        print(tup[i])\n",
    "        i += 1\n",
    "                   "
   ]
  },
  {
   "cell_type": "code",
   "execution_count": 16,
   "id": "eb52c402",
   "metadata": {},
   "outputs": [],
   "source": [
    "a = 10"
   ]
  },
  {
   "cell_type": "code",
   "execution_count": 17,
   "id": "ebc93689",
   "metadata": {},
   "outputs": [
    {
     "name": "stdout",
     "output_type": "stream",
     "text": [
      "10\n"
     ]
    }
   ],
   "source": [
    "print(a)"
   ]
  },
  {
   "cell_type": "code",
   "execution_count": 18,
   "id": "d853e8ca",
   "metadata": {},
   "outputs": [
    {
     "name": "stdout",
     "output_type": "stream",
     "text": [
      "11\n",
      "11 is greater than 10\n",
      "1\n",
      "2\n",
      "3\n",
      "1\n",
      "2\n",
      "3\n",
      "4\n"
     ]
    }
   ],
   "source": [
    "greet()"
   ]
  },
  {
   "cell_type": "code",
   "execution_count": 21,
   "id": "5deaba1b",
   "metadata": {},
   "outputs": [
    {
     "name": "stdout",
     "output_type": "stream",
     "text": [
      "==============================\n",
      "            python            \n",
      "==============================\n"
     ]
    }
   ],
   "source": [
    "name = 'python'\n",
    "print('='*30)\n",
    "print(name.center(30,' '))\n",
    "print('='*30)"
   ]
  },
  {
   "cell_type": "code",
   "execution_count": 22,
   "id": "de79f494",
   "metadata": {},
   "outputs": [
    {
     "name": "stdout",
     "output_type": "stream",
     "text": [
      "==============================\n",
      "      WELCOME TO PYTHON       \n",
      "==============================\n"
     ]
    }
   ],
   "source": [
    "name2 = 'WELCOME TO PYTHON'\n",
    "print('='*30)\n",
    "print(name2.center(30,' '))\n",
    "print('='*30)"
   ]
  },
  {
   "cell_type": "code",
   "execution_count": 23,
   "id": "4cd029f8",
   "metadata": {},
   "outputs": [
    {
     "name": "stdout",
     "output_type": "stream",
     "text": [
      "==============================\n",
      "           VS CODE            \n",
      "==============================\n"
     ]
    }
   ],
   "source": [
    "name3 = \"VS CODE\"\n",
    "print('='*30)\n",
    "print(name3.center(30,' '))\n",
    "print('='*30)"
   ]
  },
  {
   "cell_type": "code",
   "execution_count": null,
   "id": "23d8678b",
   "metadata": {},
   "outputs": [],
   "source": [
    "def welcome(name) -> None:\n",
    "    print('='*30)\n",
    "    print(name.center(30,' '))\n",
    "    print('='*30)"
   ]
  },
  {
   "cell_type": "code",
   "execution_count": 25,
   "id": "5e6c8dbe",
   "metadata": {},
   "outputs": [
    {
     "ename": "TypeError",
     "evalue": "welcome() missing 1 required positional argument: 'name'",
     "output_type": "error",
     "traceback": [
      "\u001b[31m---------------------------------------------------------------------------\u001b[39m",
      "\u001b[31mTypeError\u001b[39m                                 Traceback (most recent call last)",
      "\u001b[36mCell\u001b[39m\u001b[36m \u001b[39m\u001b[32mIn[25]\u001b[39m\u001b[32m, line 1\u001b[39m\n\u001b[32m----> \u001b[39m\u001b[32m1\u001b[39m \u001b[43mwelcome\u001b[49m\u001b[43m(\u001b[49m\u001b[43m)\u001b[49m\n",
      "\u001b[31mTypeError\u001b[39m: welcome() missing 1 required positional argument: 'name'"
     ]
    }
   ],
   "source": [
    "welcome()"
   ]
  },
  {
   "cell_type": "code",
   "execution_count": 33,
   "id": "f3949c11",
   "metadata": {},
   "outputs": [
    {
     "name": "stdout",
     "output_type": "stream",
     "text": [
      "==============================\n",
      "            PYTHON            \n",
      "==============================\n",
      "\n",
      "\n",
      "\n",
      "==============================\n",
      "             JAVA             \n",
      "==============================\n",
      "\n",
      "\n",
      "\n",
      "==============================\n",
      "           GO lang            \n",
      "==============================\n"
     ]
    }
   ],
   "source": [
    "name = \"PYTHON\"\n",
    "name2 = 'JAVA'\n",
    "name3 = 'GO lang'\n",
    "welcome(name=name)\n",
    "print('\\n\\n')\n",
    "welcome(name=name2)\n",
    "print('\\n\\n')\n",
    "welcome(name3)"
   ]
  },
  {
   "cell_type": "code",
   "execution_count": 34,
   "id": "dca8191a",
   "metadata": {},
   "outputs": [
    {
     "name": "stdout",
     "output_type": "stream",
     "text": [
      "==============================\n"
     ]
    },
    {
     "ename": "AttributeError",
     "evalue": "'int' object has no attribute 'center'",
     "output_type": "error",
     "traceback": [
      "\u001b[31m---------------------------------------------------------------------------\u001b[39m",
      "\u001b[31mAttributeError\u001b[39m                            Traceback (most recent call last)",
      "\u001b[36mCell\u001b[39m\u001b[36m \u001b[39m\u001b[32mIn[34]\u001b[39m\u001b[32m, line 1\u001b[39m\n\u001b[32m----> \u001b[39m\u001b[32m1\u001b[39m \u001b[43mwelcome\u001b[49m\u001b[43m(\u001b[49m\u001b[32;43m1\u001b[39;49m\u001b[43m)\u001b[49m\n",
      "\u001b[36mCell\u001b[39m\u001b[36m \u001b[39m\u001b[32mIn[24]\u001b[39m\u001b[32m, line 3\u001b[39m, in \u001b[36mwelcome\u001b[39m\u001b[34m(name)\u001b[39m\n\u001b[32m      1\u001b[39m \u001b[38;5;28;01mdef\u001b[39;00m\u001b[38;5;250m \u001b[39m\u001b[34mwelcome\u001b[39m(name):\n\u001b[32m      2\u001b[39m     \u001b[38;5;28mprint\u001b[39m(\u001b[33m'\u001b[39m\u001b[33m=\u001b[39m\u001b[33m'\u001b[39m*\u001b[32m30\u001b[39m)\n\u001b[32m----> \u001b[39m\u001b[32m3\u001b[39m     \u001b[38;5;28mprint\u001b[39m(\u001b[43mname\u001b[49m\u001b[43m.\u001b[49m\u001b[43mcenter\u001b[49m(\u001b[32m30\u001b[39m,\u001b[33m'\u001b[39m\u001b[33m \u001b[39m\u001b[33m'\u001b[39m))\n\u001b[32m      4\u001b[39m     \u001b[38;5;28mprint\u001b[39m(\u001b[33m'\u001b[39m\u001b[33m=\u001b[39m\u001b[33m'\u001b[39m*\u001b[32m30\u001b[39m)\n",
      "\u001b[31mAttributeError\u001b[39m: 'int' object has no attribute 'center'"
     ]
    }
   ],
   "source": [
    "welcome(1)"
   ]
  },
  {
   "cell_type": "code",
   "execution_count": 28,
   "id": "14f5e79e",
   "metadata": {},
   "outputs": [
    {
     "ename": "TypeError",
     "evalue": "welcome() takes 1 positional argument but 3 were given",
     "output_type": "error",
     "traceback": [
      "\u001b[31m---------------------------------------------------------------------------\u001b[39m",
      "\u001b[31mTypeError\u001b[39m                                 Traceback (most recent call last)",
      "\u001b[36mCell\u001b[39m\u001b[36m \u001b[39m\u001b[32mIn[28]\u001b[39m\u001b[32m, line 4\u001b[39m\n\u001b[32m      2\u001b[39m name2 = \u001b[33m'\u001b[39m\u001b[33mJAVA\u001b[39m\u001b[33m'\u001b[39m\n\u001b[32m      3\u001b[39m name3 = \u001b[33m'\u001b[39m\u001b[33mGO lang\u001b[39m\u001b[33m'\u001b[39m\n\u001b[32m----> \u001b[39m\u001b[32m4\u001b[39m \u001b[43mwelcome\u001b[49m\u001b[43m(\u001b[49m\u001b[43mname\u001b[49m\u001b[43m,\u001b[49m\u001b[43m \u001b[49m\u001b[43mname2\u001b[49m\u001b[43m,\u001b[49m\u001b[43m \u001b[49m\u001b[43mname3\u001b[49m\u001b[43m)\u001b[49m\n",
      "\u001b[31mTypeError\u001b[39m: welcome() takes 1 positional argument but 3 were given"
     ]
    }
   ],
   "source": [
    "name = \"PYTHON\"\n",
    "name2 = 'JAVA'\n",
    "name3 = 'GO lang'\n",
    "welcome(name, name2, name3)"
   ]
  },
  {
   "cell_type": "code",
   "execution_count": 41,
   "id": "5f834596",
   "metadata": {},
   "outputs": [],
   "source": [
    "def welcome(name : str):\n",
    "    print('='*30)\n",
    "    print(name.center(30,' '))\n",
    "    print('='*30)"
   ]
  },
  {
   "cell_type": "code",
   "execution_count": 42,
   "id": "f0c8b98b",
   "metadata": {},
   "outputs": [],
   "source": [
    "def add(a,b):\n",
    "    print(a+b)"
   ]
  },
  {
   "cell_type": "code",
   "execution_count": 43,
   "id": "f388bdc5",
   "metadata": {},
   "outputs": [
    {
     "name": "stdout",
     "output_type": "stream",
     "text": [
      "5\n"
     ]
    }
   ],
   "source": [
    "add(2,3)"
   ]
  },
  {
   "cell_type": "code",
   "execution_count": 44,
   "id": "246cc972",
   "metadata": {},
   "outputs": [
    {
     "name": "stdout",
     "output_type": "stream",
     "text": [
      "hello world\n"
     ]
    }
   ],
   "source": [
    "add(\"hello \", \"world\")"
   ]
  },
  {
   "cell_type": "code",
   "execution_count": 45,
   "id": "8c728488",
   "metadata": {},
   "outputs": [
    {
     "name": "stdout",
     "output_type": "stream",
     "text": [
      "[1, 2, 3, 4, 5, 6]\n"
     ]
    }
   ],
   "source": [
    "lst1 = [1,2,3]\n",
    "lst2 = [4,5,6]\n",
    "add(lst1, lst2)"
   ]
  },
  {
   "cell_type": "code",
   "execution_count": 46,
   "id": "b5a6c55e",
   "metadata": {},
   "outputs": [
    {
     "name": "stdout",
     "output_type": "stream",
     "text": [
      "(1, 2, 3, 4, 5, 6)\n"
     ]
    }
   ],
   "source": [
    "tup1 = (1,2,3)\n",
    "tup2 = (4,5,6)\n",
    "add(tup1, tup2)"
   ]
  },
  {
   "cell_type": "code",
   "execution_count": 47,
   "id": "f8562242",
   "metadata": {},
   "outputs": [
    {
     "ename": "TypeError",
     "evalue": "unsupported operand type(s) for +: 'set' and 'set'",
     "output_type": "error",
     "traceback": [
      "\u001b[31m---------------------------------------------------------------------------\u001b[39m",
      "\u001b[31mTypeError\u001b[39m                                 Traceback (most recent call last)",
      "\u001b[36mCell\u001b[39m\u001b[36m \u001b[39m\u001b[32mIn[47]\u001b[39m\u001b[32m, line 3\u001b[39m\n\u001b[32m      1\u001b[39m set1 = {\u001b[32m1\u001b[39m,\u001b[32m2\u001b[39m,\u001b[32m3\u001b[39m}\n\u001b[32m      2\u001b[39m set2 = {\u001b[32m4\u001b[39m,\u001b[32m5\u001b[39m,\u001b[32m6\u001b[39m}\n\u001b[32m----> \u001b[39m\u001b[32m3\u001b[39m \u001b[43madd\u001b[49m\u001b[43m(\u001b[49m\u001b[43mset1\u001b[49m\u001b[43m,\u001b[49m\u001b[43m \u001b[49m\u001b[43mset2\u001b[49m\u001b[43m)\u001b[49m\n",
      "\u001b[36mCell\u001b[39m\u001b[36m \u001b[39m\u001b[32mIn[42]\u001b[39m\u001b[32m, line 2\u001b[39m, in \u001b[36madd\u001b[39m\u001b[34m(a, b)\u001b[39m\n\u001b[32m      1\u001b[39m \u001b[38;5;28;01mdef\u001b[39;00m\u001b[38;5;250m \u001b[39m\u001b[34madd\u001b[39m(a,b):\n\u001b[32m----> \u001b[39m\u001b[32m2\u001b[39m     \u001b[38;5;28mprint\u001b[39m(\u001b[43ma\u001b[49m\u001b[43m+\u001b[49m\u001b[43mb\u001b[49m)\n",
      "\u001b[31mTypeError\u001b[39m: unsupported operand type(s) for +: 'set' and 'set'"
     ]
    }
   ],
   "source": [
    "set1 = {1,2,3}\n",
    "set2 = {4,5,6}\n",
    "add(set1, set2)"
   ]
  },
  {
   "cell_type": "code",
   "execution_count": 36,
   "id": "e8ad6bbe",
   "metadata": {},
   "outputs": [],
   "source": [
    "a = 10"
   ]
  },
  {
   "cell_type": "code",
   "execution_count": 37,
   "id": "c63151da",
   "metadata": {},
   "outputs": [],
   "source": [
    "a : int = 10"
   ]
  },
  {
   "cell_type": "code",
   "execution_count": 38,
   "id": "8f523979",
   "metadata": {},
   "outputs": [],
   "source": [
    "a : int = 4.5"
   ]
  },
  {
   "cell_type": "code",
   "execution_count": 39,
   "id": "5b39c64b",
   "metadata": {},
   "outputs": [
    {
     "name": "stdout",
     "output_type": "stream",
     "text": [
      "4.5\n"
     ]
    }
   ],
   "source": [
    "print(a)"
   ]
  },
  {
   "cell_type": "code",
   "execution_count": 60,
   "id": "a93d5b89",
   "metadata": {},
   "outputs": [],
   "source": [
    "def function(arg1, arg2,*args ,**kwargs):\n",
    "    print(type(arg1))\n",
    "    print(type(arg2))\n",
    "    print(type(args))\n",
    "    print(type(kwargs))"
   ]
  },
  {
   "cell_type": "code",
   "execution_count": null,
   "id": "2c8d15e4",
   "metadata": {},
   "outputs": [
    {
     "name": "stdout",
     "output_type": "stream",
     "text": [
      "<class 'int'>\n",
      "<class 'int'>\n",
      "<class 'tuple'>\n",
      "<class 'dict'>\n"
     ]
    }
   ],
   "source": [
    "function(1,2,4,5,6,7,8,9,a=10,b=20)"
   ]
  },
  {
   "cell_type": "code",
   "execution_count": 62,
   "id": "93495d6c",
   "metadata": {},
   "outputs": [],
   "source": [
    "def function1(arg1,*args,arg2 ,**kwargs):\n",
    "    print(type(arg1))\n",
    "    print(type(arg2))\n",
    "    print(type(args))\n",
    "    print(type(kwargs))"
   ]
  },
  {
   "cell_type": "code",
   "execution_count": 63,
   "id": "90f99672",
   "metadata": {},
   "outputs": [
    {
     "ename": "TypeError",
     "evalue": "function1() missing 1 required keyword-only argument: 'arg2'",
     "output_type": "error",
     "traceback": [
      "\u001b[31m---------------------------------------------------------------------------\u001b[39m",
      "\u001b[31mTypeError\u001b[39m                                 Traceback (most recent call last)",
      "\u001b[36mCell\u001b[39m\u001b[36m \u001b[39m\u001b[32mIn[63]\u001b[39m\u001b[32m, line 1\u001b[39m\n\u001b[32m----> \u001b[39m\u001b[32m1\u001b[39m \u001b[43mfunction1\u001b[49m\u001b[43m(\u001b[49m\u001b[32;43m1\u001b[39;49m\u001b[43m,\u001b[49m\u001b[32;43m2\u001b[39;49m\u001b[43m,\u001b[49m\u001b[32;43m3\u001b[39;49m\u001b[43m,\u001b[49m\u001b[32;43m4\u001b[39;49m\u001b[43m,\u001b[49m\u001b[32;43m5\u001b[39;49m\u001b[43m,\u001b[49m\u001b[32;43m6\u001b[39;49m\u001b[43m)\u001b[49m\n",
      "\u001b[31mTypeError\u001b[39m: function1() missing 1 required keyword-only argument: 'arg2'"
     ]
    }
   ],
   "source": [
    "function1(1,2,3,4,5,6)"
   ]
  },
  {
   "cell_type": "code",
   "execution_count": 64,
   "id": "22a6e0ff",
   "metadata": {},
   "outputs": [
    {
     "name": "stdout",
     "output_type": "stream",
     "text": [
      "<class 'int'>\n",
      "<class 'int'>\n",
      "<class 'tuple'>\n",
      "<class 'dict'>\n"
     ]
    }
   ],
   "source": [
    "function1(arg1=1,arg2=2)"
   ]
  },
  {
   "cell_type": "code",
   "execution_count": null,
   "id": "d3f457ed",
   "metadata": {},
   "outputs": [],
   "source": []
  },
  {
   "cell_type": "code",
   "execution_count": 65,
   "id": "3cb5c860",
   "metadata": {},
   "outputs": [],
   "source": [
    "def function2(arg1,/,*args,arg2 ,**kwargs):\n",
    "    print(type(arg1))\n",
    "    print(type(arg2))\n",
    "    print(type(args))\n",
    "    print(type(kwargs))"
   ]
  },
  {
   "cell_type": "code",
   "execution_count": null,
   "id": "3cea9c50",
   "metadata": {},
   "outputs": [
    {
     "name": "stdout",
     "output_type": "stream",
     "text": [
      "<class 'int'>\n",
      "<class 'int'>\n",
      "<class 'tuple'>\n",
      "<class 'dict'>\n"
     ]
    }
   ],
   "source": [
    "function2(30 , arg2=40)"
   ]
  },
  {
   "cell_type": "code",
   "execution_count": 68,
   "id": "eb2b382c",
   "metadata": {},
   "outputs": [
    {
     "name": "stdout",
     "output_type": "stream",
     "text": [
      "<class 'int'>\n",
      "<class 'int'>\n",
      "<class 'tuple'>\n",
      "<class 'dict'>\n"
     ]
    }
   ],
   "source": [
    "function2(30,arg1=40 , arg2=40)"
   ]
  },
  {
   "cell_type": "code",
   "execution_count": 69,
   "id": "2690a375",
   "metadata": {},
   "outputs": [],
   "source": [
    "def function3(arg1,*args,arg2 ,**kwargs):\n",
    "    print(type(arg1))\n",
    "    print(type(arg2))\n",
    "    print(type(args))\n",
    "    print(type(kwargs))"
   ]
  },
  {
   "cell_type": "code",
   "execution_count": 71,
   "id": "d885f363",
   "metadata": {},
   "outputs": [
    {
     "ename": "TypeError",
     "evalue": "function3() got multiple values for argument 'arg1'",
     "output_type": "error",
     "traceback": [
      "\u001b[31m---------------------------------------------------------------------------\u001b[39m",
      "\u001b[31mTypeError\u001b[39m                                 Traceback (most recent call last)",
      "\u001b[36mCell\u001b[39m\u001b[36m \u001b[39m\u001b[32mIn[71]\u001b[39m\u001b[32m, line 1\u001b[39m\n\u001b[32m----> \u001b[39m\u001b[32m1\u001b[39m \u001b[43mfunction3\u001b[49m\u001b[43m(\u001b[49m\u001b[32;43m30\u001b[39;49m\u001b[43m,\u001b[49m\u001b[43marg1\u001b[49m\u001b[43m=\u001b[49m\u001b[32;43m40\u001b[39;49m\u001b[43m \u001b[49m\u001b[43m,\u001b[49m\u001b[43m \u001b[49m\u001b[43marg2\u001b[49m\u001b[43m=\u001b[49m\u001b[32;43m40\u001b[39;49m\u001b[43m)\u001b[49m\n",
      "\u001b[31mTypeError\u001b[39m: function3() got multiple values for argument 'arg1'"
     ]
    }
   ],
   "source": [
    "function3(30,arg1=40 , arg2=40)"
   ]
  },
  {
   "cell_type": "code",
   "execution_count": null,
   "id": "988d7071",
   "metadata": {},
   "outputs": [],
   "source": [
    "def function4(arg1,/,args,arg2 , *tup , *,kwargs, kwarg2, **kwargs4):\n",
    "    print(type(arg1))\n",
    "    print(type(arg2))\n",
    "    print(type(args))\n",
    "    print(type(kwargs))"
   ]
  },
  {
   "cell_type": "code",
   "execution_count": 81,
   "id": "887ebfbc",
   "metadata": {},
   "outputs": [
    {
     "name": "stdout",
     "output_type": "stream",
     "text": [
      "<class 'int'>\n",
      "<class 'int'>\n",
      "<class 'int'>\n",
      "<class 'int'>\n"
     ]
    }
   ],
   "source": [
    "function4(2,3,4, kwarg2=4, kwargs=4, dummy=1, dummy3=3)"
   ]
  },
  {
   "cell_type": "code",
   "execution_count": null,
   "id": "0b86821f",
   "metadata": {},
   "outputs": [],
   "source": []
  },
  {
   "cell_type": "code",
   "execution_count": null,
   "id": "457b7386",
   "metadata": {},
   "outputs": [],
   "source": []
  },
  {
   "cell_type": "code",
   "execution_count": null,
   "id": "d2d4eba3",
   "metadata": {},
   "outputs": [],
   "source": []
  }
 ],
 "metadata": {
  "kernelspec": {
   "display_name": ".venv",
   "language": "python",
   "name": "python3"
  },
  "language_info": {
   "codemirror_mode": {
    "name": "ipython",
    "version": 3
   },
   "file_extension": ".py",
   "mimetype": "text/x-python",
   "name": "python",
   "nbconvert_exporter": "python",
   "pygments_lexer": "ipython3",
   "version": "3.12.5"
  }
 },
 "nbformat": 4,
 "nbformat_minor": 5
}
