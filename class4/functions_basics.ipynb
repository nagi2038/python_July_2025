{
 "cells": [
  {
   "cell_type": "markdown",
   "id": "fbe3a9f1",
   "metadata": {},
   "source": [
    "# FUNCTIONS"
   ]
  },
  {
   "cell_type": "markdown",
   "id": "1050a07d",
   "metadata": {},
   "source": [
    "## Syntax\n",
    "```python \n",
    "def <functionname>(<paremeter>: optional):\n",
    "    statements\n",
    "```    "
   ]
  },
  {
   "cell_type": "markdown",
   "id": "d75b4b8e",
   "metadata": {},
   "source": [
    "- First letter should be small letter\n",
    "- function name can contain alpha numaric \n",
    "- only `-` spl char is allowed"
   ]
  },
  {
   "cell_type": "code",
   "execution_count": 10,
   "id": "a90a7491",
   "metadata": {},
   "outputs": [],
   "source": [
    "# def hello_python():\n",
    "# def helloPthon~f():\n",
    "\n",
    "\n",
    "    "
   ]
  },
  {
   "cell_type": "code",
   "execution_count": 15,
   "id": "4aeb7936",
   "metadata": {},
   "outputs": [],
   "source": [
    "def greet():\n",
    "    a = 10\n",
    "    a  = a+1\n",
    "    print(a)\n",
    "    if a > 10:\n",
    "        print(a,\"is greater than 10\")\n",
    "    else:\n",
    "        print(a,\"is less than or equal to 10\")\n",
    "    lst = [1,2,3] \n",
    "    tup = (1,2,3,4)\n",
    "    s = {1,2,3,4,5}\n",
    "    d  = dict(a=10,b=20)\n",
    "\n",
    "    for l in lst:\n",
    "        print(l)\n",
    "\n",
    "    i = 0\n",
    "    while i < len(tup):\n",
    "        print(tup[i])\n",
    "        i += 1\n",
    "                   "
   ]
  },
  {
   "cell_type": "code",
   "execution_count": 16,
   "id": "eb52c402",
   "metadata": {},
   "outputs": [],
   "source": [
    "a = 10"
   ]
  },
  {
   "cell_type": "code",
   "execution_count": 17,
   "id": "ebc93689",
   "metadata": {},
   "outputs": [
    {
     "name": "stdout",
     "output_type": "stream",
     "text": [
      "10\n"
     ]
    }
   ],
   "source": [
    "print(a)"
   ]
  },
  {
   "cell_type": "code",
   "execution_count": 18,
   "id": "d853e8ca",
   "metadata": {},
   "outputs": [
    {
     "name": "stdout",
     "output_type": "stream",
     "text": [
      "11\n",
      "11 is greater than 10\n",
      "1\n",
      "2\n",
      "3\n",
      "1\n",
      "2\n",
      "3\n",
      "4\n"
     ]
    }
   ],
   "source": [
    "greet()"
   ]
  },
  {
   "cell_type": "code",
   "execution_count": 21,
   "id": "5deaba1b",
   "metadata": {},
   "outputs": [
    {
     "name": "stdout",
     "output_type": "stream",
     "text": [
      "==============================\n",
      "            python            \n",
      "==============================\n"
     ]
    }
   ],
   "source": [
    "name = 'python'\n",
    "print('='*30)\n",
    "print(name.center(30,' '))\n",
    "print('='*30)"
   ]
  },
  {
   "cell_type": "code",
   "execution_count": 22,
   "id": "de79f494",
   "metadata": {},
   "outputs": [
    {
     "name": "stdout",
     "output_type": "stream",
     "text": [
      "==============================\n",
      "      WELCOME TO PYTHON       \n",
      "==============================\n"
     ]
    }
   ],
   "source": [
    "name2 = 'WELCOME TO PYTHON'\n",
    "print('='*30)\n",
    "print(name2.center(30,' '))\n",
    "print('='*30)"
   ]
  },
  {
   "cell_type": "code",
   "execution_count": 23,
   "id": "4cd029f8",
   "metadata": {},
   "outputs": [
    {
     "name": "stdout",
     "output_type": "stream",
     "text": [
      "==============================\n",
      "           VS CODE            \n",
      "==============================\n"
     ]
    }
   ],
   "source": [
    "name3 = \"VS CODE\"\n",
    "print('='*30)\n",
    "print(name3.center(30,' '))\n",
    "print('='*30)"
   ]
  },
  {
   "cell_type": "code",
   "execution_count": null,
   "id": "23d8678b",
   "metadata": {},
   "outputs": [],
   "source": [
    "def welcome(name) -> None:\n",
    "    print('='*30)\n",
    "    print(name.center(30,' '))\n",
    "    print('='*30)"
   ]
  },
  {
   "cell_type": "code",
   "execution_count": 25,
   "id": "5e6c8dbe",
   "metadata": {},
   "outputs": [
    {
     "ename": "TypeError",
     "evalue": "welcome() missing 1 required positional argument: 'name'",
     "output_type": "error",
     "traceback": [
      "\u001b[31m---------------------------------------------------------------------------\u001b[39m",
      "\u001b[31mTypeError\u001b[39m                                 Traceback (most recent call last)",
      "\u001b[36mCell\u001b[39m\u001b[36m \u001b[39m\u001b[32mIn[25]\u001b[39m\u001b[32m, line 1\u001b[39m\n\u001b[32m----> \u001b[39m\u001b[32m1\u001b[39m \u001b[43mwelcome\u001b[49m\u001b[43m(\u001b[49m\u001b[43m)\u001b[49m\n",
      "\u001b[31mTypeError\u001b[39m: welcome() missing 1 required positional argument: 'name'"
     ]
    }
   ],
   "source": [
    "welcome()"
   ]
  },
  {
   "cell_type": "code",
   "execution_count": 33,
   "id": "f3949c11",
   "metadata": {},
   "outputs": [
    {
     "name": "stdout",
     "output_type": "stream",
     "text": [
      "==============================\n",
      "            PYTHON            \n",
      "==============================\n",
      "\n",
      "\n",
      "\n",
      "==============================\n",
      "             JAVA             \n",
      "==============================\n",
      "\n",
      "\n",
      "\n",
      "==============================\n",
      "           GO lang            \n",
      "==============================\n"
     ]
    }
   ],
   "source": [
    "name = \"PYTHON\"\n",
    "name2 = 'JAVA'\n",
    "name3 = 'GO lang'\n",
    "welcome(name=name)\n",
    "print('\\n\\n')\n",
    "welcome(name=name2)\n",
    "print('\\n\\n')\n",
    "welcome(name3)"
   ]
  },
  {
   "cell_type": "code",
   "execution_count": 34,
   "id": "dca8191a",
   "metadata": {},
   "outputs": [
    {
     "name": "stdout",
     "output_type": "stream",
     "text": [
      "==============================\n"
     ]
    },
    {
     "ename": "AttributeError",
     "evalue": "'int' object has no attribute 'center'",
     "output_type": "error",
     "traceback": [
      "\u001b[31m---------------------------------------------------------------------------\u001b[39m",
      "\u001b[31mAttributeError\u001b[39m                            Traceback (most recent call last)",
      "\u001b[36mCell\u001b[39m\u001b[36m \u001b[39m\u001b[32mIn[34]\u001b[39m\u001b[32m, line 1\u001b[39m\n\u001b[32m----> \u001b[39m\u001b[32m1\u001b[39m \u001b[43mwelcome\u001b[49m\u001b[43m(\u001b[49m\u001b[32;43m1\u001b[39;49m\u001b[43m)\u001b[49m\n",
      "\u001b[36mCell\u001b[39m\u001b[36m \u001b[39m\u001b[32mIn[24]\u001b[39m\u001b[32m, line 3\u001b[39m, in \u001b[36mwelcome\u001b[39m\u001b[34m(name)\u001b[39m\n\u001b[32m      1\u001b[39m \u001b[38;5;28;01mdef\u001b[39;00m\u001b[38;5;250m \u001b[39m\u001b[34mwelcome\u001b[39m(name):\n\u001b[32m      2\u001b[39m     \u001b[38;5;28mprint\u001b[39m(\u001b[33m'\u001b[39m\u001b[33m=\u001b[39m\u001b[33m'\u001b[39m*\u001b[32m30\u001b[39m)\n\u001b[32m----> \u001b[39m\u001b[32m3\u001b[39m     \u001b[38;5;28mprint\u001b[39m(\u001b[43mname\u001b[49m\u001b[43m.\u001b[49m\u001b[43mcenter\u001b[49m(\u001b[32m30\u001b[39m,\u001b[33m'\u001b[39m\u001b[33m \u001b[39m\u001b[33m'\u001b[39m))\n\u001b[32m      4\u001b[39m     \u001b[38;5;28mprint\u001b[39m(\u001b[33m'\u001b[39m\u001b[33m=\u001b[39m\u001b[33m'\u001b[39m*\u001b[32m30\u001b[39m)\n",
      "\u001b[31mAttributeError\u001b[39m: 'int' object has no attribute 'center'"
     ]
    }
   ],
   "source": [
    "welcome(1)"
   ]
  },
  {
   "cell_type": "code",
   "execution_count": 28,
   "id": "14f5e79e",
   "metadata": {},
   "outputs": [
    {
     "ename": "TypeError",
     "evalue": "welcome() takes 1 positional argument but 3 were given",
     "output_type": "error",
     "traceback": [
      "\u001b[31m---------------------------------------------------------------------------\u001b[39m",
      "\u001b[31mTypeError\u001b[39m                                 Traceback (most recent call last)",
      "\u001b[36mCell\u001b[39m\u001b[36m \u001b[39m\u001b[32mIn[28]\u001b[39m\u001b[32m, line 4\u001b[39m\n\u001b[32m      2\u001b[39m name2 = \u001b[33m'\u001b[39m\u001b[33mJAVA\u001b[39m\u001b[33m'\u001b[39m\n\u001b[32m      3\u001b[39m name3 = \u001b[33m'\u001b[39m\u001b[33mGO lang\u001b[39m\u001b[33m'\u001b[39m\n\u001b[32m----> \u001b[39m\u001b[32m4\u001b[39m \u001b[43mwelcome\u001b[49m\u001b[43m(\u001b[49m\u001b[43mname\u001b[49m\u001b[43m,\u001b[49m\u001b[43m \u001b[49m\u001b[43mname2\u001b[49m\u001b[43m,\u001b[49m\u001b[43m \u001b[49m\u001b[43mname3\u001b[49m\u001b[43m)\u001b[49m\n",
      "\u001b[31mTypeError\u001b[39m: welcome() takes 1 positional argument but 3 were given"
     ]
    }
   ],
   "source": [
    "name = \"PYTHON\"\n",
    "name2 = 'JAVA'\n",
    "name3 = 'GO lang'\n",
    "welcome(name, name2, name3)"
   ]
  },
  {
   "cell_type": "code",
   "execution_count": 41,
   "id": "5f834596",
   "metadata": {},
   "outputs": [],
   "source": [
    "def welcome(name : str):\n",
    "    print('='*30)\n",
    "    print(name.center(30,' '))\n",
    "    print('='*30)"
   ]
  },
  {
   "cell_type": "code",
   "execution_count": 42,
   "id": "f0c8b98b",
   "metadata": {},
   "outputs": [],
   "source": [
    "def add(a,b):\n",
    "    print(a+b)"
   ]
  },
  {
   "cell_type": "code",
   "execution_count": 43,
   "id": "f388bdc5",
   "metadata": {},
   "outputs": [
    {
     "name": "stdout",
     "output_type": "stream",
     "text": [
      "5\n"
     ]
    }
   ],
   "source": [
    "add(2,3)"
   ]
  },
  {
   "cell_type": "code",
   "execution_count": 44,
   "id": "246cc972",
   "metadata": {},
   "outputs": [
    {
     "name": "stdout",
     "output_type": "stream",
     "text": [
      "hello world\n"
     ]
    }
   ],
   "source": [
    "add(\"hello \", \"world\")"
   ]
  },
  {
   "cell_type": "code",
   "execution_count": 45,
   "id": "8c728488",
   "metadata": {},
   "outputs": [
    {
     "name": "stdout",
     "output_type": "stream",
     "text": [
      "[1, 2, 3, 4, 5, 6]\n"
     ]
    }
   ],
   "source": [
    "lst1 = [1,2,3]\n",
    "lst2 = [4,5,6]\n",
    "add(lst1, lst2)"
   ]
  },
  {
   "cell_type": "code",
   "execution_count": 46,
   "id": "b5a6c55e",
   "metadata": {},
   "outputs": [
    {
     "name": "stdout",
     "output_type": "stream",
     "text": [
      "(1, 2, 3, 4, 5, 6)\n"
     ]
    }
   ],
   "source": [
    "tup1 = (1,2,3)\n",
    "tup2 = (4,5,6)\n",
    "add(tup1, tup2)"
   ]
  },
  {
   "cell_type": "code",
   "execution_count": 47,
   "id": "f8562242",
   "metadata": {},
   "outputs": [
    {
     "ename": "TypeError",
     "evalue": "unsupported operand type(s) for +: 'set' and 'set'",
     "output_type": "error",
     "traceback": [
      "\u001b[31m---------------------------------------------------------------------------\u001b[39m",
      "\u001b[31mTypeError\u001b[39m                                 Traceback (most recent call last)",
      "\u001b[36mCell\u001b[39m\u001b[36m \u001b[39m\u001b[32mIn[47]\u001b[39m\u001b[32m, line 3\u001b[39m\n\u001b[32m      1\u001b[39m set1 = {\u001b[32m1\u001b[39m,\u001b[32m2\u001b[39m,\u001b[32m3\u001b[39m}\n\u001b[32m      2\u001b[39m set2 = {\u001b[32m4\u001b[39m,\u001b[32m5\u001b[39m,\u001b[32m6\u001b[39m}\n\u001b[32m----> \u001b[39m\u001b[32m3\u001b[39m \u001b[43madd\u001b[49m\u001b[43m(\u001b[49m\u001b[43mset1\u001b[49m\u001b[43m,\u001b[49m\u001b[43m \u001b[49m\u001b[43mset2\u001b[49m\u001b[43m)\u001b[49m\n",
      "\u001b[36mCell\u001b[39m\u001b[36m \u001b[39m\u001b[32mIn[42]\u001b[39m\u001b[32m, line 2\u001b[39m, in \u001b[36madd\u001b[39m\u001b[34m(a, b)\u001b[39m\n\u001b[32m      1\u001b[39m \u001b[38;5;28;01mdef\u001b[39;00m\u001b[38;5;250m \u001b[39m\u001b[34madd\u001b[39m(a,b):\n\u001b[32m----> \u001b[39m\u001b[32m2\u001b[39m     \u001b[38;5;28mprint\u001b[39m(\u001b[43ma\u001b[49m\u001b[43m+\u001b[49m\u001b[43mb\u001b[49m)\n",
      "\u001b[31mTypeError\u001b[39m: unsupported operand type(s) for +: 'set' and 'set'"
     ]
    }
   ],
   "source": [
    "set1 = {1,2,3}\n",
    "set2 = {4,5,6}\n",
    "add(set1, set2)"
   ]
  },
  {
   "cell_type": "code",
   "execution_count": 36,
   "id": "e8ad6bbe",
   "metadata": {},
   "outputs": [],
   "source": [
    "a = 10"
   ]
  },
  {
   "cell_type": "code",
   "execution_count": 37,
   "id": "c63151da",
   "metadata": {},
   "outputs": [],
   "source": [
    "a : int = 10"
   ]
  },
  {
   "cell_type": "code",
   "execution_count": 38,
   "id": "8f523979",
   "metadata": {},
   "outputs": [],
   "source": [
    "a : int = 4.5"
   ]
  },
  {
   "cell_type": "code",
   "execution_count": 39,
   "id": "5b39c64b",
   "metadata": {},
   "outputs": [
    {
     "name": "stdout",
     "output_type": "stream",
     "text": [
      "4.5\n"
     ]
    }
   ],
   "source": [
    "print(a)"
   ]
  },
  {
   "cell_type": "code",
   "execution_count": 60,
   "id": "a93d5b89",
   "metadata": {},
   "outputs": [],
   "source": [
    "def function(arg1, arg2,*args ,**kwargs):\n",
    "    print(type(arg1))\n",
    "    print(type(arg2))\n",
    "    print(type(args))\n",
    "    print(type(kwargs))"
   ]
  },
  {
   "cell_type": "code",
   "execution_count": null,
   "id": "2c8d15e4",
   "metadata": {},
   "outputs": [
    {
     "name": "stdout",
     "output_type": "stream",
     "text": [
      "<class 'int'>\n",
      "<class 'int'>\n",
      "<class 'tuple'>\n",
      "<class 'dict'>\n"
     ]
    }
   ],
   "source": [
    "function(1,2,4,5,6,7,8,9,a=10,b=20)"
   ]
  },
  {
   "cell_type": "code",
   "execution_count": 62,
   "id": "93495d6c",
   "metadata": {},
   "outputs": [],
   "source": [
    "def function1(arg1,*args,arg2 ,**kwargs):\n",
    "    print(type(arg1))\n",
    "    print(type(arg2))\n",
    "    print(type(args))\n",
    "    print(type(kwargs))"
   ]
  },
  {
   "cell_type": "code",
   "execution_count": 63,
   "id": "90f99672",
   "metadata": {},
   "outputs": [
    {
     "ename": "TypeError",
     "evalue": "function1() missing 1 required keyword-only argument: 'arg2'",
     "output_type": "error",
     "traceback": [
      "\u001b[31m---------------------------------------------------------------------------\u001b[39m",
      "\u001b[31mTypeError\u001b[39m                                 Traceback (most recent call last)",
      "\u001b[36mCell\u001b[39m\u001b[36m \u001b[39m\u001b[32mIn[63]\u001b[39m\u001b[32m, line 1\u001b[39m\n\u001b[32m----> \u001b[39m\u001b[32m1\u001b[39m \u001b[43mfunction1\u001b[49m\u001b[43m(\u001b[49m\u001b[32;43m1\u001b[39;49m\u001b[43m,\u001b[49m\u001b[32;43m2\u001b[39;49m\u001b[43m,\u001b[49m\u001b[32;43m3\u001b[39;49m\u001b[43m,\u001b[49m\u001b[32;43m4\u001b[39;49m\u001b[43m,\u001b[49m\u001b[32;43m5\u001b[39;49m\u001b[43m,\u001b[49m\u001b[32;43m6\u001b[39;49m\u001b[43m)\u001b[49m\n",
      "\u001b[31mTypeError\u001b[39m: function1() missing 1 required keyword-only argument: 'arg2'"
     ]
    }
   ],
   "source": [
    "function1(1,2,3,4,5,6)"
   ]
  },
  {
   "cell_type": "code",
   "execution_count": 64,
   "id": "22a6e0ff",
   "metadata": {},
   "outputs": [
    {
     "name": "stdout",
     "output_type": "stream",
     "text": [
      "<class 'int'>\n",
      "<class 'int'>\n",
      "<class 'tuple'>\n",
      "<class 'dict'>\n"
     ]
    }
   ],
   "source": [
    "function1(arg1=1,arg2=2)"
   ]
  },
  {
   "cell_type": "code",
   "execution_count": null,
   "id": "d3f457ed",
   "metadata": {},
   "outputs": [],
   "source": []
  },
  {
   "cell_type": "code",
   "execution_count": 65,
   "id": "3cb5c860",
   "metadata": {},
   "outputs": [],
   "source": [
    "def function2(arg1,/,*args,arg2 ,**kwargs):\n",
    "    print(type(arg1))\n",
    "    print(type(arg2))\n",
    "    print(type(args))\n",
    "    print(type(kwargs))"
   ]
  },
  {
   "cell_type": "code",
   "execution_count": null,
   "id": "3cea9c50",
   "metadata": {},
   "outputs": [
    {
     "name": "stdout",
     "output_type": "stream",
     "text": [
      "<class 'int'>\n",
      "<class 'int'>\n",
      "<class 'tuple'>\n",
      "<class 'dict'>\n"
     ]
    }
   ],
   "source": [
    "function2(30 , arg2=40)"
   ]
  },
  {
   "cell_type": "code",
   "execution_count": 68,
   "id": "eb2b382c",
   "metadata": {},
   "outputs": [
    {
     "name": "stdout",
     "output_type": "stream",
     "text": [
      "<class 'int'>\n",
      "<class 'int'>\n",
      "<class 'tuple'>\n",
      "<class 'dict'>\n"
     ]
    }
   ],
   "source": [
    "function2(30,arg1=40 , arg2=40)"
   ]
  },
  {
   "cell_type": "code",
   "execution_count": 69,
   "id": "2690a375",
   "metadata": {},
   "outputs": [],
   "source": [
    "def function3(arg1,*args,arg2 ,**kwargs):\n",
    "    print(type(arg1))\n",
    "    print(type(arg2))\n",
    "    print(type(args))\n",
    "    print(type(kwargs))"
   ]
  },
  {
   "cell_type": "code",
   "execution_count": 71,
   "id": "d885f363",
   "metadata": {},
   "outputs": [
    {
     "ename": "TypeError",
     "evalue": "function3() got multiple values for argument 'arg1'",
     "output_type": "error",
     "traceback": [
      "\u001b[31m---------------------------------------------------------------------------\u001b[39m",
      "\u001b[31mTypeError\u001b[39m                                 Traceback (most recent call last)",
      "\u001b[36mCell\u001b[39m\u001b[36m \u001b[39m\u001b[32mIn[71]\u001b[39m\u001b[32m, line 1\u001b[39m\n\u001b[32m----> \u001b[39m\u001b[32m1\u001b[39m \u001b[43mfunction3\u001b[49m\u001b[43m(\u001b[49m\u001b[32;43m30\u001b[39;49m\u001b[43m,\u001b[49m\u001b[43marg1\u001b[49m\u001b[43m=\u001b[49m\u001b[32;43m40\u001b[39;49m\u001b[43m \u001b[49m\u001b[43m,\u001b[49m\u001b[43m \u001b[49m\u001b[43marg2\u001b[49m\u001b[43m=\u001b[49m\u001b[32;43m40\u001b[39;49m\u001b[43m)\u001b[49m\n",
      "\u001b[31mTypeError\u001b[39m: function3() got multiple values for argument 'arg1'"
     ]
    }
   ],
   "source": [
    "function3(30,arg1=40 , arg2=40)"
   ]
  },
  {
   "cell_type": "code",
   "execution_count": null,
   "id": "988d7071",
   "metadata": {},
   "outputs": [],
   "source": [
    "def function4(arg1,/,args,arg2 , *tup , *,kwargs, kwarg2, **kwargs4):\n",
    "    print(type(arg1))\n",
    "    print(type(arg2))\n",
    "    print(type(args))\n",
    "    print(type(kwargs))"
   ]
  },
  {
   "cell_type": "code",
   "execution_count": 81,
   "id": "887ebfbc",
   "metadata": {},
   "outputs": [
    {
     "name": "stdout",
     "output_type": "stream",
     "text": [
      "<class 'int'>\n",
      "<class 'int'>\n",
      "<class 'int'>\n",
      "<class 'int'>\n"
     ]
    }
   ],
   "source": [
    "function4(2,3,4, kwarg2=4, kwargs=4, dummy=1, dummy3=3)"
   ]
  },
  {
   "cell_type": "code",
   "execution_count": null,
   "id": "0b86821f",
   "metadata": {},
   "outputs": [],
   "source": []
  },
  {
   "cell_type": "code",
   "execution_count": null,
   "id": "457b7386",
   "metadata": {},
   "outputs": [],
   "source": []
  },
  {
   "cell_type": "code",
   "execution_count": 1,
   "id": "d2d4eba3",
   "metadata": {},
   "outputs": [],
   "source": [
    "def greetUser(name):\n",
    "    print(name)"
   ]
  },
  {
   "cell_type": "code",
   "execution_count": 2,
   "id": "1e9eb0bc",
   "metadata": {},
   "outputs": [
    {
     "name": "stdout",
     "output_type": "stream",
     "text": [
      "Python\n"
     ]
    }
   ],
   "source": [
    "greetUser(\"Python\")"
   ]
  },
  {
   "cell_type": "code",
   "execution_count": 3,
   "id": "dbfa2b54",
   "metadata": {},
   "outputs": [
    {
     "name": "stdout",
     "output_type": "stream",
     "text": [
      "Java\n"
     ]
    }
   ],
   "source": [
    "greetUser(\"Java\")"
   ]
  },
  {
   "cell_type": "code",
   "execution_count": null,
   "id": "30dc5f2a",
   "metadata": {},
   "outputs": [],
   "source": [
    "name2 = \"JAVA\"\n",
    "greetUser(name=name2)"
   ]
  },
  {
   "cell_type": "code",
   "execution_count": null,
   "id": "ff12c76f",
   "metadata": {},
   "outputs": [
    {
     "ename": "TypeError",
     "evalue": "greetUser() takes 1 positional argument but 2 were given",
     "output_type": "error",
     "traceback": [
      "\u001b[31m---------------------------------------------------------------------------\u001b[39m",
      "\u001b[31mTypeError\u001b[39m                                 Traceback (most recent call last)",
      "\u001b[36mCell\u001b[39m\u001b[36m \u001b[39m\u001b[32mIn[4]\u001b[39m\u001b[32m, line 1\u001b[39m\n\u001b[32m----> \u001b[39m\u001b[32m1\u001b[39m \u001b[43mgreetUser\u001b[49m\u001b[43m(\u001b[49m\u001b[33;43m\"\u001b[39;49m\u001b[33;43mname1\u001b[39;49m\u001b[33;43m\"\u001b[39;49m\u001b[43m,\u001b[49m\u001b[43m \u001b[49m\u001b[33;43m\"\u001b[39;49m\u001b[33;43mname2\u001b[39;49m\u001b[33;43m\"\u001b[39;49m\u001b[43m)\u001b[49m\n",
      "\u001b[31mTypeError\u001b[39m: greetUser() takes 1 positional argument but 2 were given"
     ]
    }
   ],
   "source": [
    "greetUser(name=\"name1\", \"name2\")"
   ]
  },
  {
   "cell_type": "code",
   "execution_count": 5,
   "id": "e2612c5f",
   "metadata": {},
   "outputs": [],
   "source": [
    "def optionalParm():\n",
    "    print(\"I'm called....\")"
   ]
  },
  {
   "cell_type": "code",
   "execution_count": 6,
   "id": "7007ac01",
   "metadata": {},
   "outputs": [
    {
     "name": "stdout",
     "output_type": "stream",
     "text": [
      "I'm called....\n"
     ]
    }
   ],
   "source": [
    "optionalParm()"
   ]
  },
  {
   "cell_type": "code",
   "execution_count": 8,
   "id": "4e702a71",
   "metadata": {},
   "outputs": [
    {
     "ename": "TypeError",
     "evalue": "optionalParm() takes 0 positional arguments but 1 was given",
     "output_type": "error",
     "traceback": [
      "\u001b[31m---------------------------------------------------------------------------\u001b[39m",
      "\u001b[31mTypeError\u001b[39m                                 Traceback (most recent call last)",
      "\u001b[36mCell\u001b[39m\u001b[36m \u001b[39m\u001b[32mIn[8]\u001b[39m\u001b[32m, line 1\u001b[39m\n\u001b[32m----> \u001b[39m\u001b[32m1\u001b[39m \u001b[43moptionalParm\u001b[49m\u001b[43m(\u001b[49m\u001b[33;43m\"\u001b[39;49m\u001b[33;43mname\u001b[39;49m\u001b[33;43m\"\u001b[39;49m\u001b[43m)\u001b[49m\n",
      "\u001b[31mTypeError\u001b[39m: optionalParm() takes 0 positional arguments but 1 was given"
     ]
    }
   ],
   "source": [
    "optionalParm(\"name\")"
   ]
  },
  {
   "cell_type": "code",
   "execution_count": 19,
   "id": "1f5d8948",
   "metadata": {},
   "outputs": [],
   "source": [
    "def addition(a,b):\n",
    "    # print(a+b)\n",
    "    print(\"addition started\")\n",
    "    c =  a+b\n",
    "    print(\"addition ended\")\n",
    "    return c\n",
    "    "
   ]
  },
  {
   "cell_type": "code",
   "execution_count": 23,
   "id": "8b85f2be",
   "metadata": {},
   "outputs": [
    {
     "name": "stdout",
     "output_type": "stream",
     "text": [
      "['hello', 'python']\n"
     ]
    }
   ],
   "source": [
    "h = \"hello python\".split(\" \")\n",
    "print(h)"
   ]
  },
  {
   "cell_type": "code",
   "execution_count": null,
   "id": "677d2bd0",
   "metadata": {},
   "outputs": [],
   "source": []
  },
  {
   "cell_type": "code",
   "execution_count": 20,
   "id": "3db8666b",
   "metadata": {},
   "outputs": [
    {
     "name": "stdout",
     "output_type": "stream",
     "text": [
      "addition started\n",
      "addition ended\n",
      "8\n"
     ]
    }
   ],
   "source": [
    "val = addition(3,5)\n",
    "print(val)"
   ]
  },
  {
   "cell_type": "code",
   "execution_count": null,
   "id": "8b7e55fd",
   "metadata": {},
   "outputs": [
    {
     "ename": "TypeError",
     "evalue": "addition() takes 2 positional arguments but 5 were given",
     "output_type": "error",
     "traceback": [
      "\u001b[31m---------------------------------------------------------------------------\u001b[39m",
      "\u001b[31mTypeError\u001b[39m                                 Traceback (most recent call last)",
      "\u001b[36mCell\u001b[39m\u001b[36m \u001b[39m\u001b[32mIn[11]\u001b[39m\u001b[32m, line 1\u001b[39m\n\u001b[32m----> \u001b[39m\u001b[32m1\u001b[39m \u001b[43maddition\u001b[49m\u001b[43m(\u001b[49m\u001b[32;43m3\u001b[39;49m\u001b[43m,\u001b[49m\u001b[32;43m5\u001b[39;49m\u001b[43m,\u001b[49m\u001b[32;43m7\u001b[39;49m\u001b[43m,\u001b[49m\u001b[32;43m9\u001b[39;49m\u001b[43m,\u001b[49m\u001b[32;43m10\u001b[39;49m\u001b[43m)\u001b[49m\n",
      "\u001b[31mTypeError\u001b[39m: addition() takes 2 positional arguments but 5 were given"
     ]
    }
   ],
   "source": [
    "addition(3,5,7,9)"
   ]
  },
  {
   "cell_type": "code",
   "execution_count": 26,
   "id": "3db915b2",
   "metadata": {},
   "outputs": [
    {
     "name": "stdout",
     "output_type": "stream",
     "text": [
      "addition started\n",
      "addition ended\n"
     ]
    },
    {
     "data": {
      "text/plain": [
       "8"
      ]
     },
     "execution_count": 26,
     "metadata": {},
     "output_type": "execute_result"
    }
   ],
   "source": [
    "val = addition(3,5)\n",
    "val"
   ]
  },
  {
   "cell_type": "code",
   "execution_count": 27,
   "id": "8a6b7cdf",
   "metadata": {},
   "outputs": [
    {
     "name": "stdout",
     "output_type": "stream",
     "text": [
      "addition started\n",
      "addition ended\n"
     ]
    },
    {
     "data": {
      "text/plain": [
       "16"
      ]
     },
     "execution_count": 27,
     "metadata": {},
     "output_type": "execute_result"
    }
   ],
   "source": [
    "val2 = addition(7,9)\n",
    "val2"
   ]
  },
  {
   "cell_type": "code",
   "execution_count": 29,
   "id": "c59b6d28",
   "metadata": {},
   "outputs": [
    {
     "name": "stdout",
     "output_type": "stream",
     "text": [
      "addition started\n",
      "addition ended\n"
     ]
    },
    {
     "data": {
      "text/plain": [
       "24"
      ]
     },
     "execution_count": 29,
     "metadata": {},
     "output_type": "execute_result"
    }
   ],
   "source": [
    "addition(val,val2)"
   ]
  },
  {
   "cell_type": "code",
   "execution_count": 36,
   "id": "a7dd544f",
   "metadata": {},
   "outputs": [
    {
     "name": "stdout",
     "output_type": "stream",
     "text": [
      "2 X 1 = 2\n",
      "2 X 2 = 4\n",
      "2 X 3 = 6\n",
      "2 X 4 = 8\n",
      "2 X 5 = 10\n",
      "2 X 6 = 12\n",
      "2 X 7 = 14\n",
      "2 X 8 = 16\n",
      "2 X 9 = 18\n",
      "2 X 10 = 20\n"
     ]
    }
   ],
   "source": [
    "# <number> x <iter> = <val>\n",
    "# 2 x 1 = 2\n",
    "num = 2\n",
    "for i in range(1,11):\n",
    "    print('{num} X {i} = {val}'.format(num = num , i = i, val = num*i))"
   ]
  },
  {
   "cell_type": "code",
   "execution_count": 37,
   "id": "95bf2e5c",
   "metadata": {},
   "outputs": [
    {
     "name": "stdout",
     "output_type": "stream",
     "text": [
      "2 X 1 = 2\n",
      "2 X 2 = 4\n",
      "2 X 3 = 6\n",
      "2 X 4 = 8\n",
      "2 X 5 = 10\n",
      "2 X 6 = 12\n",
      "2 X 7 = 14\n",
      "2 X 8 = 16\n",
      "2 X 9 = 18\n",
      "2 X 10 = 20\n"
     ]
    }
   ],
   "source": [
    "num = 2\n",
    "for i in range(1,11):\n",
    "    print(f'{num} X {i} = {num*i}')"
   ]
  },
  {
   "cell_type": "code",
   "execution_count": 47,
   "id": "caba9b0c",
   "metadata": {},
   "outputs": [],
   "source": [
    "def printTable(num):\n",
    "    for i in range(1,11):\n",
    "        print(f'{num} X {i} = {num*i}')"
   ]
  },
  {
   "cell_type": "code",
   "execution_count": 48,
   "id": "500be875",
   "metadata": {},
   "outputs": [
    {
     "name": "stdout",
     "output_type": "stream",
     "text": [
      "2 X 1 = 2\n",
      "2 X 2 = 4\n",
      "2 X 3 = 6\n",
      "2 X 4 = 8\n",
      "2 X 5 = 10\n",
      "2 X 6 = 12\n",
      "2 X 7 = 14\n",
      "2 X 8 = 16\n",
      "2 X 9 = 18\n",
      "2 X 10 = 20\n"
     ]
    }
   ],
   "source": [
    "printTable(2)"
   ]
  },
  {
   "cell_type": "code",
   "execution_count": 40,
   "id": "14c14fed",
   "metadata": {},
   "outputs": [
    {
     "name": "stdout",
     "output_type": "stream",
     "text": [
      "5 X 1 = 5\n",
      "5 X 2 = 10\n",
      "5 X 3 = 15\n",
      "5 X 4 = 20\n",
      "5 X 5 = 25\n",
      "5 X 6 = 30\n",
      "5 X 7 = 35\n",
      "5 X 8 = 40\n",
      "5 X 9 = 45\n",
      "5 X 10 = 50\n"
     ]
    }
   ],
   "source": [
    "printTable(5)"
   ]
  },
  {
   "cell_type": "code",
   "execution_count": 41,
   "id": "e2e91bbd",
   "metadata": {},
   "outputs": [
    {
     "name": "stdout",
     "output_type": "stream",
     "text": [
      "10 X 1 = 10\n",
      "10 X 2 = 20\n",
      "10 X 3 = 30\n",
      "10 X 4 = 40\n",
      "10 X 5 = 50\n",
      "10 X 6 = 60\n",
      "10 X 7 = 70\n",
      "10 X 8 = 80\n",
      "10 X 9 = 90\n",
      "10 X 10 = 100\n"
     ]
    }
   ],
   "source": [
    "printTable(10)"
   ]
  },
  {
   "cell_type": "code",
   "execution_count": 49,
   "id": "d1409cfd",
   "metadata": {},
   "outputs": [],
   "source": [
    "def printValues(a,b):\n",
    "    print(f\"a value is {a}\")\n",
    "    print(f\"b value is {b}\")"
   ]
  },
  {
   "cell_type": "code",
   "execution_count": 50,
   "id": "de2a2155",
   "metadata": {},
   "outputs": [
    {
     "name": "stdout",
     "output_type": "stream",
     "text": [
      "a value is 30\n",
      "b value is 40\n"
     ]
    }
   ],
   "source": [
    "printValues(30,40)"
   ]
  },
  {
   "cell_type": "code",
   "execution_count": 51,
   "id": "e1b58dab",
   "metadata": {},
   "outputs": [
    {
     "name": "stdout",
     "output_type": "stream",
     "text": [
      "a value is 11\n",
      "b value is 13\n"
     ]
    }
   ],
   "source": [
    "printValues(11,13)\n",
    "# a value is 11\n",
    "# b value is 13\n",
    "\n",
    "# printTable(67,3)\n",
    "# a value is 67\n",
    "# b value is 3"
   ]
  },
  {
   "cell_type": "code",
   "execution_count": 52,
   "id": "76eb39f5",
   "metadata": {},
   "outputs": [
    {
     "name": "stdout",
     "output_type": "stream",
     "text": [
      "a value is 13\n",
      "b value is 11\n"
     ]
    }
   ],
   "source": [
    "printValues(13,11)"
   ]
  },
  {
   "cell_type": "code",
   "execution_count": 53,
   "id": "37eb7497",
   "metadata": {},
   "outputs": [
    {
     "name": "stdout",
     "output_type": "stream",
     "text": [
      "a value is 11\n",
      "b value is 13\n"
     ]
    }
   ],
   "source": [
    "printValues(b=13, a=11)"
   ]
  },
  {
   "cell_type": "code",
   "execution_count": 54,
   "id": "b73a3761",
   "metadata": {},
   "outputs": [
    {
     "ename": "SyntaxError",
     "evalue": "positional argument follows keyword argument (239762631.py, line 1)",
     "output_type": "error",
     "traceback": [
      "  \u001b[36mCell\u001b[39m\u001b[36m \u001b[39m\u001b[32mIn[54]\u001b[39m\u001b[32m, line 1\u001b[39m\n\u001b[31m    \u001b[39m\u001b[31mprintValues(b=13, 11)\u001b[39m\n                        ^\n\u001b[31mSyntaxError\u001b[39m\u001b[31m:\u001b[39m positional argument follows keyword argument\n"
     ]
    }
   ],
   "source": [
    "printValues(b=13, 11)"
   ]
  },
  {
   "cell_type": "code",
   "execution_count": null,
   "id": "74d11df1",
   "metadata": {},
   "outputs": [],
   "source": [
    "def greetUser(name):\n",
    "    print(name)\n",
    "\n",
    "    \n",
    "greetUser(\"Python\")\n",
    "# Python\n",
    "name2 = \"JAVA\"\n",
    "greetUser(name2)\n",
    "# JAVA\n",
    "\n",
    "\n",
    "\n",
    "def addition(a,b):\n",
    "    print(a,b)\n",
    "\n",
    "    \n",
    "addition(3,4)\n",
    "# 3 4\n",
    "addition(b=4,a=3)\n",
    "# 3 4\n",
    "addition(c=4,a=12)\n",
    "# Traceback (most recent call last):\n",
    "#   File \"<pyshell#14>\", line 1, in <module>\n",
    "#     addition(c=4,a=12)\n",
    "# TypeError: addition() got an unexpected keyword argument 'c'\n",
    "addition(b=30,45)\n",
    "# SyntaxError: positional argument follows keyword argument\n",
    "addition(45,b=30)\n",
    "# 45 30\n",
    "addition(45,a=30)\n",
    "# Traceback (most recent call last):\n",
    "#   File \"<pyshell#17>\", line 1, in <module>\n",
    "#     addition(45,a=30)\n",
    "# TypeError: addition() got multiple values for argument 'a'"
   ]
  },
  {
   "cell_type": "code",
   "execution_count": null,
   "id": "0d0b1a16",
   "metadata": {},
   "outputs": [],
   "source": []
  }
 ],
 "metadata": {
  "kernelspec": {
   "display_name": ".venv",
   "language": "python",
   "name": "python3"
  },
  "language_info": {
   "codemirror_mode": {
    "name": "ipython",
    "version": 3
   },
   "file_extension": ".py",
   "mimetype": "text/x-python",
   "name": "python",
   "nbconvert_exporter": "python",
   "pygments_lexer": "ipython3",
   "version": "3.12.5"
  }
 },
 "nbformat": 4,
 "nbformat_minor": 5
}
