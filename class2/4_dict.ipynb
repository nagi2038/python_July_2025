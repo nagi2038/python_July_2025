{
 "cells": [
  {
   "cell_type": "markdown",
   "id": "1318c8b5",
   "metadata": {},
   "source": [
    "# DICT"
   ]
  },
  {
   "cell_type": "markdown",
   "id": "cfc32803",
   "metadata": {},
   "source": [
    "key : phone1, phone2  \n",
    "key : []"
   ]
  },
  {
   "cell_type": "code",
   "execution_count": null,
   "id": "9b039d7d",
   "metadata": {},
   "outputs": [],
   "source": [
    "# CRUD"
   ]
  },
  {
   "cell_type": "markdown",
   "id": "bfb20efb",
   "metadata": {},
   "source": [
    "## Create"
   ]
  },
  {
   "cell_type": "code",
   "execution_count": 1,
   "id": "d677d1e0",
   "metadata": {},
   "outputs": [],
   "source": [
    "d = {}"
   ]
  },
  {
   "cell_type": "code",
   "execution_count": 2,
   "id": "61c85e26",
   "metadata": {},
   "outputs": [
    {
     "data": {
      "text/plain": [
       "dict"
      ]
     },
     "execution_count": 2,
     "metadata": {},
     "output_type": "execute_result"
    }
   ],
   "source": [
    "type(d)"
   ]
  },
  {
   "cell_type": "code",
   "execution_count": 3,
   "id": "fbf3377e",
   "metadata": {},
   "outputs": [],
   "source": [
    "d1 = dict()"
   ]
  },
  {
   "cell_type": "code",
   "execution_count": 4,
   "id": "45441db3",
   "metadata": {},
   "outputs": [
    {
     "data": {
      "text/plain": [
       "dict"
      ]
     },
     "execution_count": 4,
     "metadata": {},
     "output_type": "execute_result"
    }
   ],
   "source": [
    "type(d1)"
   ]
  },
  {
   "cell_type": "code",
   "execution_count": null,
   "id": "8d9ecd1c",
   "metadata": {},
   "outputs": [],
   "source": [
    "# RULE 1 : key value should be hashable\n",
    "# what are types of that are hashable ? \n",
    "# immutable data type"
   ]
  },
  {
   "cell_type": "code",
   "execution_count": 5,
   "id": "59a2380c",
   "metadata": {},
   "outputs": [],
   "source": [
    "s= {1,2}"
   ]
  },
  {
   "cell_type": "code",
   "execution_count": 6,
   "id": "b92a2cca",
   "metadata": {},
   "outputs": [
    {
     "ename": "TypeError",
     "evalue": "unhashable type: 'set'",
     "output_type": "error",
     "traceback": [
      "\u001b[31m---------------------------------------------------------------------------\u001b[39m",
      "\u001b[31mTypeError\u001b[39m                                 Traceback (most recent call last)",
      "\u001b[36mCell\u001b[39m\u001b[36m \u001b[39m\u001b[32mIn[6]\u001b[39m\u001b[32m, line 1\u001b[39m\n\u001b[32m----> \u001b[39m\u001b[32m1\u001b[39m \u001b[38;5;28;43mhash\u001b[39;49m\u001b[43m(\u001b[49m\u001b[43ms\u001b[49m\u001b[43m)\u001b[49m\n",
      "\u001b[31mTypeError\u001b[39m: unhashable type: 'set'"
     ]
    }
   ],
   "source": [
    "hash(s)"
   ]
  },
  {
   "cell_type": "code",
   "execution_count": 7,
   "id": "79380262",
   "metadata": {},
   "outputs": [],
   "source": [
    "# numaric , txt , tuple "
   ]
  },
  {
   "cell_type": "code",
   "execution_count": 8,
   "id": "32fe6a47",
   "metadata": {},
   "outputs": [],
   "source": [
    "d3 = { 'val1' : 23, 'val2' : 34}"
   ]
  },
  {
   "cell_type": "code",
   "execution_count": 9,
   "id": "9e41d55a",
   "metadata": {},
   "outputs": [
    {
     "data": {
      "text/plain": [
       "{'val1': 23, 'val2': 34}"
      ]
     },
     "execution_count": 9,
     "metadata": {},
     "output_type": "execute_result"
    }
   ],
   "source": [
    "d3"
   ]
  },
  {
   "cell_type": "code",
   "execution_count": 10,
   "id": "46935adc",
   "metadata": {},
   "outputs": [],
   "source": [
    "d4 = {'person1' : [1234, 5678], 'person2' : 567890}"
   ]
  },
  {
   "cell_type": "code",
   "execution_count": 11,
   "id": "495e3473",
   "metadata": {},
   "outputs": [],
   "source": [
    "d5 = { 1 : \"you are no 1\", 2 : 'you are no two'}"
   ]
  },
  {
   "cell_type": "code",
   "execution_count": 12,
   "id": "4de8ecd6",
   "metadata": {},
   "outputs": [],
   "source": [
    "d5 = { 1 : \"you are no 1\", 2.0 : 'you are no two', 3+4j : 'this is a complex number' , (1,2,3) : 'this is tuple'}"
   ]
  },
  {
   "cell_type": "code",
   "execution_count": 13,
   "id": "8868c8bc",
   "metadata": {},
   "outputs": [],
   "source": [
    "d6 = dict(a = 20, b= [1,2,3], c = (23,4))"
   ]
  },
  {
   "cell_type": "code",
   "execution_count": 14,
   "id": "529197b0",
   "metadata": {},
   "outputs": [
    {
     "data": {
      "text/plain": [
       "{'a': 20, 'b': [1, 2, 3], 'c': (23, 4)}"
      ]
     },
     "execution_count": 14,
     "metadata": {},
     "output_type": "execute_result"
    }
   ],
   "source": [
    "d6"
   ]
  },
  {
   "cell_type": "code",
   "execution_count": 15,
   "id": "f0610fc4",
   "metadata": {},
   "outputs": [
    {
     "data": {
      "text/plain": [
       "dict"
      ]
     },
     "execution_count": 15,
     "metadata": {},
     "output_type": "execute_result"
    }
   ],
   "source": [
    "type(d6)"
   ]
  },
  {
   "cell_type": "code",
   "execution_count": 16,
   "id": "a7d601b3",
   "metadata": {},
   "outputs": [],
   "source": [
    "d7  = {'a': 20, 'b': [1, 2, 3], 'c': (23, 4)}"
   ]
  },
  {
   "cell_type": "markdown",
   "id": "5ede4f12",
   "metadata": {},
   "source": [
    "## Read Dict"
   ]
  },
  {
   "cell_type": "code",
   "execution_count": 17,
   "id": "e32dc12a",
   "metadata": {},
   "outputs": [],
   "source": [
    "d1 = dict(a=20, b= 30, c=40)"
   ]
  },
  {
   "cell_type": "code",
   "execution_count": 18,
   "id": "1cb747c8",
   "metadata": {},
   "outputs": [
    {
     "name": "stdout",
     "output_type": "stream",
     "text": [
      "{'a': 20, 'b': 30, 'c': 40}\n"
     ]
    }
   ],
   "source": [
    "print(d1)"
   ]
  },
  {
   "cell_type": "code",
   "execution_count": 19,
   "id": "67b55a40",
   "metadata": {},
   "outputs": [
    {
     "data": {
      "text/plain": [
       "20"
      ]
     },
     "execution_count": 19,
     "metadata": {},
     "output_type": "execute_result"
    }
   ],
   "source": [
    "d1['a']"
   ]
  },
  {
   "cell_type": "code",
   "execution_count": 20,
   "id": "9b4e5b03",
   "metadata": {},
   "outputs": [
    {
     "data": {
      "text/plain": [
       "30"
      ]
     },
     "execution_count": 20,
     "metadata": {},
     "output_type": "execute_result"
    }
   ],
   "source": [
    "d1['b']"
   ]
  },
  {
   "cell_type": "code",
   "execution_count": 21,
   "id": "d9b261e7",
   "metadata": {},
   "outputs": [
    {
     "data": {
      "text/plain": [
       "40"
      ]
     },
     "execution_count": 21,
     "metadata": {},
     "output_type": "execute_result"
    }
   ],
   "source": [
    "d1['c']"
   ]
  },
  {
   "cell_type": "code",
   "execution_count": 22,
   "id": "be045ab7",
   "metadata": {},
   "outputs": [
    {
     "ename": "KeyError",
     "evalue": "'d'",
     "output_type": "error",
     "traceback": [
      "\u001b[31m---------------------------------------------------------------------------\u001b[39m",
      "\u001b[31mKeyError\u001b[39m                                  Traceback (most recent call last)",
      "\u001b[36mCell\u001b[39m\u001b[36m \u001b[39m\u001b[32mIn[22]\u001b[39m\u001b[32m, line 1\u001b[39m\n\u001b[32m----> \u001b[39m\u001b[32m1\u001b[39m \u001b[43md1\u001b[49m\u001b[43m[\u001b[49m\u001b[33;43m'\u001b[39;49m\u001b[33;43md\u001b[39;49m\u001b[33;43m'\u001b[39;49m\u001b[43m]\u001b[49m\n",
      "\u001b[31mKeyError\u001b[39m: 'd'"
     ]
    }
   ],
   "source": [
    "d1['d']"
   ]
  },
  {
   "cell_type": "code",
   "execution_count": 23,
   "id": "6a009c10",
   "metadata": {},
   "outputs": [
    {
     "data": {
      "text/plain": [
       "False"
      ]
     },
     "execution_count": 23,
     "metadata": {},
     "output_type": "execute_result"
    }
   ],
   "source": [
    "'d' in d1\n",
    "# key in dict_variable"
   ]
  },
  {
   "cell_type": "code",
   "execution_count": 24,
   "id": "92de662c",
   "metadata": {},
   "outputs": [
    {
     "name": "stdout",
     "output_type": "stream",
     "text": [
      "no d key in d1\n"
     ]
    }
   ],
   "source": [
    "if 'd' in d1:\n",
    "    print(d1['d'])\n",
    "else:\n",
    "    print(\"no d key in d1\")    \n"
   ]
  },
  {
   "cell_type": "code",
   "execution_count": 25,
   "id": "a7974aaf",
   "metadata": {},
   "outputs": [
    {
     "data": {
      "text/plain": [
       "{'a': 20, 'b': 30, 'c': 40}"
      ]
     },
     "execution_count": 25,
     "metadata": {},
     "output_type": "execute_result"
    }
   ],
   "source": [
    "d1"
   ]
  },
  {
   "cell_type": "code",
   "execution_count": 26,
   "id": "8a81b637",
   "metadata": {},
   "outputs": [
    {
     "data": {
      "text/plain": [
       "20"
      ]
     },
     "execution_count": 26,
     "metadata": {},
     "output_type": "execute_result"
    }
   ],
   "source": [
    "d1.get('a')"
   ]
  },
  {
   "cell_type": "code",
   "execution_count": 27,
   "id": "fe10d3cf",
   "metadata": {},
   "outputs": [],
   "source": [
    "d1.get('d')"
   ]
  },
  {
   "cell_type": "code",
   "execution_count": 29,
   "id": "6286c22e",
   "metadata": {},
   "outputs": [],
   "source": [
    "val = d1.get('d')"
   ]
  },
  {
   "cell_type": "code",
   "execution_count": 30,
   "id": "3f8ea97b",
   "metadata": {},
   "outputs": [
    {
     "name": "stdout",
     "output_type": "stream",
     "text": [
      "<class 'NoneType'>\n"
     ]
    }
   ],
   "source": [
    "print(type(val))"
   ]
  },
  {
   "cell_type": "code",
   "execution_count": 31,
   "id": "8acfca76",
   "metadata": {},
   "outputs": [
    {
     "data": {
      "text/plain": [
       "'no key d present in d1'"
      ]
     },
     "execution_count": 31,
     "metadata": {},
     "output_type": "execute_result"
    }
   ],
   "source": [
    "d.get('d' , 'no key d present in d1')"
   ]
  },
  {
   "cell_type": "code",
   "execution_count": 32,
   "id": "bb508ada",
   "metadata": {},
   "outputs": [
    {
     "data": {
      "text/plain": [
       "True"
      ]
     },
     "execution_count": 32,
     "metadata": {},
     "output_type": "execute_result"
    }
   ],
   "source": [
    "d.get('d' ,True)"
   ]
  },
  {
   "cell_type": "markdown",
   "id": "1025e299",
   "metadata": {},
   "source": [
    "##  Update"
   ]
  },
  {
   "cell_type": "code",
   "execution_count": 34,
   "id": "a2cd9c42",
   "metadata": {},
   "outputs": [],
   "source": [
    "lst = [1,2,3]"
   ]
  },
  {
   "cell_type": "code",
   "execution_count": 35,
   "id": "242c95b8",
   "metadata": {},
   "outputs": [
    {
     "data": {
      "text/plain": [
       "2"
      ]
     },
     "execution_count": 35,
     "metadata": {},
     "output_type": "execute_result"
    }
   ],
   "source": [
    "lst[1]"
   ]
  },
  {
   "cell_type": "code",
   "execution_count": 36,
   "id": "24594187",
   "metadata": {},
   "outputs": [],
   "source": [
    "lst[1] = 45"
   ]
  },
  {
   "cell_type": "code",
   "execution_count": 64,
   "id": "577752c8",
   "metadata": {},
   "outputs": [
    {
     "ename": "IndexError",
     "evalue": "list assignment index out of range",
     "output_type": "error",
     "traceback": [
      "\u001b[31m---------------------------------------------------------------------------\u001b[39m",
      "\u001b[31mIndexError\u001b[39m                                Traceback (most recent call last)",
      "\u001b[36mCell\u001b[39m\u001b[36m \u001b[39m\u001b[32mIn[64]\u001b[39m\u001b[32m, line 1\u001b[39m\n\u001b[32m----> \u001b[39m\u001b[32m1\u001b[39m \u001b[43mlst\u001b[49m\u001b[43m[\u001b[49m\u001b[32;43m4\u001b[39;49m\u001b[43m]\u001b[49m = \u001b[32m45\u001b[39m\n",
      "\u001b[31mIndexError\u001b[39m: list assignment index out of range"
     ]
    }
   ],
   "source": [
    "lst[4] = 45"
   ]
  },
  {
   "cell_type": "code",
   "execution_count": 37,
   "id": "1eadd001",
   "metadata": {},
   "outputs": [
    {
     "data": {
      "text/plain": [
       "[1, 45, 3]"
      ]
     },
     "execution_count": 37,
     "metadata": {},
     "output_type": "execute_result"
    }
   ],
   "source": [
    "lst"
   ]
  },
  {
   "cell_type": "code",
   "execution_count": 38,
   "id": "ae1972bf",
   "metadata": {},
   "outputs": [],
   "source": [
    "d = {'a' : 1, 'b': 2, 'c':3}"
   ]
  },
  {
   "cell_type": "code",
   "execution_count": 39,
   "id": "afe18b3b",
   "metadata": {},
   "outputs": [
    {
     "data": {
      "text/plain": [
       "{'a': 1, 'b': 2, 'c': 3}"
      ]
     },
     "execution_count": 39,
     "metadata": {},
     "output_type": "execute_result"
    }
   ],
   "source": [
    "d"
   ]
  },
  {
   "cell_type": "code",
   "execution_count": 40,
   "id": "ce1d720b",
   "metadata": {},
   "outputs": [
    {
     "data": {
      "text/plain": [
       "1"
      ]
     },
     "execution_count": 40,
     "metadata": {},
     "output_type": "execute_result"
    }
   ],
   "source": [
    "d['a']"
   ]
  },
  {
   "cell_type": "code",
   "execution_count": 41,
   "id": "b3cffeda",
   "metadata": {},
   "outputs": [],
   "source": [
    "d['a'] = 34"
   ]
  },
  {
   "cell_type": "code",
   "execution_count": 42,
   "id": "d67f946f",
   "metadata": {},
   "outputs": [
    {
     "data": {
      "text/plain": [
       "{'a': 34, 'b': 2, 'c': 3}"
      ]
     },
     "execution_count": 42,
     "metadata": {},
     "output_type": "execute_result"
    }
   ],
   "source": [
    "d"
   ]
  },
  {
   "cell_type": "code",
   "execution_count": 43,
   "id": "37381719",
   "metadata": {},
   "outputs": [],
   "source": [
    "d['key'] = 4557"
   ]
  },
  {
   "cell_type": "code",
   "execution_count": 44,
   "id": "e528ef2f",
   "metadata": {},
   "outputs": [
    {
     "data": {
      "text/plain": [
       "{'a': 34, 'b': 2, 'c': 3, 'key': 4557}"
      ]
     },
     "execution_count": 44,
     "metadata": {},
     "output_type": "execute_result"
    }
   ],
   "source": [
    "d"
   ]
  },
  {
   "cell_type": "code",
   "execution_count": 45,
   "id": "e9623a7a",
   "metadata": {},
   "outputs": [],
   "source": [
    "# d['key'] = 4557\n",
    "# it can be used for updating existing key : value\n",
    "# same can be used to insert value"
   ]
  },
  {
   "cell_type": "code",
   "execution_count": 46,
   "id": "71a7bdad",
   "metadata": {},
   "outputs": [
    {
     "data": {
      "text/plain": [
       "['__class__',\n",
       " '__class_getitem__',\n",
       " '__contains__',\n",
       " '__delattr__',\n",
       " '__delitem__',\n",
       " '__dir__',\n",
       " '__doc__',\n",
       " '__eq__',\n",
       " '__format__',\n",
       " '__ge__',\n",
       " '__getattribute__',\n",
       " '__getitem__',\n",
       " '__getstate__',\n",
       " '__gt__',\n",
       " '__hash__',\n",
       " '__init__',\n",
       " '__init_subclass__',\n",
       " '__ior__',\n",
       " '__iter__',\n",
       " '__le__',\n",
       " '__len__',\n",
       " '__lt__',\n",
       " '__ne__',\n",
       " '__new__',\n",
       " '__or__',\n",
       " '__reduce__',\n",
       " '__reduce_ex__',\n",
       " '__repr__',\n",
       " '__reversed__',\n",
       " '__ror__',\n",
       " '__setattr__',\n",
       " '__setitem__',\n",
       " '__sizeof__',\n",
       " '__str__',\n",
       " '__subclasshook__',\n",
       " 'clear',\n",
       " 'copy',\n",
       " 'fromkeys',\n",
       " 'get',\n",
       " 'items',\n",
       " 'keys',\n",
       " 'pop',\n",
       " 'popitem',\n",
       " 'setdefault',\n",
       " 'update',\n",
       " 'values']"
      ]
     },
     "execution_count": 46,
     "metadata": {},
     "output_type": "execute_result"
    }
   ],
   "source": [
    "dir(dict)"
   ]
  },
  {
   "cell_type": "code",
   "execution_count": 48,
   "id": "673fc467",
   "metadata": {},
   "outputs": [
    {
     "data": {
      "text/plain": [
       "{'a': 34, 'b': 2, 'c': 3, 'key': 4557}"
      ]
     },
     "execution_count": 48,
     "metadata": {},
     "output_type": "execute_result"
    }
   ],
   "source": [
    "d"
   ]
  },
  {
   "cell_type": "code",
   "execution_count": 47,
   "id": "c11bf3c6",
   "metadata": {},
   "outputs": [
    {
     "data": {
      "text/plain": [
       "dict_items([('a', 34), ('b', 2), ('c', 3), ('key', 4557)])"
      ]
     },
     "execution_count": 47,
     "metadata": {},
     "output_type": "execute_result"
    }
   ],
   "source": [
    "d.items()"
   ]
  },
  {
   "cell_type": "code",
   "execution_count": 50,
   "id": "9eebd86b",
   "metadata": {},
   "outputs": [],
   "source": [
    "store_dict = d.items()"
   ]
  },
  {
   "cell_type": "code",
   "execution_count": 58,
   "id": "1915c81c",
   "metadata": {},
   "outputs": [
    {
     "name": "stdout",
     "output_type": "stream",
     "text": [
      "[('a', 34), ('b', 2), ('c', 3), ('key', 4557)]\n"
     ]
    }
   ],
   "source": [
    "val = list(store_dict)\n",
    "print(val)"
   ]
  },
  {
   "cell_type": "code",
   "execution_count": 57,
   "id": "84ecb72c",
   "metadata": {},
   "outputs": [
    {
     "data": {
      "text/plain": [
       "('a', 34)"
      ]
     },
     "execution_count": 57,
     "metadata": {},
     "output_type": "execute_result"
    }
   ],
   "source": [
    "val[0]"
   ]
  },
  {
   "cell_type": "code",
   "execution_count": 59,
   "id": "e1d24a22",
   "metadata": {},
   "outputs": [],
   "source": [
    "keys = d.keys()"
   ]
  },
  {
   "cell_type": "code",
   "execution_count": 66,
   "id": "0dfe8fbc",
   "metadata": {},
   "outputs": [
    {
     "data": {
      "text/plain": [
       "dict_keys(['a', 'b', 'c', 'key'])"
      ]
     },
     "execution_count": 66,
     "metadata": {},
     "output_type": "execute_result"
    }
   ],
   "source": [
    "keys"
   ]
  },
  {
   "cell_type": "code",
   "execution_count": 60,
   "id": "fa33eae5",
   "metadata": {},
   "outputs": [
    {
     "data": {
      "text/plain": [
       "['a', 'b', 'c', 'key']"
      ]
     },
     "execution_count": 60,
     "metadata": {},
     "output_type": "execute_result"
    }
   ],
   "source": [
    "list(keys)"
   ]
  },
  {
   "cell_type": "code",
   "execution_count": 61,
   "id": "9461cd9a",
   "metadata": {},
   "outputs": [
    {
     "data": {
      "text/plain": [
       "dict_values([34, 2, 3, 4557])"
      ]
     },
     "execution_count": 61,
     "metadata": {},
     "output_type": "execute_result"
    }
   ],
   "source": [
    "d.values()"
   ]
  },
  {
   "cell_type": "code",
   "execution_count": 62,
   "id": "0909268f",
   "metadata": {},
   "outputs": [
    {
     "data": {
      "text/plain": [
       "[34, 2, 3, 4557]"
      ]
     },
     "execution_count": 62,
     "metadata": {},
     "output_type": "execute_result"
    }
   ],
   "source": [
    "list(d.values())"
   ]
  },
  {
   "cell_type": "code",
   "execution_count": 63,
   "id": "fd5f3f41",
   "metadata": {},
   "outputs": [
    {
     "data": {
      "text/plain": [
       "{'a': 34, 'b': 2, 'c': 3, 'key': 4557}"
      ]
     },
     "execution_count": 63,
     "metadata": {},
     "output_type": "execute_result"
    }
   ],
   "source": [
    "d"
   ]
  },
  {
   "cell_type": "code",
   "execution_count": 67,
   "id": "6032efeb",
   "metadata": {},
   "outputs": [
    {
     "data": {
      "text/plain": [
       "dict_items([('a', 34), ('b', 2), ('c', 3), ('key', 4557)])"
      ]
     },
     "execution_count": 67,
     "metadata": {},
     "output_type": "execute_result"
    }
   ],
   "source": [
    "d.items()"
   ]
  },
  {
   "cell_type": "code",
   "execution_count": 69,
   "id": "628d831f",
   "metadata": {},
   "outputs": [
    {
     "data": {
      "text/plain": [
       "[('a', 34), ('b', 2), ('c', 3), ('key', 4557)]"
      ]
     },
     "execution_count": 69,
     "metadata": {},
     "output_type": "execute_result"
    }
   ],
   "source": [
    "list(d.items())"
   ]
  },
  {
   "cell_type": "markdown",
   "id": "244414bd",
   "metadata": {},
   "source": [
    "## Delete"
   ]
  },
  {
   "cell_type": "code",
   "execution_count": 70,
   "id": "ba914770",
   "metadata": {},
   "outputs": [
    {
     "data": {
      "text/plain": [
       "{'a': 34, 'b': 2, 'c': 3, 'key': 4557}"
      ]
     },
     "execution_count": 70,
     "metadata": {},
     "output_type": "execute_result"
    }
   ],
   "source": [
    "d"
   ]
  },
  {
   "cell_type": "code",
   "execution_count": 72,
   "id": "2a4f20f8",
   "metadata": {},
   "outputs": [
    {
     "data": {
      "text/plain": [
       "4557"
      ]
     },
     "execution_count": 72,
     "metadata": {},
     "output_type": "execute_result"
    }
   ],
   "source": [
    "d.pop('key')"
   ]
  },
  {
   "cell_type": "code",
   "execution_count": 73,
   "id": "0dadbdfb",
   "metadata": {},
   "outputs": [
    {
     "data": {
      "text/plain": [
       "{'a': 34, 'b': 2, 'c': 3}"
      ]
     },
     "execution_count": 73,
     "metadata": {},
     "output_type": "execute_result"
    }
   ],
   "source": [
    "d"
   ]
  },
  {
   "cell_type": "code",
   "execution_count": 74,
   "id": "d1ee5b31",
   "metadata": {},
   "outputs": [
    {
     "ename": "KeyError",
     "evalue": "'no key value'",
     "output_type": "error",
     "traceback": [
      "\u001b[31m---------------------------------------------------------------------------\u001b[39m",
      "\u001b[31mKeyError\u001b[39m                                  Traceback (most recent call last)",
      "\u001b[36mCell\u001b[39m\u001b[36m \u001b[39m\u001b[32mIn[74]\u001b[39m\u001b[32m, line 1\u001b[39m\n\u001b[32m----> \u001b[39m\u001b[32m1\u001b[39m \u001b[43md\u001b[49m\u001b[43m.\u001b[49m\u001b[43mpop\u001b[49m\u001b[43m(\u001b[49m\u001b[33;43m\"\u001b[39;49m\u001b[33;43mno key value\u001b[39;49m\u001b[33;43m\"\u001b[39;49m\u001b[43m)\u001b[49m\n",
      "\u001b[31mKeyError\u001b[39m: 'no key value'"
     ]
    }
   ],
   "source": [
    "d.pop(\"no key value\")"
   ]
  },
  {
   "cell_type": "code",
   "execution_count": 75,
   "id": "91082742",
   "metadata": {},
   "outputs": [],
   "source": [
    "del d['a']"
   ]
  },
  {
   "cell_type": "code",
   "execution_count": 76,
   "id": "05a2a33f",
   "metadata": {},
   "outputs": [
    {
     "data": {
      "text/plain": [
       "{'b': 2, 'c': 3}"
      ]
     },
     "execution_count": 76,
     "metadata": {},
     "output_type": "execute_result"
    }
   ],
   "source": [
    "d"
   ]
  },
  {
   "cell_type": "code",
   "execution_count": 77,
   "id": "d427b88d",
   "metadata": {},
   "outputs": [
    {
     "ename": "KeyError",
     "evalue": "'no key'",
     "output_type": "error",
     "traceback": [
      "\u001b[31m---------------------------------------------------------------------------\u001b[39m",
      "\u001b[31mKeyError\u001b[39m                                  Traceback (most recent call last)",
      "\u001b[36mCell\u001b[39m\u001b[36m \u001b[39m\u001b[32mIn[77]\u001b[39m\u001b[32m, line 1\u001b[39m\n\u001b[32m----> \u001b[39m\u001b[32m1\u001b[39m \u001b[38;5;28;01mdel\u001b[39;00m \u001b[43md\u001b[49m\u001b[43m[\u001b[49m\u001b[33;43m'\u001b[39;49m\u001b[33;43mno key\u001b[39;49m\u001b[33;43m'\u001b[39;49m\u001b[43m]\u001b[49m\n",
      "\u001b[31mKeyError\u001b[39m: 'no key'"
     ]
    }
   ],
   "source": [
    "del d['no key']"
   ]
  },
  {
   "cell_type": "code",
   "execution_count": 78,
   "id": "e2c35a1f",
   "metadata": {},
   "outputs": [],
   "source": [
    "d = dict(a=10, b= 20, c=30)"
   ]
  },
  {
   "cell_type": "code",
   "execution_count": 79,
   "id": "54f2ab57",
   "metadata": {},
   "outputs": [
    {
     "data": {
      "text/plain": [
       "{'a': 10, 'b': 20, 'c': 30}"
      ]
     },
     "execution_count": 79,
     "metadata": {},
     "output_type": "execute_result"
    }
   ],
   "source": [
    "d"
   ]
  },
  {
   "cell_type": "code",
   "execution_count": 80,
   "id": "255b54f2",
   "metadata": {},
   "outputs": [
    {
     "data": {
      "text/plain": [
       "('c', 30)"
      ]
     },
     "execution_count": 80,
     "metadata": {},
     "output_type": "execute_result"
    }
   ],
   "source": [
    "d.popitem()"
   ]
  },
  {
   "cell_type": "code",
   "execution_count": 81,
   "id": "d5d10584",
   "metadata": {},
   "outputs": [
    {
     "data": {
      "text/plain": [
       "{'a': 10, 'b': 20}"
      ]
     },
     "execution_count": 81,
     "metadata": {},
     "output_type": "execute_result"
    }
   ],
   "source": [
    "d"
   ]
  },
  {
   "cell_type": "code",
   "execution_count": 82,
   "id": "48ce7da8",
   "metadata": {},
   "outputs": [
    {
     "data": {
      "text/plain": [
       "('b', 20)"
      ]
     },
     "execution_count": 82,
     "metadata": {},
     "output_type": "execute_result"
    }
   ],
   "source": [
    "d.popitem()"
   ]
  },
  {
   "cell_type": "code",
   "execution_count": 83,
   "id": "929622b2",
   "metadata": {},
   "outputs": [
    {
     "data": {
      "text/plain": [
       "{'a': 10}"
      ]
     },
     "execution_count": 83,
     "metadata": {},
     "output_type": "execute_result"
    }
   ],
   "source": [
    "d"
   ]
  },
  {
   "cell_type": "code",
   "execution_count": 84,
   "id": "4d30f44e",
   "metadata": {},
   "outputs": [
    {
     "data": {
      "text/plain": [
       "('a', 10)"
      ]
     },
     "execution_count": 84,
     "metadata": {},
     "output_type": "execute_result"
    }
   ],
   "source": [
    "d.popitem()"
   ]
  },
  {
   "cell_type": "code",
   "execution_count": 85,
   "id": "dca07ff8",
   "metadata": {},
   "outputs": [
    {
     "data": {
      "text/plain": [
       "{}"
      ]
     },
     "execution_count": 85,
     "metadata": {},
     "output_type": "execute_result"
    }
   ],
   "source": [
    "d"
   ]
  },
  {
   "cell_type": "code",
   "execution_count": 86,
   "id": "1065156a",
   "metadata": {},
   "outputs": [
    {
     "ename": "KeyError",
     "evalue": "'popitem(): dictionary is empty'",
     "output_type": "error",
     "traceback": [
      "\u001b[31m---------------------------------------------------------------------------\u001b[39m",
      "\u001b[31mKeyError\u001b[39m                                  Traceback (most recent call last)",
      "\u001b[36mCell\u001b[39m\u001b[36m \u001b[39m\u001b[32mIn[86]\u001b[39m\u001b[32m, line 1\u001b[39m\n\u001b[32m----> \u001b[39m\u001b[32m1\u001b[39m \u001b[43md\u001b[49m\u001b[43m.\u001b[49m\u001b[43mpopitem\u001b[49m\u001b[43m(\u001b[49m\u001b[43m)\u001b[49m\n",
      "\u001b[31mKeyError\u001b[39m: 'popitem(): dictionary is empty'"
     ]
    }
   ],
   "source": [
    "d.popitem()"
   ]
  },
  {
   "cell_type": "code",
   "execution_count": null,
   "id": "325e23f2",
   "metadata": {},
   "outputs": [],
   "source": []
  },
  {
   "cell_type": "code",
   "execution_count": 87,
   "id": "83e50741",
   "metadata": {},
   "outputs": [
    {
     "ename": "TypeError",
     "evalue": "unhashable type: 'list'",
     "output_type": "error",
     "traceback": [
      "\u001b[31m---------------------------------------------------------------------------\u001b[39m",
      "\u001b[31mTypeError\u001b[39m                                 Traceback (most recent call last)",
      "\u001b[36mCell\u001b[39m\u001b[36m \u001b[39m\u001b[32mIn[87]\u001b[39m\u001b[32m, line 1\u001b[39m\n\u001b[32m----> \u001b[39m\u001b[32m1\u001b[39m d = {(\u001b[32m1\u001b[39m,\u001b[32m2\u001b[39m,\u001b[32m4\u001b[39m) : \u001b[33m'\u001b[39m\u001b[33mthis is tuple\u001b[39m\u001b[33m'\u001b[39m, [\u001b[32m1\u001b[39m,\u001b[32m2\u001b[39m,\u001b[32m4\u001b[39m] : \u001b[33m\"\u001b[39m\u001b[33mthis is list\u001b[39m\u001b[33m\"\u001b[39m}\n",
      "\u001b[31mTypeError\u001b[39m: unhashable type: 'list'"
     ]
    }
   ],
   "source": [
    "d = {(1,2,4) : 'this is tuple', [1,2,4] : \"this is list\"}"
   ]
  },
  {
   "cell_type": "code",
   "execution_count": null,
   "id": "ab48f105",
   "metadata": {},
   "outputs": [],
   "source": []
  },
  {
   "cell_type": "code",
   "execution_count": 90,
   "id": "ad01d237",
   "metadata": {},
   "outputs": [],
   "source": [
    "d = {'a' : 20, 'a' : 30}"
   ]
  },
  {
   "cell_type": "code",
   "execution_count": 92,
   "id": "6315763d",
   "metadata": {},
   "outputs": [
    {
     "data": {
      "text/plain": [
       "{'a': 30}"
      ]
     },
     "execution_count": 92,
     "metadata": {},
     "output_type": "execute_result"
    }
   ],
   "source": [
    "d"
   ]
  },
  {
   "cell_type": "code",
   "execution_count": 94,
   "id": "f74f3422",
   "metadata": {},
   "outputs": [],
   "source": [
    "d = {'a' : 20, 'b': 20}"
   ]
  },
  {
   "cell_type": "code",
   "execution_count": 95,
   "id": "6bcfa6cf",
   "metadata": {},
   "outputs": [
    {
     "data": {
      "text/plain": [
       "{'a': 20, 'b': 20}"
      ]
     },
     "execution_count": 95,
     "metadata": {},
     "output_type": "execute_result"
    }
   ],
   "source": [
    "d"
   ]
  },
  {
   "cell_type": "markdown",
   "id": "74fcc9d1",
   "metadata": {},
   "source": [
    "| List | Tuple | set|Dict\n",
    "|:---:|:--:|:---:| :--:|\n",
    "| [], [1,2,3], list()  | (), tuple(), (1,2,3) | set(), {1,2,3}|{}, dict(), {'a':3,'b':4}, dict(a=20, b= 30)|\n",
    "| mutables| Immutable| mutables| mutable | mutable|\n",
    "|accepts all data type| accepts all data type| accepts only Immutables| key= immutable , values = all data types|\n",
    "| can be indexed | can be indexed | can't be indexed| can't be indexed |\n",
    "| allow duplicates | allow dupulicates | no duplicates are allowed| key= no duplicates , values= duplicates are allowed | \n",
    "| stores original value | store original value | store hash values| store hash keys , and store original values|\n",
    "| sequence storage| sequence storage | no order | no order"
   ]
  },
  {
   "cell_type": "code",
   "execution_count": 6,
   "id": "36ddcacb",
   "metadata": {},
   "outputs": [],
   "source": [
    "d = dict(a=10, b=20, c=13, d = 45, e = 12, f = 13)"
   ]
  },
  {
   "cell_type": "code",
   "execution_count": 10,
   "id": "959e7002",
   "metadata": {},
   "outputs": [
    {
     "data": {
      "text/plain": [
       "{'a': 10, 'b': 20, 'c': 13, 'd': 45, 'e': 12, 'f': 13}"
      ]
     },
     "execution_count": 10,
     "metadata": {},
     "output_type": "execute_result"
    }
   ],
   "source": [
    "d"
   ]
  },
  {
   "cell_type": "code",
   "execution_count": 11,
   "id": "f4a1e80f",
   "metadata": {},
   "outputs": [
    {
     "data": {
      "text/plain": [
       "['a', 'b', 'c', 'd', 'e', 'f']"
      ]
     },
     "execution_count": 11,
     "metadata": {},
     "output_type": "execute_result"
    }
   ],
   "source": [
    "list(d)"
   ]
  },
  {
   "cell_type": "code",
   "execution_count": 13,
   "id": "09d6b504",
   "metadata": {},
   "outputs": [],
   "source": [
    "lst = list(d.items())"
   ]
  },
  {
   "cell_type": "code",
   "execution_count": 14,
   "id": "7354d664",
   "metadata": {},
   "outputs": [
    {
     "data": {
      "text/plain": [
       "[('a', 10), ('b', 20), ('c', 13), ('d', 45), ('e', 12), ('f', 13)]"
      ]
     },
     "execution_count": 14,
     "metadata": {},
     "output_type": "execute_result"
    }
   ],
   "source": [
    "lst"
   ]
  },
  {
   "cell_type": "code",
   "execution_count": 15,
   "id": "03400d31",
   "metadata": {},
   "outputs": [],
   "source": [
    "lst.sort()"
   ]
  },
  {
   "cell_type": "code",
   "execution_count": 16,
   "id": "c48bd665",
   "metadata": {},
   "outputs": [
    {
     "data": {
      "text/plain": [
       "[('a', 10), ('b', 20), ('c', 13), ('d', 45), ('e', 12), ('f', 13)]"
      ]
     },
     "execution_count": 16,
     "metadata": {},
     "output_type": "execute_result"
    }
   ],
   "source": [
    "lst"
   ]
  },
  {
   "cell_type": "code",
   "execution_count": 17,
   "id": "cbfec950",
   "metadata": {},
   "outputs": [],
   "source": [
    "lst.sort(key=lambda x : x[1])"
   ]
  },
  {
   "cell_type": "code",
   "execution_count": 18,
   "id": "3a26fcd8",
   "metadata": {},
   "outputs": [
    {
     "data": {
      "text/plain": [
       "[('a', 10), ('e', 12), ('c', 13), ('f', 13), ('b', 20), ('d', 45)]"
      ]
     },
     "execution_count": 18,
     "metadata": {},
     "output_type": "execute_result"
    }
   ],
   "source": [
    "lst"
   ]
  },
  {
   "cell_type": "code",
   "execution_count": 20,
   "id": "ccf6aee0",
   "metadata": {},
   "outputs": [
    {
     "data": {
      "text/plain": [
       "{'a': 10, 'e': 12, 'c': 13, 'f': 13, 'b': 20, 'd': 45}"
      ]
     },
     "execution_count": 20,
     "metadata": {},
     "output_type": "execute_result"
    }
   ],
   "source": [
    "{i[0]:i[1] for i in lst}"
   ]
  },
  {
   "cell_type": "code",
   "execution_count": null,
   "id": "7f84bd51",
   "metadata": {},
   "outputs": [],
   "source": []
  },
  {
   "cell_type": "code",
   "execution_count": 21,
   "id": "cce436d0",
   "metadata": {},
   "outputs": [],
   "source": [
    "y = {i[0]:i[1] for i in lst}"
   ]
  },
  {
   "cell_type": "code",
   "execution_count": 22,
   "id": "8ce6e6be",
   "metadata": {},
   "outputs": [
    {
     "data": {
      "text/plain": [
       "dict"
      ]
     },
     "execution_count": 22,
     "metadata": {},
     "output_type": "execute_result"
    }
   ],
   "source": [
    "type(y)"
   ]
  },
  {
   "cell_type": "code",
   "execution_count": null,
   "id": "73cd7d75",
   "metadata": {},
   "outputs": [],
   "source": []
  }
 ],
 "metadata": {
  "kernelspec": {
   "display_name": ".venv",
   "language": "python",
   "name": "python3"
  },
  "language_info": {
   "codemirror_mode": {
    "name": "ipython",
    "version": 3
   },
   "file_extension": ".py",
   "mimetype": "text/x-python",
   "name": "python",
   "nbconvert_exporter": "python",
   "pygments_lexer": "ipython3",
   "version": "3.12.5"
  }
 },
 "nbformat": 4,
 "nbformat_minor": 5
}
