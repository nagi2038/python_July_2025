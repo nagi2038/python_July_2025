{
 "cells": [
  {
   "cell_type": "markdown",
   "id": "21f3aa3e",
   "metadata": {},
   "source": [
    "# Strings"
   ]
  },
  {
   "cell_type": "code",
   "execution_count": 2,
   "id": "db0d3bfe",
   "metadata": {},
   "outputs": [],
   "source": [
    "# CRUD"
   ]
  },
  {
   "cell_type": "code",
   "execution_count": 3,
   "id": "a3fce197",
   "metadata": {},
   "outputs": [],
   "source": [
    "# stirngs are immutable"
   ]
  },
  {
   "cell_type": "code",
   "execution_count": null,
   "id": "cc59ab3d",
   "metadata": {},
   "outputs": [],
   "source": [
    "a = \"hello\""
   ]
  },
  {
   "cell_type": "code",
   "execution_count": 5,
   "id": "43fa508e",
   "metadata": {},
   "outputs": [],
   "source": [
    "a = \"\""
   ]
  },
  {
   "cell_type": "code",
   "execution_count": 6,
   "id": "6821eae2",
   "metadata": {},
   "outputs": [],
   "source": [
    "a = ''"
   ]
  },
  {
   "cell_type": "code",
   "execution_count": 7,
   "id": "360b20c8",
   "metadata": {},
   "outputs": [],
   "source": [
    "a = str()"
   ]
  },
  {
   "cell_type": "code",
   "execution_count": 8,
   "id": "21a53d12",
   "metadata": {},
   "outputs": [],
   "source": [
    "a = ''''''"
   ]
  },
  {
   "cell_type": "code",
   "execution_count": 11,
   "id": "da6da4cd",
   "metadata": {},
   "outputs": [],
   "source": [
    "a = \"\"\"\"\"\""
   ]
  },
  {
   "cell_type": "code",
   "execution_count": 12,
   "id": "8a47aac4",
   "metadata": {},
   "outputs": [
    {
     "name": "stdout",
     "output_type": "stream",
     "text": [
      "\n"
     ]
    }
   ],
   "source": [
    "print(a)"
   ]
  },
  {
   "cell_type": "code",
   "execution_count": 13,
   "id": "2a72f5cf",
   "metadata": {},
   "outputs": [],
   "source": [
    "a = \"hello world!\""
   ]
  },
  {
   "cell_type": "code",
   "execution_count": 14,
   "id": "c66c8e04",
   "metadata": {},
   "outputs": [
    {
     "data": {
      "text/plain": [
       "'e'"
      ]
     },
     "execution_count": 14,
     "metadata": {},
     "output_type": "execute_result"
    }
   ],
   "source": [
    "a[1]"
   ]
  },
  {
   "cell_type": "code",
   "execution_count": 15,
   "id": "78431351",
   "metadata": {},
   "outputs": [
    {
     "data": {
      "text/plain": [
       "'h'"
      ]
     },
     "execution_count": 15,
     "metadata": {},
     "output_type": "execute_result"
    }
   ],
   "source": [
    "a[0]"
   ]
  },
  {
   "cell_type": "code",
   "execution_count": 16,
   "id": "d36494b0",
   "metadata": {},
   "outputs": [
    {
     "data": {
      "text/plain": [
       "'hel'"
      ]
     },
     "execution_count": 16,
     "metadata": {},
     "output_type": "execute_result"
    }
   ],
   "source": [
    "a[:3]"
   ]
  },
  {
   "cell_type": "code",
   "execution_count": 17,
   "id": "4e097ef0",
   "metadata": {},
   "outputs": [
    {
     "data": {
      "text/plain": [
       "'lo world!'"
      ]
     },
     "execution_count": 17,
     "metadata": {},
     "output_type": "execute_result"
    }
   ],
   "source": [
    "a[3:]"
   ]
  },
  {
   "cell_type": "code",
   "execution_count": 18,
   "id": "3d9a3e43",
   "metadata": {},
   "outputs": [
    {
     "data": {
      "text/plain": [
       "'hello world!'"
      ]
     },
     "execution_count": 18,
     "metadata": {},
     "output_type": "execute_result"
    }
   ],
   "source": [
    "a[:]"
   ]
  },
  {
   "cell_type": "code",
   "execution_count": 19,
   "id": "1aa43929",
   "metadata": {},
   "outputs": [
    {
     "data": {
      "text/plain": [
       "'hlowrd'"
      ]
     },
     "execution_count": 19,
     "metadata": {},
     "output_type": "execute_result"
    }
   ],
   "source": [
    "a[::2]"
   ]
  },
  {
   "cell_type": "code",
   "execution_count": 23,
   "id": "3e9fd62b",
   "metadata": {},
   "outputs": [
    {
     "data": {
      "text/plain": [
       "'!dlrow olleh'"
      ]
     },
     "execution_count": 23,
     "metadata": {},
     "output_type": "execute_result"
    }
   ],
   "source": [
    "a[::-1]"
   ]
  },
  {
   "cell_type": "code",
   "execution_count": 37,
   "id": "a1fc32c1",
   "metadata": {},
   "outputs": [],
   "source": [
    "lst = [1,2,3,4,5,6]"
   ]
  },
  {
   "cell_type": "code",
   "execution_count": 38,
   "id": "bb703968",
   "metadata": {},
   "outputs": [
    {
     "data": {
      "text/plain": [
       "[6, 5, 4, 3, 2, 1]"
      ]
     },
     "execution_count": 38,
     "metadata": {},
     "output_type": "execute_result"
    }
   ],
   "source": [
    "lst[::-1]"
   ]
  },
  {
   "cell_type": "code",
   "execution_count": 39,
   "id": "7178117f",
   "metadata": {},
   "outputs": [
    {
     "data": {
      "text/plain": [
       "[1, 2, 3, 4, 5, 6]"
      ]
     },
     "execution_count": 39,
     "metadata": {},
     "output_type": "execute_result"
    }
   ],
   "source": [
    "lst"
   ]
  },
  {
   "cell_type": "code",
   "execution_count": 40,
   "id": "2ba50491",
   "metadata": {},
   "outputs": [],
   "source": [
    "lst.reverse()"
   ]
  },
  {
   "cell_type": "code",
   "execution_count": 41,
   "id": "66cf8e11",
   "metadata": {},
   "outputs": [
    {
     "data": {
      "text/plain": [
       "[6, 5, 4, 3, 2, 1]"
      ]
     },
     "execution_count": 41,
     "metadata": {},
     "output_type": "execute_result"
    }
   ],
   "source": [
    "lst"
   ]
  },
  {
   "cell_type": "code",
   "execution_count": 42,
   "id": "7a0e5e46",
   "metadata": {},
   "outputs": [
    {
     "data": {
      "text/plain": [
       "'hello world!'"
      ]
     },
     "execution_count": 42,
     "metadata": {},
     "output_type": "execute_result"
    }
   ],
   "source": [
    "a"
   ]
  },
  {
   "cell_type": "code",
   "execution_count": 47,
   "id": "2dfb9e44",
   "metadata": {},
   "outputs": [
    {
     "data": {
      "text/plain": [
       "['h', 'e', 'l', 'l', 'o', ' ', 'w', 'o', 'r', 'l', 'd', '!']"
      ]
     },
     "execution_count": 47,
     "metadata": {},
     "output_type": "execute_result"
    }
   ],
   "source": [
    "var = list(a)\n",
    "var"
   ]
  },
  {
   "cell_type": "code",
   "execution_count": 49,
   "id": "19f50b1c",
   "metadata": {},
   "outputs": [],
   "source": [
    "var[0] = 'H'"
   ]
  },
  {
   "cell_type": "code",
   "execution_count": 50,
   "id": "4f23b44a",
   "metadata": {},
   "outputs": [
    {
     "data": {
      "text/plain": [
       "['H', 'e', 'l', 'l', 'o', ' ', 'w', 'o', 'r', 'l', 'd', '!']"
      ]
     },
     "execution_count": 50,
     "metadata": {},
     "output_type": "execute_result"
    }
   ],
   "source": [
    "var"
   ]
  },
  {
   "cell_type": "code",
   "execution_count": 52,
   "id": "48263486",
   "metadata": {},
   "outputs": [],
   "source": [
    "# dir(list)"
   ]
  },
  {
   "cell_type": "code",
   "execution_count": 53,
   "id": "3f45707e",
   "metadata": {},
   "outputs": [],
   "source": [
    "var[6] = 'W'"
   ]
  },
  {
   "cell_type": "code",
   "execution_count": 54,
   "id": "ecccd420",
   "metadata": {},
   "outputs": [
    {
     "data": {
      "text/plain": [
       "['H', 'e', 'l', 'l', 'o', ' ', 'W', 'o', 'r', 'l', 'd', '!']"
      ]
     },
     "execution_count": 54,
     "metadata": {},
     "output_type": "execute_result"
    }
   ],
   "source": [
    "var"
   ]
  },
  {
   "cell_type": "code",
   "execution_count": 55,
   "id": "6b2b4cc2",
   "metadata": {},
   "outputs": [
    {
     "data": {
      "text/plain": [
       "'[6, 5, 4, 3, 2, 1]'"
      ]
     },
     "execution_count": 55,
     "metadata": {},
     "output_type": "execute_result"
    }
   ],
   "source": [
    "str(lst)"
   ]
  },
  {
   "cell_type": "code",
   "execution_count": 56,
   "id": "ad8ddfc5",
   "metadata": {},
   "outputs": [
    {
     "data": {
      "text/plain": [
       "\"['H', 'e', 'l', 'l', 'o', ' ', 'W', 'o', 'r', 'l', 'd', '!']\""
      ]
     },
     "execution_count": 56,
     "metadata": {},
     "output_type": "execute_result"
    }
   ],
   "source": [
    "str(var)"
   ]
  },
  {
   "cell_type": "code",
   "execution_count": null,
   "id": "cb55683c",
   "metadata": {},
   "outputs": [],
   "source": []
  },
  {
   "cell_type": "code",
   "execution_count": 57,
   "id": "8956e323",
   "metadata": {},
   "outputs": [
    {
     "data": {
      "text/plain": [
       "'Hello World!'"
      ]
     },
     "execution_count": 57,
     "metadata": {},
     "output_type": "execute_result"
    }
   ],
   "source": [
    "\"\".join(var)"
   ]
  },
  {
   "cell_type": "code",
   "execution_count": 1,
   "id": "393cdf0c",
   "metadata": {},
   "outputs": [],
   "source": [
    "hello = \"hello python\""
   ]
  },
  {
   "cell_type": "code",
   "execution_count": 3,
   "id": "73d565c6",
   "metadata": {},
   "outputs": [
    {
     "data": {
      "text/plain": [
       "['h', 'e', 'l', 'l', 'o', ' ', 'p', 'y', 't', 'h', 'o', 'n']"
      ]
     },
     "execution_count": 3,
     "metadata": {},
     "output_type": "execute_result"
    }
   ],
   "source": [
    "list(hello)"
   ]
  },
  {
   "cell_type": "code",
   "execution_count": 2,
   "id": "20b3a92d",
   "metadata": {},
   "outputs": [
    {
     "data": {
      "text/plain": [
       "['hello', 'python']"
      ]
     },
     "execution_count": 2,
     "metadata": {},
     "output_type": "execute_result"
    }
   ],
   "source": [
    "hello.split(' ')"
   ]
  },
  {
   "cell_type": "code",
   "execution_count": 9,
   "id": "e291cc9c",
   "metadata": {},
   "outputs": [
    {
     "data": {
      "text/plain": [
       "['hello', 'python']"
      ]
     },
     "execution_count": 9,
     "metadata": {},
     "output_type": "execute_result"
    }
   ],
   "source": [
    "val = hello.split(' ')\n",
    "val"
   ]
  },
  {
   "cell_type": "code",
   "execution_count": 10,
   "id": "8a517a27",
   "metadata": {},
   "outputs": [
    {
     "name": "stdout",
     "output_type": "stream",
     "text": [
      "hello-python\n"
     ]
    }
   ],
   "source": [
    "var = '-'.join(val)\n",
    "print(var)"
   ]
  },
  {
   "cell_type": "code",
   "execution_count": 11,
   "id": "f007b245",
   "metadata": {},
   "outputs": [
    {
     "data": {
      "text/plain": [
       "'hello-python'"
      ]
     },
     "execution_count": 11,
     "metadata": {},
     "output_type": "execute_result"
    }
   ],
   "source": [
    "hello.replace(' ','-')"
   ]
  },
  {
   "cell_type": "code",
   "execution_count": 58,
   "id": "10354bb5",
   "metadata": {},
   "outputs": [
    {
     "data": {
      "text/plain": [
       "'H-e-l-l-o- -W-o-r-l-d-!'"
      ]
     },
     "execution_count": 58,
     "metadata": {},
     "output_type": "execute_result"
    }
   ],
   "source": [
    "'-'.join(var)"
   ]
  },
  {
   "cell_type": "code",
   "execution_count": 59,
   "id": "2de0cfc0",
   "metadata": {},
   "outputs": [
    {
     "data": {
      "text/plain": [
       "'Hello World!'"
      ]
     },
     "execution_count": 59,
     "metadata": {},
     "output_type": "execute_result"
    }
   ],
   "source": [
    "''.join(var)"
   ]
  },
  {
   "cell_type": "code",
   "execution_count": 60,
   "id": "4662cbc9",
   "metadata": {},
   "outputs": [
    {
     "data": {
      "text/plain": [
       "'hello world!'"
      ]
     },
     "execution_count": 60,
     "metadata": {},
     "output_type": "execute_result"
    }
   ],
   "source": [
    "a"
   ]
  },
  {
   "cell_type": "code",
   "execution_count": 61,
   "id": "e0d878e7",
   "metadata": {},
   "outputs": [
    {
     "data": {
      "text/plain": [
       "'Hello World!'"
      ]
     },
     "execution_count": 61,
     "metadata": {},
     "output_type": "execute_result"
    }
   ],
   "source": [
    "a.title()"
   ]
  },
  {
   "cell_type": "code",
   "execution_count": 62,
   "id": "4f1d02ed",
   "metadata": {},
   "outputs": [],
   "source": [
    "b = \"hello world from python jupyter notebook\""
   ]
  },
  {
   "cell_type": "code",
   "execution_count": 63,
   "id": "b3a430e2",
   "metadata": {},
   "outputs": [
    {
     "data": {
      "text/plain": [
       "'Hello World From Python Jupyter Notebook'"
      ]
     },
     "execution_count": 63,
     "metadata": {},
     "output_type": "execute_result"
    }
   ],
   "source": [
    "b.title()"
   ]
  },
  {
   "cell_type": "code",
   "execution_count": 64,
   "id": "698ec87c",
   "metadata": {},
   "outputs": [],
   "source": [
    "c  = \"hello world from pyt hon jupyter notebook\""
   ]
  },
  {
   "cell_type": "code",
   "execution_count": 65,
   "id": "d4e1a5d1",
   "metadata": {},
   "outputs": [
    {
     "data": {
      "text/plain": [
       "'Hello World From Pyt Hon Jupyter Notebook'"
      ]
     },
     "execution_count": 65,
     "metadata": {},
     "output_type": "execute_result"
    }
   ],
   "source": [
    "c.title()"
   ]
  },
  {
   "cell_type": "code",
   "execution_count": 66,
   "id": "94261ff8",
   "metadata": {},
   "outputs": [],
   "source": [
    "d = \"small letters\""
   ]
  },
  {
   "cell_type": "code",
   "execution_count": 67,
   "id": "68cf40f4",
   "metadata": {},
   "outputs": [
    {
     "data": {
      "text/plain": [
       "'Small letters'"
      ]
     },
     "execution_count": 67,
     "metadata": {},
     "output_type": "execute_result"
    }
   ],
   "source": [
    "d.capitalize()"
   ]
  },
  {
   "cell_type": "code",
   "execution_count": 68,
   "id": "ea3ed072",
   "metadata": {},
   "outputs": [
    {
     "data": {
      "text/plain": [
       "'SMALL LETTERS'"
      ]
     },
     "execution_count": 68,
     "metadata": {},
     "output_type": "execute_result"
    }
   ],
   "source": [
    "d.upper()"
   ]
  },
  {
   "cell_type": "code",
   "execution_count": 69,
   "id": "1cfd95c1",
   "metadata": {},
   "outputs": [],
   "source": [
    "e = \"Hello UppER\""
   ]
  },
  {
   "cell_type": "code",
   "execution_count": 70,
   "id": "ce5c6480",
   "metadata": {},
   "outputs": [
    {
     "data": {
      "text/plain": [
       "'hello upper'"
      ]
     },
     "execution_count": 70,
     "metadata": {},
     "output_type": "execute_result"
    }
   ],
   "source": [
    "e.lower()"
   ]
  },
  {
   "cell_type": "code",
   "execution_count": 74,
   "id": "8506b4e1",
   "metadata": {},
   "outputs": [],
   "source": [
    "f = \"#$%#HSDJdkfHSL\""
   ]
  },
  {
   "cell_type": "code",
   "execution_count": 75,
   "id": "48e4ef86",
   "metadata": {},
   "outputs": [
    {
     "data": {
      "text/plain": [
       "'#$%#hsdjdkfhsl'"
      ]
     },
     "execution_count": 75,
     "metadata": {},
     "output_type": "execute_result"
    }
   ],
   "source": [
    "f.lower()"
   ]
  },
  {
   "cell_type": "code",
   "execution_count": 76,
   "id": "f82db358",
   "metadata": {},
   "outputs": [
    {
     "data": {
      "text/plain": [
       "'#$%#HSDJDKFHSL'"
      ]
     },
     "execution_count": 76,
     "metadata": {},
     "output_type": "execute_result"
    }
   ],
   "source": [
    "f.upper()"
   ]
  },
  {
   "cell_type": "code",
   "execution_count": 77,
   "id": "70d48aa2",
   "metadata": {},
   "outputs": [],
   "source": [
    "# intrview questino : revere word in the string\n",
    "# example : \"Hello world welcome to python\"\n",
    "# OUTPUT : \"olleH dlrow emoclew ot nohtyp\""
   ]
  },
  {
   "cell_type": "code",
   "execution_count": 78,
   "id": "6fba11ea",
   "metadata": {},
   "outputs": [],
   "source": [
    "s = \"Hello world welcome to python\""
   ]
  },
  {
   "cell_type": "code",
   "execution_count": 79,
   "id": "5e0aa1ca",
   "metadata": {},
   "outputs": [
    {
     "data": {
      "text/plain": [
       "'nohtyp ot emoclew dlrow olleH'"
      ]
     },
     "execution_count": 79,
     "metadata": {},
     "output_type": "execute_result"
    }
   ],
   "source": [
    "s[::-1]"
   ]
  },
  {
   "cell_type": "code",
   "execution_count": 82,
   "id": "36c37237",
   "metadata": {},
   "outputs": [],
   "source": [
    "lst_s = s.split(\" \")"
   ]
  },
  {
   "cell_type": "code",
   "execution_count": null,
   "id": "5f2a9caa",
   "metadata": {},
   "outputs": [
    {
     "data": {
      "text/plain": [
       "'Hello'"
      ]
     },
     "execution_count": 83,
     "metadata": {},
     "output_type": "execute_result"
    }
   ],
   "source": [
    "lst_s[0]"
   ]
  },
  {
   "cell_type": "code",
   "execution_count": 84,
   "id": "4f63cba8",
   "metadata": {},
   "outputs": [
    {
     "data": {
      "text/plain": [
       "'olleH'"
      ]
     },
     "execution_count": 84,
     "metadata": {},
     "output_type": "execute_result"
    }
   ],
   "source": [
    "lst_s[0][::-1]"
   ]
  },
  {
   "cell_type": "code",
   "execution_count": 85,
   "id": "b4d74b5f",
   "metadata": {},
   "outputs": [
    {
     "data": {
      "text/plain": [
       "['Hello', 'world', 'welcome', 'to', 'python']"
      ]
     },
     "execution_count": 85,
     "metadata": {},
     "output_type": "execute_result"
    }
   ],
   "source": [
    "lst_s"
   ]
  },
  {
   "cell_type": "code",
   "execution_count": null,
   "id": "66463013",
   "metadata": {},
   "outputs": [],
   "source": [
    "lst_s[0] = lst_s[0][::-1]"
   ]
  },
  {
   "cell_type": "code",
   "execution_count": 87,
   "id": "431da28d",
   "metadata": {},
   "outputs": [
    {
     "data": {
      "text/plain": [
       "['olleH', 'world', 'welcome', 'to', 'python']"
      ]
     },
     "execution_count": 87,
     "metadata": {},
     "output_type": "execute_result"
    }
   ],
   "source": [
    "lst_s"
   ]
  },
  {
   "cell_type": "code",
   "execution_count": 88,
   "id": "6b2ae8d8",
   "metadata": {},
   "outputs": [],
   "source": [
    "lst_s[1] = lst_s[1][::-1]\n",
    "lst_s[2] = lst_s[2][::-1]\n",
    "lst_s[3] = lst_s[3][::-1]\n",
    "lst_s[4] = lst_s[4][::-1]"
   ]
  },
  {
   "cell_type": "code",
   "execution_count": 89,
   "id": "c5e71c23",
   "metadata": {},
   "outputs": [
    {
     "data": {
      "text/plain": [
       "['olleH', 'dlrow', 'emoclew', 'ot', 'nohtyp']"
      ]
     },
     "execution_count": 89,
     "metadata": {},
     "output_type": "execute_result"
    }
   ],
   "source": [
    "lst_s"
   ]
  },
  {
   "cell_type": "code",
   "execution_count": 91,
   "id": "cf53b071",
   "metadata": {},
   "outputs": [
    {
     "data": {
      "text/plain": [
       "'olleH dlrow emoclew ot nohtyp'"
      ]
     },
     "execution_count": 91,
     "metadata": {},
     "output_type": "execute_result"
    }
   ],
   "source": [
    "\" \".join(lst_s)"
   ]
  },
  {
   "cell_type": "code",
   "execution_count": 94,
   "id": "18ee34e7",
   "metadata": {},
   "outputs": [],
   "source": [
    "s = \"             hello            \""
   ]
  },
  {
   "cell_type": "code",
   "execution_count": null,
   "id": "9a14004d",
   "metadata": {},
   "outputs": [
    {
     "data": {
      "text/plain": [
       "'hello            '"
      ]
     },
     "execution_count": 96,
     "metadata": {},
     "output_type": "execute_result"
    }
   ],
   "source": [
    "s.lstrip(\" \")"
   ]
  },
  {
   "cell_type": "code",
   "execution_count": 97,
   "id": "0d862037",
   "metadata": {},
   "outputs": [
    {
     "data": {
      "text/plain": [
       "'             hello'"
      ]
     },
     "execution_count": 97,
     "metadata": {},
     "output_type": "execute_result"
    }
   ],
   "source": [
    "s.rstrip(\" \")"
   ]
  },
  {
   "cell_type": "markdown",
   "id": "db7101b5",
   "metadata": {},
   "source": [
    "### string function chaining"
   ]
  },
  {
   "cell_type": "code",
   "execution_count": 99,
   "id": "549a5a00",
   "metadata": {},
   "outputs": [
    {
     "data": {
      "text/plain": [
       "'hello'"
      ]
     },
     "execution_count": 99,
     "metadata": {},
     "output_type": "execute_result"
    }
   ],
   "source": [
    "s.lstrip(\" \").rstrip(\" \")"
   ]
  },
  {
   "cell_type": "code",
   "execution_count": 101,
   "id": "f1918173",
   "metadata": {},
   "outputs": [
    {
     "data": {
      "text/plain": [
       "'hello'"
      ]
     },
     "execution_count": 101,
     "metadata": {},
     "output_type": "execute_result"
    }
   ],
   "source": [
    "s.strip(\" \")"
   ]
  },
  {
   "cell_type": "code",
   "execution_count": 102,
   "id": "eb068024",
   "metadata": {},
   "outputs": [],
   "source": [
    "t = \"11111111111111111hello11111111111111111\""
   ]
  },
  {
   "cell_type": "code",
   "execution_count": 110,
   "id": "dbeed31e",
   "metadata": {},
   "outputs": [
    {
     "data": {
      "text/plain": [
       "'hello'"
      ]
     },
     "execution_count": 110,
     "metadata": {},
     "output_type": "execute_result"
    }
   ],
   "source": [
    "t.strip('1')"
   ]
  },
  {
   "cell_type": "code",
   "execution_count": 111,
   "id": "955c3292",
   "metadata": {},
   "outputs": [],
   "source": [
    "s = \"lower UPPER DFre\""
   ]
  },
  {
   "cell_type": "code",
   "execution_count": 112,
   "id": "6c60f855",
   "metadata": {},
   "outputs": [
    {
     "data": {
      "text/plain": [
       "'LOWER upper dfRE'"
      ]
     },
     "execution_count": 112,
     "metadata": {},
     "output_type": "execute_result"
    }
   ],
   "source": [
    "s.swapcase()"
   ]
  },
  {
   "cell_type": "code",
   "execution_count": 122,
   "id": "963b736c",
   "metadata": {},
   "outputs": [],
   "source": [
    "s = \"HEllo world from python\"\n",
    "# Hello, HeLLo heLLO"
   ]
  },
  {
   "cell_type": "code",
   "execution_count": 123,
   "id": "452d1f38",
   "metadata": {},
   "outputs": [
    {
     "data": {
      "text/plain": [
       "False"
      ]
     },
     "execution_count": 123,
     "metadata": {},
     "output_type": "execute_result"
    }
   ],
   "source": [
    "s.startswith('hello')"
   ]
  },
  {
   "cell_type": "code",
   "execution_count": 124,
   "id": "0d252e6c",
   "metadata": {},
   "outputs": [
    {
     "data": {
      "text/plain": [
       "True"
      ]
     },
     "execution_count": 124,
     "metadata": {},
     "output_type": "execute_result"
    }
   ],
   "source": [
    "s.lower().startswith(\"hello\")"
   ]
  },
  {
   "cell_type": "code",
   "execution_count": 125,
   "id": "86844a80",
   "metadata": {},
   "outputs": [
    {
     "data": {
      "text/plain": [
       "True"
      ]
     },
     "execution_count": 125,
     "metadata": {},
     "output_type": "execute_result"
    }
   ],
   "source": [
    "s.upper().startswith('HELLO')"
   ]
  },
  {
   "cell_type": "code",
   "execution_count": 130,
   "id": "a8b512f8",
   "metadata": {},
   "outputs": [
    {
     "data": {
      "text/plain": [
       "False"
      ]
     },
     "execution_count": 130,
     "metadata": {},
     "output_type": "execute_result"
    }
   ],
   "source": [
    "s.endswith('Python')"
   ]
  },
  {
   "cell_type": "code",
   "execution_count": null,
   "id": "796703f5",
   "metadata": {},
   "outputs": [
    {
     "data": {
      "text/plain": [
       "False"
      ]
     },
     "execution_count": 129,
     "metadata": {},
     "output_type": "execute_result"
    }
   ],
   "source": [
    "s.lower().endswith('python')"
   ]
  },
  {
   "cell_type": "code",
   "execution_count": 131,
   "id": "f29264e2",
   "metadata": {},
   "outputs": [],
   "source": [
    "s = \"HEllo world from python   \"  "
   ]
  },
  {
   "cell_type": "code",
   "execution_count": 132,
   "id": "3b8c4e05",
   "metadata": {},
   "outputs": [
    {
     "data": {
      "text/plain": [
       "False"
      ]
     },
     "execution_count": 132,
     "metadata": {},
     "output_type": "execute_result"
    }
   ],
   "source": [
    "s.lower().endswith('python')"
   ]
  },
  {
   "cell_type": "code",
   "execution_count": 133,
   "id": "2797b0a6",
   "metadata": {},
   "outputs": [
    {
     "data": {
      "text/plain": [
       "True"
      ]
     },
     "execution_count": 133,
     "metadata": {},
     "output_type": "execute_result"
    }
   ],
   "source": [
    "s.lower().rstrip(\" \").endswith(\"python\")"
   ]
  },
  {
   "cell_type": "code",
   "execution_count": 134,
   "id": "c34084c5",
   "metadata": {},
   "outputs": [],
   "source": [
    "val1 = 34\n",
    "val2 = 12"
   ]
  },
  {
   "cell_type": "code",
   "execution_count": 135,
   "id": "aee9b48c",
   "metadata": {},
   "outputs": [],
   "source": [
    "# val1 = 23 and val2 = 12"
   ]
  },
  {
   "cell_type": "code",
   "execution_count": 136,
   "id": "b50702c7",
   "metadata": {},
   "outputs": [
    {
     "name": "stdout",
     "output_type": "stream",
     "text": [
      "val1 = 34 val2 = 12\n"
     ]
    }
   ],
   "source": [
    "print(\"val1 =\",val1,\"val2 =\", val2)"
   ]
  },
  {
   "cell_type": "code",
   "execution_count": 137,
   "id": "423a853a",
   "metadata": {},
   "outputs": [],
   "source": [
    "s = \"val1 = {x} val2 = {y}\""
   ]
  },
  {
   "cell_type": "code",
   "execution_count": 138,
   "id": "cbdfc24e",
   "metadata": {},
   "outputs": [
    {
     "name": "stdout",
     "output_type": "stream",
     "text": [
      "val1 = {x} val2 = {y}\n"
     ]
    }
   ],
   "source": [
    "print(s)"
   ]
  },
  {
   "cell_type": "code",
   "execution_count": 139,
   "id": "2492cec6",
   "metadata": {},
   "outputs": [
    {
     "data": {
      "text/plain": [
       "'val1 = 34 val2 = 12'"
      ]
     },
     "execution_count": 139,
     "metadata": {},
     "output_type": "execute_result"
    }
   ],
   "source": [
    "s.format(x=val1, y=val2)"
   ]
  },
  {
   "cell_type": "code",
   "execution_count": 141,
   "id": "6f0f44f2",
   "metadata": {},
   "outputs": [
    {
     "name": "stdout",
     "output_type": "stream",
     "text": [
      "val1 = 34 val2 = 12\n"
     ]
    }
   ],
   "source": [
    "print(s.format(x=val1, y=val2))"
   ]
  },
  {
   "cell_type": "code",
   "execution_count": 142,
   "id": "5a55882f",
   "metadata": {},
   "outputs": [],
   "source": [
    "s = \"val1 = {val1} val2 = {val2}\""
   ]
  },
  {
   "cell_type": "code",
   "execution_count": 143,
   "id": "c9c83384",
   "metadata": {},
   "outputs": [
    {
     "name": "stdout",
     "output_type": "stream",
     "text": [
      "val1 = 34 val2 = 12\n"
     ]
    }
   ],
   "source": [
    "print(s.format(val1=val1, val2=val2))"
   ]
  },
  {
   "cell_type": "markdown",
   "id": "e8acef12",
   "metadata": {},
   "source": [
    "### f-strings"
   ]
  },
  {
   "cell_type": "code",
   "execution_count": 147,
   "id": "30688eb0",
   "metadata": {},
   "outputs": [],
   "source": [
    "name = 'Siva'"
   ]
  },
  {
   "cell_type": "code",
   "execution_count": 148,
   "id": "cc46f28c",
   "metadata": {},
   "outputs": [],
   "source": [
    "greet = \"Hello {xyz}\""
   ]
  },
  {
   "cell_type": "code",
   "execution_count": 149,
   "id": "50035c21",
   "metadata": {},
   "outputs": [
    {
     "data": {
      "text/plain": [
       "'Hello Siva'"
      ]
     },
     "execution_count": 149,
     "metadata": {},
     "output_type": "execute_result"
    }
   ],
   "source": [
    "greet.format(xyz=name)"
   ]
  },
  {
   "cell_type": "code",
   "execution_count": 150,
   "id": "d426aefa",
   "metadata": {},
   "outputs": [],
   "source": [
    "name = 'Ganesh'"
   ]
  },
  {
   "cell_type": "code",
   "execution_count": 151,
   "id": "f30ee7c0",
   "metadata": {},
   "outputs": [
    {
     "data": {
      "text/plain": [
       "'Hello Ganesh'"
      ]
     },
     "execution_count": 151,
     "metadata": {},
     "output_type": "execute_result"
    }
   ],
   "source": [
    "greet.format(xyz=name)"
   ]
  },
  {
   "cell_type": "code",
   "execution_count": 152,
   "id": "e0480947",
   "metadata": {},
   "outputs": [],
   "source": [
    "greet = \"Hello {name}\""
   ]
  },
  {
   "cell_type": "code",
   "execution_count": 153,
   "id": "4445b653",
   "metadata": {},
   "outputs": [
    {
     "data": {
      "text/plain": [
       "'Hello Ganesh'"
      ]
     },
     "execution_count": 153,
     "metadata": {},
     "output_type": "execute_result"
    }
   ],
   "source": [
    "greet.format(name=name)"
   ]
  },
  {
   "cell_type": "code",
   "execution_count": 156,
   "id": "fd987926",
   "metadata": {},
   "outputs": [],
   "source": [
    "greet = \"Hello xyz\""
   ]
  },
  {
   "cell_type": "code",
   "execution_count": 157,
   "id": "cf5b6b13",
   "metadata": {},
   "outputs": [
    {
     "data": {
      "text/plain": [
       "'Hello xyz'"
      ]
     },
     "execution_count": 157,
     "metadata": {},
     "output_type": "execute_result"
    }
   ],
   "source": [
    "greet.format(xyz=name)"
   ]
  },
  {
   "cell_type": "code",
   "execution_count": 163,
   "id": "7e07f8eb",
   "metadata": {},
   "outputs": [],
   "source": [
    "lang = \"Java\""
   ]
  },
  {
   "cell_type": "code",
   "execution_count": 168,
   "id": "7707127a",
   "metadata": {},
   "outputs": [],
   "source": [
    "Welcome = \"A-Z\""
   ]
  },
  {
   "cell_type": "code",
   "execution_count": 169,
   "id": "42909ab9",
   "metadata": {},
   "outputs": [
    {
     "data": {
      "text/plain": [
       "'A-Z to Java class'"
      ]
     },
     "execution_count": 169,
     "metadata": {},
     "output_type": "execute_result"
    }
   ],
   "source": [
    "f'{Welcome} to {lang} class'"
   ]
  },
  {
   "cell_type": "markdown",
   "id": "b477df18",
   "metadata": {},
   "source": [
    "## string just"
   ]
  },
  {
   "cell_type": "code",
   "execution_count": 1,
   "id": "38c1d6c4",
   "metadata": {},
   "outputs": [],
   "source": [
    "a = \"hello\""
   ]
  },
  {
   "cell_type": "code",
   "execution_count": 2,
   "id": "725e97d4",
   "metadata": {},
   "outputs": [],
   "source": [
    "b = \"HELLO\""
   ]
  },
  {
   "cell_type": "code",
   "execution_count": 3,
   "id": "ecc3e894",
   "metadata": {},
   "outputs": [],
   "source": [
    "c = \"Welcome\""
   ]
  },
  {
   "cell_type": "code",
   "execution_count": 4,
   "id": "29f638cf",
   "metadata": {},
   "outputs": [
    {
     "name": "stdout",
     "output_type": "stream",
     "text": [
      "hello\n",
      "HELLO\n",
      "Welcome\n"
     ]
    }
   ],
   "source": [
    "print(a)\n",
    "print(b)\n",
    "print(c)\n",
    "# print(a)"
   ]
  },
  {
   "cell_type": "code",
   "execution_count": 7,
   "id": "dc10e688",
   "metadata": {},
   "outputs": [
    {
     "name": "stdout",
     "output_type": "stream",
     "text": [
      "     hello\n",
      "     HELLO\n",
      "   Welcome\n"
     ]
    }
   ],
   "source": [
    "print(a.rjust(10,' '))\n",
    "print(b.rjust(10,' '))\n",
    "print(c.rjust(10,' '))"
   ]
  },
  {
   "cell_type": "code",
   "execution_count": 8,
   "id": "6ff69d30",
   "metadata": {},
   "outputs": [
    {
     "name": "stdout",
     "output_type": "stream",
     "text": [
      "hello     \n",
      "HELLO     \n",
      "Welcome   \n"
     ]
    }
   ],
   "source": [
    "print(a.ljust(10,' '))\n",
    "print(b.ljust(10,' '))\n",
    "print(c.ljust(10,' '))"
   ]
  },
  {
   "cell_type": "code",
   "execution_count": 9,
   "id": "f0dcf2e0",
   "metadata": {},
   "outputs": [],
   "source": [
    "d= \"helloworld welcome\""
   ]
  },
  {
   "cell_type": "code",
   "execution_count": 10,
   "id": "1d24efd1",
   "metadata": {},
   "outputs": [
    {
     "name": "stdout",
     "output_type": "stream",
     "text": [
      "     hello\n",
      "     HELLO\n",
      "   Welcome\n",
      "helloworld welcome\n"
     ]
    }
   ],
   "source": [
    "print(a.rjust(10,' '))\n",
    "print(b.rjust(10,' '))\n",
    "print(c.rjust(10,' '))\n",
    "print(d.rjust(10,' '))"
   ]
  },
  {
   "cell_type": "code",
   "execution_count": 11,
   "id": "48297fd5",
   "metadata": {},
   "outputs": [
    {
     "data": {
      "text/plain": [
       "18"
      ]
     },
     "execution_count": 11,
     "metadata": {},
     "output_type": "execute_result"
    }
   ],
   "source": [
    "len(d)"
   ]
  },
  {
   "cell_type": "code",
   "execution_count": 12,
   "id": "d47009c2",
   "metadata": {},
   "outputs": [
    {
     "data": {
      "text/plain": [
       "5"
      ]
     },
     "execution_count": 12,
     "metadata": {},
     "output_type": "execute_result"
    }
   ],
   "source": [
    "len(a)"
   ]
  },
  {
   "cell_type": "code",
   "execution_count": 19,
   "id": "447c06ee",
   "metadata": {},
   "outputs": [],
   "source": [
    "lst = [1,2,3]"
   ]
  },
  {
   "cell_type": "code",
   "execution_count": 20,
   "id": "fcccb237",
   "metadata": {},
   "outputs": [
    {
     "data": {
      "text/plain": [
       "3"
      ]
     },
     "execution_count": 20,
     "metadata": {},
     "output_type": "execute_result"
    }
   ],
   "source": [
    "max(lst)"
   ]
  },
  {
   "cell_type": "code",
   "execution_count": 21,
   "id": "6e40a814",
   "metadata": {},
   "outputs": [
    {
     "data": {
      "text/plain": [
       "'*******hello********'"
      ]
     },
     "execution_count": 21,
     "metadata": {},
     "output_type": "execute_result"
    }
   ],
   "source": [
    "a.center(20,'*')"
   ]
  },
  {
   "cell_type": "code",
   "execution_count": 24,
   "id": "7115fc27",
   "metadata": {},
   "outputs": [],
   "source": [
    "e= \"CONNECTED TO DB\""
   ]
  },
  {
   "cell_type": "code",
   "execution_count": 25,
   "id": "e9b7a8b6",
   "metadata": {},
   "outputs": [
    {
     "data": {
      "text/plain": [
       "'*****************CONNECTED TO DB******************'"
      ]
     },
     "execution_count": 25,
     "metadata": {},
     "output_type": "execute_result"
    }
   ],
   "source": [
    "e.center(50,'*')"
   ]
  },
  {
   "cell_type": "code",
   "execution_count": null,
   "id": "784b7159",
   "metadata": {},
   "outputs": [
    {
     "name": "stdout",
     "output_type": "stream",
     "text": [
      "andom\n",
      "agireddy\n"
     ]
    }
   ],
   "source": [
    "print(\"C:\\random\\nagireddy\")"
   ]
  },
  {
   "cell_type": "markdown",
   "id": "e4f526dd",
   "metadata": {},
   "source": [
    "### Raw string"
   ]
  },
  {
   "cell_type": "code",
   "execution_count": 28,
   "id": "0da15d7f",
   "metadata": {},
   "outputs": [
    {
     "data": {
      "text/plain": [
       "'C:\\\\random\\\\nagireddy'"
      ]
     },
     "execution_count": 28,
     "metadata": {},
     "output_type": "execute_result"
    }
   ],
   "source": [
    "r\"C:\\random\\nagireddy\""
   ]
  },
  {
   "cell_type": "code",
   "execution_count": 29,
   "id": "9b266339",
   "metadata": {},
   "outputs": [
    {
     "name": "stdout",
     "output_type": "stream",
     "text": [
      "C:\\random\\nagireddy\n"
     ]
    }
   ],
   "source": [
    "print(r'C:\\random\\nagireddy')"
   ]
  },
  {
   "cell_type": "code",
   "execution_count": 31,
   "id": "bfa230fe",
   "metadata": {},
   "outputs": [
    {
     "name": "stdout",
     "output_type": "stream",
     "text": [
      "\\\n"
     ]
    }
   ],
   "source": [
    "print('\\\\')"
   ]
  },
  {
   "cell_type": "code",
   "execution_count": null,
   "id": "74380cca",
   "metadata": {},
   "outputs": [],
   "source": [
    "print('I'm nagireddy')"
   ]
  },
  {
   "cell_type": "code",
   "execution_count": 32,
   "id": "0ff74a6b",
   "metadata": {},
   "outputs": [
    {
     "name": "stdout",
     "output_type": "stream",
     "text": [
      "I'm python\n"
     ]
    }
   ],
   "source": [
    "print(\"I'm python\")"
   ]
  },
  {
   "cell_type": "code",
   "execution_count": 33,
   "id": "cc7484e2",
   "metadata": {},
   "outputs": [
    {
     "name": "stdout",
     "output_type": "stream",
     "text": [
      "I'm python\n"
     ]
    }
   ],
   "source": [
    "print('I\\'m python')"
   ]
  },
  {
   "cell_type": "code",
   "execution_count": 34,
   "id": "123e163f",
   "metadata": {},
   "outputs": [
    {
     "name": "stdout",
     "output_type": "stream",
     "text": [
      "I\"m python\n"
     ]
    }
   ],
   "source": [
    "print('I\"m python')"
   ]
  },
  {
   "cell_type": "code",
   "execution_count": null,
   "id": "4d7869d8",
   "metadata": {},
   "outputs": [],
   "source": [
    "print(\"I\\\"m python\")"
   ]
  },
  {
   "cell_type": "code",
   "execution_count": 35,
   "id": "4c0b90fa",
   "metadata": {},
   "outputs": [
    {
     "name": "stdout",
     "output_type": "stream",
     "text": [
      "hello\tworld\n"
     ]
    }
   ],
   "source": [
    "print('hello\\tworld')"
   ]
  },
  {
   "cell_type": "code",
   "execution_count": null,
   "id": "873a32ec",
   "metadata": {},
   "outputs": [
    {
     "name": "stdout",
     "output_type": "stream",
     "text": [
      "hello \n"
     ]
    }
   ],
   "source": [
    "print(\"hello *\\b\")"
   ]
  },
  {
   "cell_type": "code",
   "execution_count": null,
   "id": "a1809d27",
   "metadata": {},
   "outputs": [
    {
     "name": "stdout",
     "output_type": "stream",
     "text": [
      " other value\n"
     ]
    }
   ],
   "source": [
    "print(\"hello *\\r other value\")"
   ]
  },
  {
   "cell_type": "code",
   "execution_count": 40,
   "id": "eb72acc5",
   "metadata": {},
   "outputs": [
    {
     "name": "stdout",
     "output_type": "stream",
     "text": [
      "anddom\n",
      "ser\\python\n"
     ]
    },
    {
     "name": "stderr",
     "output_type": "stream",
     "text": [
      "<>:1: SyntaxWarning: invalid escape sequence '\\p'\n",
      "<>:1: SyntaxWarning: invalid escape sequence '\\p'\n",
      "C:\\Users\\AREKUTI\\AppData\\Local\\Temp\\ipykernel_15724\\969771504.py:1: SyntaxWarning: invalid escape sequence '\\p'\n",
      "  print(\"hello\\randdom\\nser\\python\")\n"
     ]
    }
   ],
   "source": [
    "print(\"hello\\randdom\\nser\\python\")"
   ]
  },
  {
   "cell_type": "code",
   "execution_count": 43,
   "id": "17716d5b",
   "metadata": {},
   "outputs": [
    {
     "ename": "SyntaxError",
     "evalue": "(unicode error) 'unicodeescape' codec can't decode bytes in position 13-14: truncated \\uXXXX escape (932615094.py, line 1)",
     "output_type": "error",
     "traceback": [
      "  \u001b[36mCell\u001b[39m\u001b[36m \u001b[39m\u001b[32mIn[43]\u001b[39m\u001b[32m, line 1\u001b[39m\n\u001b[31m    \u001b[39m\u001b[31mprint(\"hello\\randdom\\user0\\python\")\u001b[39m\n          ^\n\u001b[31mSyntaxError\u001b[39m\u001b[31m:\u001b[39m (unicode error) 'unicodeescape' codec can't decode bytes in position 13-14: truncated \\uXXXX escape\n"
     ]
    }
   ],
   "source": [
    "print(\"hello\\randdom\\user0\\python\")"
   ]
  },
  {
   "cell_type": "code",
   "execution_count": 64,
   "id": "67773f71",
   "metadata": {},
   "outputs": [
    {
     "name": "stdout",
     "output_type": "stream",
     "text": [
      "అ\n"
     ]
    }
   ],
   "source": [
    "# 4digits =>\n",
    "# 0-9 and A-F \n",
    "print('\\u0C05')"
   ]
  },
  {
   "cell_type": "code",
   "execution_count": 65,
   "id": "6c869893",
   "metadata": {},
   "outputs": [
    {
     "data": {
      "text/plain": [
       "['__add__',\n",
       " '__class__',\n",
       " '__contains__',\n",
       " '__delattr__',\n",
       " '__dir__',\n",
       " '__doc__',\n",
       " '__eq__',\n",
       " '__format__',\n",
       " '__ge__',\n",
       " '__getattribute__',\n",
       " '__getitem__',\n",
       " '__getnewargs__',\n",
       " '__getstate__',\n",
       " '__gt__',\n",
       " '__hash__',\n",
       " '__init__',\n",
       " '__init_subclass__',\n",
       " '__iter__',\n",
       " '__le__',\n",
       " '__len__',\n",
       " '__lt__',\n",
       " '__mod__',\n",
       " '__mul__',\n",
       " '__ne__',\n",
       " '__new__',\n",
       " '__reduce__',\n",
       " '__reduce_ex__',\n",
       " '__repr__',\n",
       " '__rmod__',\n",
       " '__rmul__',\n",
       " '__setattr__',\n",
       " '__sizeof__',\n",
       " '__str__',\n",
       " '__subclasshook__',\n",
       " 'capitalize',\n",
       " 'casefold',\n",
       " 'center',\n",
       " 'count',\n",
       " 'encode',\n",
       " 'endswith',\n",
       " 'expandtabs',\n",
       " 'find',\n",
       " 'format',\n",
       " 'format_map',\n",
       " 'index',\n",
       " 'isalnum',\n",
       " 'isalpha',\n",
       " 'isascii',\n",
       " 'isdecimal',\n",
       " 'isdigit',\n",
       " 'isidentifier',\n",
       " 'islower',\n",
       " 'isnumeric',\n",
       " 'isprintable',\n",
       " 'isspace',\n",
       " 'istitle',\n",
       " 'isupper',\n",
       " 'join',\n",
       " 'ljust',\n",
       " 'lower',\n",
       " 'lstrip',\n",
       " 'maketrans',\n",
       " 'partition',\n",
       " 'removeprefix',\n",
       " 'removesuffix',\n",
       " 'replace',\n",
       " 'rfind',\n",
       " 'rindex',\n",
       " 'rjust',\n",
       " 'rpartition',\n",
       " 'rsplit',\n",
       " 'rstrip',\n",
       " 'split',\n",
       " 'splitlines',\n",
       " 'startswith',\n",
       " 'strip',\n",
       " 'swapcase',\n",
       " 'title',\n",
       " 'translate',\n",
       " 'upper',\n",
       " 'zfill']"
      ]
     },
     "execution_count": 65,
     "metadata": {},
     "output_type": "execute_result"
    }
   ],
   "source": [
    "dir(str)"
   ]
  },
  {
   "cell_type": "code",
   "execution_count": 1,
   "id": "c0aaa9a2",
   "metadata": {},
   "outputs": [],
   "source": [
    "a = '4'"
   ]
  },
  {
   "cell_type": "code",
   "execution_count": 2,
   "id": "48e7eabc",
   "metadata": {},
   "outputs": [
    {
     "data": {
      "text/plain": [
       "4"
      ]
     },
     "execution_count": 2,
     "metadata": {},
     "output_type": "execute_result"
    }
   ],
   "source": [
    "int(a)"
   ]
  },
  {
   "cell_type": "code",
   "execution_count": 3,
   "id": "aa46e0a0",
   "metadata": {},
   "outputs": [],
   "source": [
    "a = \"230t\""
   ]
  },
  {
   "cell_type": "code",
   "execution_count": 4,
   "id": "6805ca53",
   "metadata": {},
   "outputs": [
    {
     "ename": "ValueError",
     "evalue": "invalid literal for int() with base 10: '230t'",
     "output_type": "error",
     "traceback": [
      "\u001b[31m---------------------------------------------------------------------------\u001b[39m",
      "\u001b[31mValueError\u001b[39m                                Traceback (most recent call last)",
      "\u001b[36mCell\u001b[39m\u001b[36m \u001b[39m\u001b[32mIn[4]\u001b[39m\u001b[32m, line 1\u001b[39m\n\u001b[32m----> \u001b[39m\u001b[32m1\u001b[39m \u001b[38;5;28;43mint\u001b[39;49m\u001b[43m(\u001b[49m\u001b[43ma\u001b[49m\u001b[43m)\u001b[49m\n",
      "\u001b[31mValueError\u001b[39m: invalid literal for int() with base 10: '230t'"
     ]
    }
   ],
   "source": [
    "int(a)"
   ]
  },
  {
   "cell_type": "code",
   "execution_count": 19,
   "id": "87c23c14",
   "metadata": {},
   "outputs": [],
   "source": [
    "a= '45.78'"
   ]
  },
  {
   "cell_type": "code",
   "execution_count": 21,
   "id": "97814574",
   "metadata": {},
   "outputs": [],
   "source": [
    "a = '45'"
   ]
  },
  {
   "cell_type": "code",
   "execution_count": 22,
   "id": "84cd1637",
   "metadata": {},
   "outputs": [
    {
     "data": {
      "text/plain": [
       "True"
      ]
     },
     "execution_count": 22,
     "metadata": {},
     "output_type": "execute_result"
    }
   ],
   "source": [
    "a.isnumeric()"
   ]
  },
  {
   "cell_type": "code",
   "execution_count": 20,
   "id": "baa78059",
   "metadata": {},
   "outputs": [
    {
     "data": {
      "text/plain": [
       "False"
      ]
     },
     "execution_count": 20,
     "metadata": {},
     "output_type": "execute_result"
    }
   ],
   "source": [
    "a.isnumeric()"
   ]
  },
  {
   "cell_type": "code",
   "execution_count": 5,
   "id": "1fc80794",
   "metadata": {},
   "outputs": [
    {
     "data": {
      "text/plain": [
       "False"
      ]
     },
     "execution_count": 5,
     "metadata": {},
     "output_type": "execute_result"
    }
   ],
   "source": [
    "a.isnumeric()"
   ]
  },
  {
   "cell_type": "code",
   "execution_count": 6,
   "id": "47712ead",
   "metadata": {},
   "outputs": [],
   "source": [
    "a = '34'"
   ]
  },
  {
   "cell_type": "code",
   "execution_count": 7,
   "id": "8c3c3a1e",
   "metadata": {},
   "outputs": [
    {
     "data": {
      "text/plain": [
       "True"
      ]
     },
     "execution_count": 7,
     "metadata": {},
     "output_type": "execute_result"
    }
   ],
   "source": [
    "a.isnumeric()"
   ]
  },
  {
   "cell_type": "code",
   "execution_count": 23,
   "id": "b53c4fa6",
   "metadata": {},
   "outputs": [],
   "source": [
    "c = \"hello\""
   ]
  },
  {
   "cell_type": "code",
   "execution_count": 24,
   "id": "32da372c",
   "metadata": {},
   "outputs": [
    {
     "data": {
      "text/plain": [
       "True"
      ]
     },
     "execution_count": 24,
     "metadata": {},
     "output_type": "execute_result"
    }
   ],
   "source": [
    "c.isalpha()"
   ]
  },
  {
   "cell_type": "code",
   "execution_count": 25,
   "id": "ce1ce90a",
   "metadata": {},
   "outputs": [],
   "source": [
    "c = \"hello123\""
   ]
  },
  {
   "cell_type": "code",
   "execution_count": null,
   "id": "7d93d324",
   "metadata": {},
   "outputs": [
    {
     "data": {
      "text/plain": [
       "False"
      ]
     },
     "execution_count": 26,
     "metadata": {},
     "output_type": "execute_result"
    }
   ],
   "source": [
    "c.isalpha() # only A-Z and a-z"
   ]
  },
  {
   "cell_type": "code",
   "execution_count": 27,
   "id": "8815e94f",
   "metadata": {},
   "outputs": [
    {
     "data": {
      "text/plain": [
       "True"
      ]
     },
     "execution_count": 27,
     "metadata": {},
     "output_type": "execute_result"
    }
   ],
   "source": [
    "c.isalnum() # only A-Z,a-z and 0-9"
   ]
  },
  {
   "cell_type": "code",
   "execution_count": 28,
   "id": "73a295d3",
   "metadata": {},
   "outputs": [],
   "source": [
    "c = \"hello123*\""
   ]
  },
  {
   "cell_type": "code",
   "execution_count": 29,
   "id": "9d2c1070",
   "metadata": {},
   "outputs": [
    {
     "data": {
      "text/plain": [
       "False"
      ]
     },
     "execution_count": 29,
     "metadata": {},
     "output_type": "execute_result"
    }
   ],
   "source": [
    "c.isalnum()"
   ]
  },
  {
   "cell_type": "code",
   "execution_count": 8,
   "id": "4e474cf0",
   "metadata": {},
   "outputs": [
    {
     "name": "stdout",
     "output_type": "stream",
     "text": [
      "34\n"
     ]
    }
   ],
   "source": [
    "if a.isnumeric():\n",
    "    print(int(a))\n",
    "else:\n",
    "    print(\"a is not a numaric\")      \n",
    "\n",
    "\n"
   ]
  },
  {
   "cell_type": "code",
   "execution_count": 9,
   "id": "8d467e3d",
   "metadata": {},
   "outputs": [],
   "source": [
    "a = \"234t\""
   ]
  },
  {
   "cell_type": "code",
   "execution_count": 10,
   "id": "19efff5c",
   "metadata": {},
   "outputs": [
    {
     "data": {
      "text/plain": [
       "True"
      ]
     },
     "execution_count": 10,
     "metadata": {},
     "output_type": "execute_result"
    }
   ],
   "source": [
    "a.isalnum()"
   ]
  },
  {
   "cell_type": "code",
   "execution_count": 11,
   "id": "420a6d7d",
   "metadata": {},
   "outputs": [],
   "source": [
    "b = '34'"
   ]
  },
  {
   "cell_type": "code",
   "execution_count": 12,
   "id": "fb4b5a95",
   "metadata": {},
   "outputs": [
    {
     "data": {
      "text/plain": [
       "True"
      ]
     },
     "execution_count": 12,
     "metadata": {},
     "output_type": "execute_result"
    }
   ],
   "source": [
    "b.isalnum()"
   ]
  },
  {
   "cell_type": "code",
   "execution_count": 13,
   "id": "29d087c3",
   "metadata": {},
   "outputs": [],
   "source": [
    "c = 'hello'"
   ]
  },
  {
   "cell_type": "code",
   "execution_count": 14,
   "id": "f410ca57",
   "metadata": {},
   "outputs": [
    {
     "data": {
      "text/plain": [
       "True"
      ]
     },
     "execution_count": 14,
     "metadata": {},
     "output_type": "execute_result"
    }
   ],
   "source": [
    "c.isalpha()"
   ]
  },
  {
   "cell_type": "code",
   "execution_count": 15,
   "id": "e50059d9",
   "metadata": {},
   "outputs": [
    {
     "data": {
      "text/plain": [
       "'34'"
      ]
     },
     "execution_count": 15,
     "metadata": {},
     "output_type": "execute_result"
    }
   ],
   "source": [
    "b"
   ]
  },
  {
   "cell_type": "code",
   "execution_count": 16,
   "id": "c7a74c4c",
   "metadata": {},
   "outputs": [
    {
     "data": {
      "text/plain": [
       "False"
      ]
     },
     "execution_count": 16,
     "metadata": {},
     "output_type": "execute_result"
    }
   ],
   "source": [
    "b.isalpha()"
   ]
  },
  {
   "cell_type": "code",
   "execution_count": 17,
   "id": "65c74d5c",
   "metadata": {},
   "outputs": [],
   "source": [
    "spl = \"*helo123\""
   ]
  },
  {
   "cell_type": "code",
   "execution_count": 18,
   "id": "69c6595d",
   "metadata": {},
   "outputs": [
    {
     "data": {
      "text/plain": [
       "False"
      ]
     },
     "execution_count": 18,
     "metadata": {},
     "output_type": "execute_result"
    }
   ],
   "source": [
    "spl.isalnum()"
   ]
  },
  {
   "cell_type": "code",
   "execution_count": 30,
   "id": "91494ed8",
   "metadata": {},
   "outputs": [
    {
     "data": {
      "text/plain": [
       "False"
      ]
     },
     "execution_count": 30,
     "metadata": {},
     "output_type": "execute_result"
    }
   ],
   "source": [
    "'అ'.isascii()"
   ]
  },
  {
   "cell_type": "code",
   "execution_count": 31,
   "id": "3ebfcf3d",
   "metadata": {},
   "outputs": [
    {
     "data": {
      "text/plain": [
       "True"
      ]
     },
     "execution_count": 31,
     "metadata": {},
     "output_type": "execute_result"
    }
   ],
   "source": [
    "'3'.isascii()"
   ]
  },
  {
   "cell_type": "code",
   "execution_count": 32,
   "id": "2abc53c0",
   "metadata": {},
   "outputs": [
    {
     "data": {
      "text/plain": [
       "51"
      ]
     },
     "execution_count": 32,
     "metadata": {},
     "output_type": "execute_result"
    }
   ],
   "source": [
    "ord('3')"
   ]
  },
  {
   "cell_type": "code",
   "execution_count": 37,
   "id": "2595b4c1",
   "metadata": {},
   "outputs": [
    {
     "data": {
      "text/plain": [
       "True"
      ]
     },
     "execution_count": 37,
     "metadata": {},
     "output_type": "execute_result"
    }
   ],
   "source": [
    "chr(127).isascii()"
   ]
  },
  {
   "cell_type": "code",
   "execution_count": 40,
   "id": "ae8cc894",
   "metadata": {},
   "outputs": [
    {
     "data": {
      "text/plain": [
       "False"
      ]
     },
     "execution_count": 40,
     "metadata": {},
     "output_type": "execute_result"
    }
   ],
   "source": [
    "chr(128).isascii()"
   ]
  },
  {
   "cell_type": "code",
   "execution_count": 41,
   "id": "0ebfbb68",
   "metadata": {},
   "outputs": [
    {
     "data": {
      "text/plain": [
       "'\\x80'"
      ]
     },
     "execution_count": 41,
     "metadata": {},
     "output_type": "execute_result"
    }
   ],
   "source": [
    "chr(128)"
   ]
  },
  {
   "cell_type": "code",
   "execution_count": 38,
   "id": "6203be23",
   "metadata": {},
   "outputs": [
    {
     "data": {
      "text/plain": [
       "(0, 1, 2, 4, 8, 16, 32, 64, 128)"
      ]
     },
     "execution_count": 38,
     "metadata": {},
     "output_type": "execute_result"
    }
   ],
   "source": [
    "0,1,2,4,8,16,32,64,128"
   ]
  },
  {
   "cell_type": "code",
   "execution_count": 39,
   "id": "11aa1ab7",
   "metadata": {},
   "outputs": [
    {
     "data": {
      "text/plain": [
       "'\\x00'"
      ]
     },
     "execution_count": 39,
     "metadata": {},
     "output_type": "execute_result"
    }
   ],
   "source": [
    "chr(0)"
   ]
  },
  {
   "cell_type": "code",
   "execution_count": 42,
   "id": "da0b23ff",
   "metadata": {},
   "outputs": [
    {
     "data": {
      "text/plain": [
       "['__add__',\n",
       " '__class__',\n",
       " '__contains__',\n",
       " '__delattr__',\n",
       " '__dir__',\n",
       " '__doc__',\n",
       " '__eq__',\n",
       " '__format__',\n",
       " '__ge__',\n",
       " '__getattribute__',\n",
       " '__getitem__',\n",
       " '__getnewargs__',\n",
       " '__getstate__',\n",
       " '__gt__',\n",
       " '__hash__',\n",
       " '__init__',\n",
       " '__init_subclass__',\n",
       " '__iter__',\n",
       " '__le__',\n",
       " '__len__',\n",
       " '__lt__',\n",
       " '__mod__',\n",
       " '__mul__',\n",
       " '__ne__',\n",
       " '__new__',\n",
       " '__reduce__',\n",
       " '__reduce_ex__',\n",
       " '__repr__',\n",
       " '__rmod__',\n",
       " '__rmul__',\n",
       " '__setattr__',\n",
       " '__sizeof__',\n",
       " '__str__',\n",
       " '__subclasshook__',\n",
       " 'capitalize',\n",
       " 'casefold',\n",
       " 'center',\n",
       " 'count',\n",
       " 'encode',\n",
       " 'endswith',\n",
       " 'expandtabs',\n",
       " 'find',\n",
       " 'format',\n",
       " 'format_map',\n",
       " 'index',\n",
       " 'isalnum',\n",
       " 'isalpha',\n",
       " 'isascii',\n",
       " 'isdecimal',\n",
       " 'isdigit',\n",
       " 'isidentifier',\n",
       " 'islower',\n",
       " 'isnumeric',\n",
       " 'isprintable',\n",
       " 'isspace',\n",
       " 'istitle',\n",
       " 'isupper',\n",
       " 'join',\n",
       " 'ljust',\n",
       " 'lower',\n",
       " 'lstrip',\n",
       " 'maketrans',\n",
       " 'partition',\n",
       " 'removeprefix',\n",
       " 'removesuffix',\n",
       " 'replace',\n",
       " 'rfind',\n",
       " 'rindex',\n",
       " 'rjust',\n",
       " 'rpartition',\n",
       " 'rsplit',\n",
       " 'rstrip',\n",
       " 'split',\n",
       " 'splitlines',\n",
       " 'startswith',\n",
       " 'strip',\n",
       " 'swapcase',\n",
       " 'title',\n",
       " 'translate',\n",
       " 'upper',\n",
       " 'zfill']"
      ]
     },
     "execution_count": 42,
     "metadata": {},
     "output_type": "execute_result"
    }
   ],
   "source": [
    "dir(str)"
   ]
  },
  {
   "cell_type": "code",
   "execution_count": 44,
   "id": "1dceb198",
   "metadata": {},
   "outputs": [],
   "source": [
    "a = \"hello\""
   ]
  },
  {
   "cell_type": "code",
   "execution_count": 47,
   "id": "8715e8b0",
   "metadata": {},
   "outputs": [
    {
     "data": {
      "text/plain": [
       "'llo'"
      ]
     },
     "execution_count": 47,
     "metadata": {},
     "output_type": "execute_result"
    }
   ],
   "source": [
    "a.removeprefix('he')"
   ]
  },
  {
   "cell_type": "code",
   "execution_count": 48,
   "id": "b8d9799d",
   "metadata": {},
   "outputs": [
    {
     "data": {
      "text/plain": [
       "'hello'"
      ]
     },
     "execution_count": 48,
     "metadata": {},
     "output_type": "execute_result"
    }
   ],
   "source": [
    "a.removeprefix('a')"
   ]
  },
  {
   "cell_type": "code",
   "execution_count": 49,
   "id": "39540a28",
   "metadata": {},
   "outputs": [
    {
     "data": {
      "text/plain": [
       "'he'"
      ]
     },
     "execution_count": 49,
     "metadata": {},
     "output_type": "execute_result"
    }
   ],
   "source": [
    "a.removesuffix('llo')"
   ]
  },
  {
   "cell_type": "code",
   "execution_count": 50,
   "id": "b9088a35",
   "metadata": {},
   "outputs": [],
   "source": [
    "st = \"Hello,world,welcom,to,python\""
   ]
  },
  {
   "cell_type": "code",
   "execution_count": 52,
   "id": "dc9bc479",
   "metadata": {},
   "outputs": [
    {
     "data": {
      "text/plain": [
       "'Hello world welcom to python'"
      ]
     },
     "execution_count": 52,
     "metadata": {},
     "output_type": "execute_result"
    }
   ],
   "source": [
    "st.replace(','  , ' ')"
   ]
  },
  {
   "cell_type": "code",
   "execution_count": 60,
   "id": "93fe724c",
   "metadata": {},
   "outputs": [
    {
     "name": "stdout",
     "output_type": "stream",
     "text": [
      "Hello\t\tworld\t\twelcom\t\tto\t\tpython\n",
      "1\t\t2\t\t3\t\t4\t\t5\n",
      "1\t\t3\t\t4\t\t5\n",
      "1\t\t2\t\t3\t\t4\t\t5\n",
      "1\t\t2\t\t3\t\t4\t\t5\n"
     ]
    }
   ],
   "source": [
    "print(st.replace(','  , '\\t\\t'))\n",
    "print(*[1,2,3,4,5], sep='\\t\\t')\n",
    "print(*[1,3,4,5], sep='\\t\\t')\n",
    "print(*[1,2,3,4,5], sep='\\t\\t')\n",
    "print(*[1,2,3,4,5], sep='\\t\\t')"
   ]
  },
  {
   "cell_type": "code",
   "execution_count": null,
   "id": "c1cab8a7",
   "metadata": {},
   "outputs": [],
   "source": []
  }
 ],
 "metadata": {
  "kernelspec": {
   "display_name": ".venv",
   "language": "python",
   "name": "python3"
  },
  "language_info": {
   "codemirror_mode": {
    "name": "ipython",
    "version": 3
   },
   "file_extension": ".py",
   "mimetype": "text/x-python",
   "name": "python",
   "nbconvert_exporter": "python",
   "pygments_lexer": "ipython3",
   "version": "3.12.5"
  }
 },
 "nbformat": 4,
 "nbformat_minor": 5
}
