{
 "cells": [
  {
   "cell_type": "markdown",
   "id": "582fbb5c",
   "metadata": {},
   "source": [
    "# CONDITIONAL STATEMENTS"
   ]
  },
  {
   "cell_type": "markdown",
   "id": "8d6e123e",
   "metadata": {},
   "source": [
    "## Agenda\n",
    "- IF statements\n",
    "- MATCH statements\n"
   ]
  },
  {
   "cell_type": "markdown",
   "id": "312e87d8",
   "metadata": {},
   "source": []
  },
  {
   "cell_type": "markdown",
   "id": "34df90ad",
   "metadata": {},
   "source": [
    "### IF statements\n",
    "- `if` statement\n",
    "- `if` `else` statement\n",
    "- `if` `elif` statement\n",
    "- Nested If `else` `elif` statemennt\n",
    "- Single line `if` statements"
   ]
  },
  {
   "cell_type": "code",
   "execution_count": 1,
   "id": "aea20d4a",
   "metadata": {},
   "outputs": [],
   "source": [
    "# print a number is even or odd\n",
    "a = int(input(\"Value for a : \"))\n",
    "# if <Condition>:\n",
    "#     statment..1\n",
    "#     statement..2\n",
    "# stateme..3    "
   ]
  },
  {
   "cell_type": "code",
   "execution_count": 2,
   "id": "0e366352",
   "metadata": {},
   "outputs": [
    {
     "name": "stdout",
     "output_type": "stream",
     "text": [
      "A is greater than 10\n"
     ]
    }
   ],
   "source": [
    "if a>10:\n",
    "    print(\"A is greater than 10\")"
   ]
  },
  {
   "cell_type": "code",
   "execution_count": 6,
   "id": "528ab736",
   "metadata": {},
   "outputs": [
    {
     "name": "stdout",
     "output_type": "stream",
     "text": [
      "A is greater than 10\n",
      "woow!\n"
     ]
    }
   ],
   "source": [
    "a = 12\n",
    "if a>10:\n",
    "    print(\"A is greater than 10\")\n",
    "print(\"woow!\")\n"
   ]
  },
  {
   "cell_type": "code",
   "execution_count": null,
   "id": "068a005a",
   "metadata": {},
   "outputs": [
    {
     "name": "stdout",
     "output_type": "stream",
     "text": [
      "woow!\n"
     ]
    }
   ],
   "source": [
    "a = 4\n",
    "if a>10:\n",
    "    print(\"A is greater than 10\")\n",
    "print(\"woow!\")"
   ]
  },
  {
   "cell_type": "code",
   "execution_count": 8,
   "id": "32bdbcda",
   "metadata": {},
   "outputs": [],
   "source": [
    "a = 4\n",
    "if a>10:\n",
    "    print(\"A is greater than 10\")\n",
    "    print(\"woow!\")"
   ]
  },
  {
   "cell_type": "code",
   "execution_count": 9,
   "id": "d6b6cb84",
   "metadata": {},
   "outputs": [
    {
     "name": "stdout",
     "output_type": "stream",
     "text": [
      "A is less than or equal to 10\n",
      "Noooo!\n"
     ]
    }
   ],
   "source": [
    "a = 4\n",
    "if a>10:\n",
    "    print(\"A is greater than 10\")\n",
    "    print(\"woow!\")\n",
    "else:\n",
    "     print(\"A is less than or equal to 10\")   \n",
    "     print(\"Noooo!\")\n",
    "     \n",
    "\n"
   ]
  },
  {
   "cell_type": "code",
   "execution_count": 10,
   "id": "59902131",
   "metadata": {},
   "outputs": [
    {
     "name": "stdout",
     "output_type": "stream",
     "text": [
      "A is less than or equal to 10\n",
      "Nooo!\n"
     ]
    }
   ],
   "source": [
    "a = 4\n",
    "if a>10:\n",
    "    print(\"A is greater than 10\")\n",
    "    print(\"woow!\")\n",
    "else:\n",
    "     print(\"A is less than or equal to 10\")   \n",
    "print(\"Nooo!\") "
   ]
  },
  {
   "cell_type": "code",
   "execution_count": 11,
   "id": "d93a0141",
   "metadata": {},
   "outputs": [
    {
     "name": "stdout",
     "output_type": "stream",
     "text": [
      "A is greater than 10\n",
      "woow!\n",
      "Nooo!\n"
     ]
    }
   ],
   "source": [
    "a = 12\n",
    "if a>10:\n",
    "    print(\"A is greater than 10\")\n",
    "    print(\"woow!\")\n",
    "else:\n",
    "     print(\"A is less than or equal to 10\")   \n",
    "print(\"Nooo!\") "
   ]
  },
  {
   "cell_type": "markdown",
   "id": "b8550a22",
   "metadata": {},
   "source": [
    "## If elif"
   ]
  },
  {
   "cell_type": "code",
   "execution_count": 2,
   "id": "2c297802",
   "metadata": {},
   "outputs": [
    {
     "name": "stdout",
     "output_type": "stream",
     "text": [
      "Tuesday\n"
     ]
    }
   ],
   "source": [
    "day = \"Tue\"\n",
    "if day == \"Mon\":\n",
    "    print(\"Monday\")\n",
    "elif day == \"Tue\":\n",
    "    print(\"Tuesday\")\n",
    "elif day == \"Wed\":\n",
    "    print(\"Wednesday\")\n"
   ]
  },
  {
   "cell_type": "code",
   "execution_count": 4,
   "id": "6f34fb99",
   "metadata": {},
   "outputs": [
    {
     "name": "stdout",
     "output_type": "stream",
     "text": [
      "Tuesday\n"
     ]
    }
   ],
   "source": [
    "day = \"Tue\"\n",
    "if day == \"Mon\":\n",
    "    print(\"Monday\")\n",
    "elif day == \"Tue\":\n",
    "    print(\"Tuesday\")\n",
    "elif day == \"Tue\":\n",
    "    print(\"Wednesday\")\n"
   ]
  },
  {
   "cell_type": "code",
   "execution_count": 7,
   "id": "f14ca97c",
   "metadata": {},
   "outputs": [
    {
     "name": "stdout",
     "output_type": "stream",
     "text": [
      "Wednesday\n"
     ]
    }
   ],
   "source": [
    "day = \"Tue\"\n",
    "if day == \"Mon\":\n",
    "    print(\"Monday\")\n",
    "elif day == \"Tue1\":\n",
    "    print(\"Tuesday\")\n",
    "elif day == \"Tue\":\n",
    "    print(\"Wednesday\")\n",
    "else:\n",
    "    print(\"No day\")    \n"
   ]
  },
  {
   "cell_type": "code",
   "execution_count": 8,
   "id": "47b6694e",
   "metadata": {},
   "outputs": [
    {
     "name": "stdout",
     "output_type": "stream",
     "text": [
      "No day\n"
     ]
    }
   ],
   "source": [
    "day = \"Jan\"\n",
    "if day == \"Mon\":\n",
    "    print(\"Monday\")\n",
    "elif day == \"Tue\":\n",
    "    print(\"Tuesday\")\n",
    "elif day == \"Wed\":\n",
    "    print(\"Wednesday\")\n",
    "else:\n",
    "    print(\"No day\")    \n"
   ]
  },
  {
   "cell_type": "code",
   "execution_count": 10,
   "id": "8ee80783",
   "metadata": {},
   "outputs": [
    {
     "ename": "SyntaxError",
     "evalue": "invalid syntax (2979902429.py, line 2)",
     "output_type": "error",
     "traceback": [
      "  \u001b[36mCell\u001b[39m\u001b[36m \u001b[39m\u001b[32mIn[10]\u001b[39m\u001b[32m, line 2\u001b[39m\n\u001b[31m    \u001b[39m\u001b[31melif day == 'Mon':\u001b[39m\n    ^\n\u001b[31mSyntaxError\u001b[39m\u001b[31m:\u001b[39m invalid syntax\n"
     ]
    }
   ],
   "source": [
    "day = \"Tue\"\n",
    "elif day == 'Mon':\n",
    "    print(\"Monday\")\n",
    "else:\n",
    "    print(\"NO day\")    \n",
    "  "
   ]
  },
  {
   "cell_type": "code",
   "execution_count": null,
   "id": "40b84b0a",
   "metadata": {},
   "outputs": [],
   "source": [
    "# Question : Given number 'n' should be odd and less than 10 print it single odd number"
   ]
  },
  {
   "cell_type": "code",
   "execution_count": 11,
   "id": "271f8919",
   "metadata": {},
   "outputs": [
    {
     "name": "stdout",
     "output_type": "stream",
     "text": [
      "n is less than 10\n"
     ]
    }
   ],
   "source": [
    "n = int(input())\n",
    "\n",
    "if n < 10:\n",
    "    print(\"n is less than 10\")\n",
    "else:\n",
    "    print('n is not less than 10')"
   ]
  },
  {
   "cell_type": "code",
   "execution_count": 12,
   "id": "d6a7c6ef",
   "metadata": {},
   "outputs": [
    {
     "name": "stdout",
     "output_type": "stream",
     "text": [
      "n is single digit odd number\n",
      "n is less than 10\n"
     ]
    }
   ],
   "source": [
    "n = int(input())\n",
    "# n= 5\n",
    "if n < 10: # 5 < 10\n",
    "    if n%2 == 1: # 5%2 => 1 == 1\n",
    "        print(\"n is single digit odd number\") # output print\n",
    "    else:\n",
    "        print(\"n is single digit even  number\")\n",
    "    print(\"n is less than 10\") # output print\n",
    "else:\n",
    "    print('n is not less than 10') "
   ]
  },
  {
   "cell_type": "code",
   "execution_count": null,
   "id": "2e43c5fa",
   "metadata": {},
   "outputs": [],
   "source": [
    "n = int(input())\n",
    "# n= 10\n",
    "if n < 10: # 10 < 10\n",
    "    if n%2 == 1:\n",
    "        print(\"n is single digit odd number\")\n",
    "    else:\n",
    "        print(\"n is single digit even  number\")\n",
    "    print(\"n is less than 10\") \n",
    "else:\n",
    "    print('n is not less than 10') "
   ]
  },
  {
   "cell_type": "code",
   "execution_count": null,
   "id": "c8e684bb",
   "metadata": {},
   "outputs": [
    {
     "name": "stdout",
     "output_type": "stream",
     "text": [
      "n is single digit even  number\n",
      "n is less than 10\n"
     ]
    }
   ],
   "source": [
    "n = int(input())\n",
    "# n= 8\n",
    "if n < 10: # 8 < 10\n",
    "    if n%2 == 1:\n",
    "        print(\"n is single digit odd number\")\n",
    "    else:\n",
    "        print(\"n is single digit even  number\") # print output\n",
    "    print(\"n is less than 10\") # print output\n",
    "else:\n",
    "    if n%2 == 1:\n",
    "        print('n is 2 or more digit odd number')\n",
    "    else:\n",
    "        print(\"n is 2 or more digit even number\")    \n",
    "    print('n is not less than 10') "
   ]
  },
  {
   "cell_type": "code",
   "execution_count": 14,
   "id": "189af595",
   "metadata": {},
   "outputs": [
    {
     "name": "stdout",
     "output_type": "stream",
     "text": [
      "n is single digit odd number\n"
     ]
    }
   ],
   "source": [
    "n =5\n",
    "if n < 10 and n%2 == 1:\n",
    "    print(\"n is single digit odd number\")\n",
    "else:\n",
    "    print('n is signle digit even number')    \n"
   ]
  },
  {
   "cell_type": "code",
   "execution_count": null,
   "id": "563676c4",
   "metadata": {},
   "outputs": [],
   "source": []
  },
  {
   "cell_type": "code",
   "execution_count": 15,
   "id": "49137e3d",
   "metadata": {},
   "outputs": [
    {
     "name": "stdout",
     "output_type": "stream",
     "text": [
      "n is signle digit even number\n"
     ]
    }
   ],
   "source": [
    "n =6\n",
    "if n < 10 and n%2 == 1:\n",
    "    print(\"n is single digit odd number\")\n",
    "else:\n",
    "    print('n is signle digit even number')   "
   ]
  },
  {
   "cell_type": "code",
   "execution_count": 1,
   "id": "84ee7c75",
   "metadata": {},
   "outputs": [
    {
     "name": "stdout",
     "output_type": "stream",
     "text": [
      "n is signle digit even number\n"
     ]
    }
   ],
   "source": [
    "n = 11\n",
    "if n < 10 and n%2 == 1:\n",
    "    print(\"n is single digit odd number\")\n",
    "else:\n",
    "    print('n is signle digit even number')   "
   ]
  },
  {
   "cell_type": "code",
   "execution_count": 5,
   "id": "08df2c8d",
   "metadata": {},
   "outputs": [],
   "source": [
    "n = 12\n",
    "if n<10 and n%2 == 1:\n",
    "    print(\"N is sigle digit odd number\")\n",
    "elif n<10 and n%2 == 0:\n",
    "    print('n is single digit even number')\n",
    "elif n >= 10 and n%2 == 1:\n",
    "    print(\"n is two are more digit odd number\")"
   ]
  },
  {
   "cell_type": "markdown",
   "id": "b575d408",
   "metadata": {},
   "source": [
    "## Nested if else"
   ]
  },
  {
   "cell_type": "code",
   "execution_count": null,
   "id": "f2f9650f",
   "metadata": {},
   "outputs": [],
   "source": []
  },
  {
   "cell_type": "code",
   "execution_count": null,
   "id": "5e91e04d",
   "metadata": {},
   "outputs": [],
   "source": []
  },
  {
   "cell_type": "code",
   "execution_count": null,
   "id": "a390873f",
   "metadata": {},
   "outputs": [],
   "source": []
  },
  {
   "cell_type": "markdown",
   "id": "d4dccd26",
   "metadata": {},
   "source": [
    "## single line conditional statements\n"
   ]
  },
  {
   "cell_type": "code",
   "execution_count": 16,
   "id": "34a4bf98",
   "metadata": {},
   "outputs": [
    {
     "name": "stdout",
     "output_type": "stream",
     "text": [
      "odd\n"
     ]
    }
   ],
   "source": [
    "val = 5\n",
    "if val%2 == 1:\n",
    "    print(\"odd\")\n",
    "else:\n",
    "    print(\"even\")    "
   ]
  },
  {
   "cell_type": "code",
   "execution_count": null,
   "id": "dab31e91",
   "metadata": {},
   "outputs": [],
   "source": [
    "# <var> = <true condition> if <CONDITION> else <false Condition>"
   ]
  },
  {
   "cell_type": "code",
   "execution_count": 18,
   "id": "27c2a3fb",
   "metadata": {},
   "outputs": [
    {
     "name": "stdout",
     "output_type": "stream",
     "text": [
      "Odd\n"
     ]
    }
   ],
   "source": [
    "val = 5\n",
    "print(\"Even\") if val%2 == 0 else  print(\"Odd\")"
   ]
  },
  {
   "cell_type": "markdown",
   "id": "e6ec8291",
   "metadata": {},
   "source": [
    "### MATCH statments\n",
    "- match statement\n",
    "- match with literals\n",
    "- match with condition"
   ]
  },
  {
   "cell_type": "markdown",
   "id": "6737fa35",
   "metadata": {},
   "source": [
    "## match statement"
   ]
  },
  {
   "cell_type": "code",
   "execution_count": null,
   "id": "a6cfddd7",
   "metadata": {},
   "outputs": [
    {
     "name": "stdout",
     "output_type": "stream",
     "text": [
      "Tuesday\n"
     ]
    }
   ],
   "source": [
    "val = \"Tue\"\n",
    "match val:\n",
    "    case \"Mon\":\n",
    "        print(\"Monday\")\n",
    "        print(\"multiine\")\n",
    "    case \"Tue\":\n",
    "        print(\"Tuesday\")\n",
    "    case \"Wed\":\n",
    "        print(\"Wednesday\")     "
   ]
  },
  {
   "cell_type": "code",
   "execution_count": 21,
   "id": "abb7afc3",
   "metadata": {},
   "outputs": [],
   "source": [
    "val = \"Fri\"\n",
    "match val:\n",
    "    case \"Mon\":\n",
    "        print(\"Monday\")\n",
    "        print(\"multiine\")\n",
    "    case \"Tue\":\n",
    "        print(\"Tuesday\")\n",
    "    case \"Wed\":\n",
    "        print(\"Wednesday\")   "
   ]
  },
  {
   "cell_type": "code",
   "execution_count": 22,
   "id": "05eb9fc6",
   "metadata": {},
   "outputs": [
    {
     "name": "stdout",
     "output_type": "stream",
     "text": [
      "No match\n"
     ]
    }
   ],
   "source": [
    "val = \"Fri\"\n",
    "match val:\n",
    "    case \"Mon\":\n",
    "        print(\"Monday\")\n",
    "        print(\"multiine\")\n",
    "    case \"Tue\":\n",
    "        print(\"Tuesday\")\n",
    "    case \"Wed\":\n",
    "        print(\"Wednesday\")   \n",
    "    case _:\n",
    "        print(\"No match\")"
   ]
  },
  {
   "cell_type": "code",
   "execution_count": 23,
   "id": "d403dd6b",
   "metadata": {},
   "outputs": [
    {
     "ename": "SyntaxError",
     "evalue": "wildcard makes remaining patterns unreachable (2297864494.py, line 5)",
     "output_type": "error",
     "traceback": [
      "  \u001b[36mCell\u001b[39m\u001b[36m \u001b[39m\u001b[32mIn[23]\u001b[39m\u001b[32m, line 5\u001b[39m\n\u001b[31m    \u001b[39m\u001b[31mcase _:\u001b[39m\n         ^\n\u001b[31mSyntaxError\u001b[39m\u001b[31m:\u001b[39m wildcard makes remaining patterns unreachable\n"
     ]
    }
   ],
   "source": [
    "val = \"Fri\"\n",
    "match val:\n",
    "    case \"Mon\":\n",
    "        print(\"Monday\")\n",
    "    case _:\n",
    "        print(\"No match\")\n",
    "        print(\"multiine\")\n",
    "    case \"Tue\":\n",
    "        print(\"Tuesday\")\n",
    "    case \"Wed\":\n",
    "        print(\"Wednesday\")   "
   ]
  },
  {
   "cell_type": "code",
   "execution_count": 24,
   "id": "2f7ce8b7",
   "metadata": {},
   "outputs": [
    {
     "name": "stdout",
     "output_type": "stream",
     "text": [
      "Weekday\n"
     ]
    }
   ],
   "source": [
    "week = \"Fri\"\n",
    "# Question week day or weekend\n",
    "\n",
    "match week:\n",
    "    case \"Mon\":\n",
    "        print(\"Weekday\")\n",
    "    case \"Tue\":\n",
    "        print(\"Weekday\")\n",
    "    case \"Wed\":\n",
    "        print(\"Weekday\")\n",
    "    case \"Thu\":\n",
    "        print(\"Weekday\")\n",
    "    case \"Fri\":\n",
    "        print(\"Weekday\")\n",
    "    case \"Sat\":\n",
    "        print(\"Weekend\") \n",
    "    case \"Sun\":\n",
    "        print(\"Weekend\")    "
   ]
  },
  {
   "cell_type": "markdown",
   "id": "61925499",
   "metadata": {},
   "source": [
    "## match with literals"
   ]
  },
  {
   "cell_type": "code",
   "execution_count": 25,
   "id": "23bd1705",
   "metadata": {},
   "outputs": [
    {
     "name": "stdout",
     "output_type": "stream",
     "text": [
      "Weekday\n"
     ]
    }
   ],
   "source": [
    "week = \"Fri\"\n",
    "# Question week day or weekend\n",
    "\n",
    "match week:\n",
    "    case \"Mon\" | \"Tue\" | \"Wed\" | \"Thu\" | \"Fri\":\n",
    "        print(\"Weekday\")\n",
    "    case \"Sat\" | \"Sun\":\n",
    "        print(\"Weekend\")   "
   ]
  },
  {
   "cell_type": "code",
   "execution_count": 27,
   "id": "ed3854c8",
   "metadata": {},
   "outputs": [
    {
     "name": "stdout",
     "output_type": "stream",
     "text": [
      "Weekend\n"
     ]
    }
   ],
   "source": [
    "week = \"Sun\"\n",
    "# Question week day or weekend\n",
    "\n",
    "match week:\n",
    "    case \"Mon\" | \"Tue\" | \"Wed\" | \"Thu\" | \"Fri\":\n",
    "        print(\"Weekday\")\n",
    "    case \"Sat\" | \"Sun\":\n",
    "        print(\"Weekend\")   \n",
    "    case _:\n",
    "        print(\"No day is matched\")    "
   ]
  },
  {
   "cell_type": "code",
   "execution_count": null,
   "id": "4fb966db",
   "metadata": {},
   "outputs": [],
   "source": []
  },
  {
   "cell_type": "markdown",
   "id": "5538771d",
   "metadata": {},
   "source": [
    "## match with condition"
   ]
  },
  {
   "cell_type": "code",
   "execution_count": 28,
   "id": "210e2afa",
   "metadata": {},
   "outputs": [],
   "source": [
    "# find the weekend if matchs with sunday"
   ]
  },
  {
   "cell_type": "code",
   "execution_count": 32,
   "id": "0693e800",
   "metadata": {},
   "outputs": [
    {
     "name": "stdout",
     "output_type": "stream",
     "text": [
      "No day is matched\n"
     ]
    }
   ],
   "source": [
    "week = \"Sun\"\n",
    "number = int(input(\"Enter number : \"))\n",
    "# Question week day or weekend\n",
    "\n",
    "match week:\n",
    "    case \"Mon\" | \"Tue\" | \"Wed\" | \"Thu\" | \"Fri\":\n",
    "        print(\"Weekday\")\n",
    "    case \"Sat\" | \"Sun\" if number%2 == 0:\n",
    "        print(\"Weekend\")   \n",
    "    case _:\n",
    "        print(\"No day is matched\")   "
   ]
  },
  {
   "cell_type": "markdown",
   "id": "2eb889cf",
   "metadata": {},
   "source": []
  }
 ],
 "metadata": {
  "kernelspec": {
   "display_name": ".venv",
   "language": "python",
   "name": "python3"
  },
  "language_info": {
   "codemirror_mode": {
    "name": "ipython",
    "version": 3
   },
   "file_extension": ".py",
   "mimetype": "text/x-python",
   "name": "python",
   "nbconvert_exporter": "python",
   "pygments_lexer": "ipython3",
   "version": "3.12.5"
  }
 },
 "nbformat": 4,
 "nbformat_minor": 5
}
