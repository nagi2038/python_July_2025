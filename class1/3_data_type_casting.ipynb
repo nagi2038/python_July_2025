{
 "cells": [
  {
   "cell_type": "code",
   "execution_count": 2,
   "id": "e94bae9d",
   "metadata": {},
   "outputs": [],
   "source": [
    "a = 10"
   ]
  },
  {
   "cell_type": "code",
   "execution_count": null,
   "id": "e88d322a",
   "metadata": {},
   "outputs": [],
   "source": [
    "# print,\n",
    "# type,\n",
    "# id,\n",
    "# int,\n",
    "# float,\n",
    "# complex\n",
    "# str,\n",
    "# bool\n",
    "# None\n",
    "# True\n",
    "# False"
   ]
  },
  {
   "cell_type": "code",
   "execution_count": 3,
   "id": "3c8a2791",
   "metadata": {},
   "outputs": [
    {
     "data": {
      "text/plain": [
       "'Hello'"
      ]
     },
     "execution_count": 3,
     "metadata": {},
     "output_type": "execute_result"
    }
   ],
   "source": [
    "input()"
   ]
  },
  {
   "cell_type": "code",
   "execution_count": 4,
   "id": "8ea7e0f9",
   "metadata": {},
   "outputs": [
    {
     "data": {
      "text/plain": [
       "'123'"
      ]
     },
     "execution_count": 4,
     "metadata": {},
     "output_type": "execute_result"
    }
   ],
   "source": [
    "input()"
   ]
  },
  {
   "cell_type": "code",
   "execution_count": 5,
   "id": "c9471846",
   "metadata": {},
   "outputs": [],
   "source": [
    "x = input()"
   ]
  },
  {
   "cell_type": "code",
   "execution_count": 6,
   "id": "c0d42e76",
   "metadata": {},
   "outputs": [
    {
     "data": {
      "text/plain": [
       "str"
      ]
     },
     "execution_count": 6,
     "metadata": {},
     "output_type": "execute_result"
    }
   ],
   "source": [
    "type(x)"
   ]
  },
  {
   "cell_type": "code",
   "execution_count": 7,
   "id": "a9ff7dba",
   "metadata": {},
   "outputs": [
    {
     "data": {
      "text/plain": [
       "146.45"
      ]
     },
     "execution_count": 7,
     "metadata": {},
     "output_type": "execute_result"
    }
   ],
   "source": [
    "123.45 + 23"
   ]
  },
  {
   "cell_type": "code",
   "execution_count": 8,
   "id": "d8463e1a",
   "metadata": {},
   "outputs": [
    {
     "data": {
      "text/plain": [
       "'123.4523'"
      ]
     },
     "execution_count": 8,
     "metadata": {},
     "output_type": "execute_result"
    }
   ],
   "source": [
    "'123.45' + '23'"
   ]
  },
  {
   "cell_type": "code",
   "execution_count": 9,
   "id": "db21c2f0",
   "metadata": {},
   "outputs": [],
   "source": [
    "# Numarics\n",
    "# int, float , complex\n",
    "\n",
    "# txt\n",
    "# str => default\n",
    "\n",
    "# Blooean\n",
    "# bool\n",
    "\n",
    "# NoneType"
   ]
  },
  {
   "cell_type": "code",
   "execution_count": 10,
   "id": "eba79b43",
   "metadata": {},
   "outputs": [],
   "source": [
    "a = input()"
   ]
  },
  {
   "cell_type": "code",
   "execution_count": 11,
   "id": "704241d7",
   "metadata": {},
   "outputs": [
    {
     "name": "stdout",
     "output_type": "stream",
     "text": [
      "45\n"
     ]
    }
   ],
   "source": [
    "print(a)"
   ]
  },
  {
   "cell_type": "code",
   "execution_count": 12,
   "id": "5d3713e5",
   "metadata": {},
   "outputs": [
    {
     "data": {
      "text/plain": [
       "str"
      ]
     },
     "execution_count": 12,
     "metadata": {},
     "output_type": "execute_result"
    }
   ],
   "source": [
    "type(a)"
   ]
  },
  {
   "cell_type": "code",
   "execution_count": 13,
   "id": "c60735c9",
   "metadata": {},
   "outputs": [],
   "source": [
    "a = input()\n",
    "b = input()\n",
    "c = input()"
   ]
  },
  {
   "cell_type": "code",
   "execution_count": 14,
   "id": "942a007a",
   "metadata": {},
   "outputs": [],
   "source": [
    "a = input(\"Enter value 1 : \")"
   ]
  },
  {
   "cell_type": "code",
   "execution_count": 15,
   "id": "12feaa6e",
   "metadata": {},
   "outputs": [
    {
     "data": {
      "text/plain": [
       "'3'"
      ]
     },
     "execution_count": 15,
     "metadata": {},
     "output_type": "execute_result"
    }
   ],
   "source": [
    "a"
   ]
  },
  {
   "cell_type": "code",
   "execution_count": 16,
   "id": "a7e4d411",
   "metadata": {},
   "outputs": [],
   "source": [
    "b = int(a)\n"
   ]
  },
  {
   "cell_type": "code",
   "execution_count": 17,
   "id": "ede8164e",
   "metadata": {},
   "outputs": [
    {
     "data": {
      "text/plain": [
       "3"
      ]
     },
     "execution_count": 17,
     "metadata": {},
     "output_type": "execute_result"
    }
   ],
   "source": [
    "b"
   ]
  },
  {
   "cell_type": "code",
   "execution_count": 18,
   "id": "395eee21",
   "metadata": {},
   "outputs": [
    {
     "data": {
      "text/plain": [
       "int"
      ]
     },
     "execution_count": 18,
     "metadata": {},
     "output_type": "execute_result"
    }
   ],
   "source": [
    "type(b)"
   ]
  },
  {
   "cell_type": "code",
   "execution_count": 19,
   "id": "728088ac",
   "metadata": {},
   "outputs": [],
   "source": [
    "a = int(input(\"Enter value for a : \"))"
   ]
  },
  {
   "cell_type": "code",
   "execution_count": 20,
   "id": "760c03dc",
   "metadata": {},
   "outputs": [
    {
     "data": {
      "text/plain": [
       "int"
      ]
     },
     "execution_count": 20,
     "metadata": {},
     "output_type": "execute_result"
    }
   ],
   "source": [
    "type(a)"
   ]
  },
  {
   "cell_type": "code",
   "execution_count": 21,
   "id": "6a6d24fe",
   "metadata": {},
   "outputs": [],
   "source": [
    "string = \"10.5\""
   ]
  },
  {
   "cell_type": "code",
   "execution_count": 22,
   "id": "c7e9d5f4",
   "metadata": {},
   "outputs": [
    {
     "data": {
      "text/plain": [
       "10.5"
      ]
     },
     "execution_count": 22,
     "metadata": {},
     "output_type": "execute_result"
    }
   ],
   "source": [
    "float(string)"
   ]
  },
  {
   "cell_type": "code",
   "execution_count": 23,
   "id": "8866ef18",
   "metadata": {},
   "outputs": [
    {
     "data": {
      "text/plain": [
       "'10.5'"
      ]
     },
     "execution_count": 23,
     "metadata": {},
     "output_type": "execute_result"
    }
   ],
   "source": [
    "string"
   ]
  },
  {
   "cell_type": "code",
   "execution_count": 25,
   "id": "84e5c51e",
   "metadata": {},
   "outputs": [],
   "source": [
    "string = \"4+5j\"\n",
    "b  = complex(string)"
   ]
  },
  {
   "cell_type": "code",
   "execution_count": 26,
   "id": "50dae51f",
   "metadata": {},
   "outputs": [
    {
     "data": {
      "text/plain": [
       "complex"
      ]
     },
     "execution_count": 26,
     "metadata": {},
     "output_type": "execute_result"
    }
   ],
   "source": [
    "type(b)"
   ]
  },
  {
   "cell_type": "code",
   "execution_count": 27,
   "id": "f92d18d2",
   "metadata": {},
   "outputs": [
    {
     "name": "stdout",
     "output_type": "stream",
     "text": [
      "hellow\n"
     ]
    }
   ],
   "source": [
    "print(\"hellow\")"
   ]
  },
  {
   "cell_type": "code",
   "execution_count": 41,
   "id": "b185fde7",
   "metadata": {},
   "outputs": [],
   "source": [
    "a = 4\n",
    "b = 4.5\n",
    "c = 4+5j\n",
    "d = \"4\"\n",
    "\n"
   ]
  },
  {
   "cell_type": "code",
   "execution_count": 42,
   "id": "d502ba60",
   "metadata": {},
   "outputs": [
    {
     "name": "stdout",
     "output_type": "stream",
     "text": [
      "<class 'int'>\n"
     ]
    }
   ],
   "source": [
    "print(type(a))"
   ]
  },
  {
   "cell_type": "code",
   "execution_count": 43,
   "id": "6af7e53c",
   "metadata": {},
   "outputs": [
    {
     "name": "stdout",
     "output_type": "stream",
     "text": [
      "<class 'float'>\n"
     ]
    }
   ],
   "source": [
    "print(type(b))"
   ]
  },
  {
   "cell_type": "code",
   "execution_count": 44,
   "id": "af9a66ca",
   "metadata": {},
   "outputs": [
    {
     "name": "stdout",
     "output_type": "stream",
     "text": [
      "<class 'complex'>\n"
     ]
    }
   ],
   "source": [
    "print(type(c))"
   ]
  },
  {
   "cell_type": "code",
   "execution_count": 49,
   "id": "7bd48efc",
   "metadata": {},
   "outputs": [
    {
     "name": "stdout",
     "output_type": "stream",
     "text": [
      "<class 'str'>\n"
     ]
    }
   ],
   "source": [
    "print(type(d))"
   ]
  },
  {
   "cell_type": "code",
   "execution_count": 46,
   "id": "7250315c",
   "metadata": {},
   "outputs": [],
   "source": [
    "int_a = int(a)\n",
    "int_b = int(b)\n",
    "int_c = int(c.real)\n",
    "int_j = int(c.imag)\n",
    "int_d = int(d)"
   ]
  },
  {
   "cell_type": "code",
   "execution_count": 47,
   "id": "459218ac",
   "metadata": {},
   "outputs": [
    {
     "name": "stdout",
     "output_type": "stream",
     "text": [
      "<class 'int'> 4\n",
      "<class 'int'> 4\n",
      "<class 'int'> 4\n",
      "<class 'int'> 4\n"
     ]
    }
   ],
   "source": [
    "print(type(int_a),int_a)\n",
    "print(type(int_b),int_b)\n",
    "print(type(int_c),int_c)\n",
    "print(type(int_d),int_d)"
   ]
  },
  {
   "cell_type": "code",
   "execution_count": 48,
   "id": "c3958f6c",
   "metadata": {},
   "outputs": [],
   "source": [
    "# number\n",
    "# a = 4\n",
    "# b = 4.5\n",
    "# c = 4+5j\n",
    "# d = \"4\""
   ]
  },
  {
   "cell_type": "code",
   "execution_count": 50,
   "id": "94e1189e",
   "metadata": {},
   "outputs": [],
   "source": [
    "x = \"4.5t\""
   ]
  },
  {
   "cell_type": "code",
   "execution_count": 51,
   "id": "4bf1ddc9",
   "metadata": {},
   "outputs": [
    {
     "ename": "ValueError",
     "evalue": "invalid literal for int() with base 10: '4.5t'",
     "output_type": "error",
     "traceback": [
      "\u001b[31m---------------------------------------------------------------------------\u001b[39m",
      "\u001b[31mValueError\u001b[39m                                Traceback (most recent call last)",
      "\u001b[36mCell\u001b[39m\u001b[36m \u001b[39m\u001b[32mIn[51]\u001b[39m\u001b[32m, line 1\u001b[39m\n\u001b[32m----> \u001b[39m\u001b[32m1\u001b[39m \u001b[38;5;28;43mint\u001b[39;49m\u001b[43m(\u001b[49m\u001b[43mx\u001b[49m\u001b[43m)\u001b[49m\n",
      "\u001b[31mValueError\u001b[39m: invalid literal for int() with base 10: '4.5t'"
     ]
    }
   ],
   "source": [
    "int(x)"
   ]
  },
  {
   "cell_type": "code",
   "execution_count": 53,
   "id": "49a5b6f8",
   "metadata": {},
   "outputs": [
    {
     "data": {
      "text/plain": [
       "4.5"
      ]
     },
     "execution_count": 53,
     "metadata": {},
     "output_type": "execute_result"
    }
   ],
   "source": [
    "x = \"4.5\"\n",
    "float(x)"
   ]
  },
  {
   "cell_type": "code",
   "execution_count": 54,
   "id": "5a5777b2",
   "metadata": {},
   "outputs": [
    {
     "data": {
      "text/plain": [
       "4"
      ]
     },
     "execution_count": 54,
     "metadata": {},
     "output_type": "execute_result"
    }
   ],
   "source": [
    "x = \"4.5\"\n",
    "int(float(x))"
   ]
  },
  {
   "cell_type": "code",
   "execution_count": 55,
   "id": "f8d7cb4a",
   "metadata": {},
   "outputs": [
    {
     "data": {
      "text/plain": [
       "45"
      ]
     },
     "execution_count": 55,
     "metadata": {},
     "output_type": "execute_result"
    }
   ],
   "source": [
    "x = \"45 \"\n",
    "int(x)"
   ]
  },
  {
   "cell_type": "code",
   "execution_count": 56,
   "id": "78f35fca",
   "metadata": {},
   "outputs": [
    {
     "ename": "ValueError",
     "evalue": "invalid literal for int() with base 10: '4 5 '",
     "output_type": "error",
     "traceback": [
      "\u001b[31m---------------------------------------------------------------------------\u001b[39m",
      "\u001b[31mValueError\u001b[39m                                Traceback (most recent call last)",
      "\u001b[36mCell\u001b[39m\u001b[36m \u001b[39m\u001b[32mIn[56]\u001b[39m\u001b[32m, line 2\u001b[39m\n\u001b[32m      1\u001b[39m x = \u001b[33m\"\u001b[39m\u001b[33m4 5 \u001b[39m\u001b[33m\"\u001b[39m\n\u001b[32m----> \u001b[39m\u001b[32m2\u001b[39m \u001b[38;5;28;43mint\u001b[39;49m\u001b[43m(\u001b[49m\u001b[43mx\u001b[49m\u001b[43m)\u001b[49m\n",
      "\u001b[31mValueError\u001b[39m: invalid literal for int() with base 10: '4 5 '"
     ]
    }
   ],
   "source": [
    "x = \"4 5 \"\n",
    "int(x)"
   ]
  },
  {
   "cell_type": "code",
   "execution_count": 57,
   "id": "e0ae78fc",
   "metadata": {},
   "outputs": [
    {
     "data": {
      "text/plain": [
       "45"
      ]
     },
     "execution_count": 57,
     "metadata": {},
     "output_type": "execute_result"
    }
   ],
   "source": [
    "x = \" 45 \"\n",
    "int(x)"
   ]
  },
  {
   "cell_type": "code",
   "execution_count": null,
   "id": "cb5c9169",
   "metadata": {},
   "outputs": [],
   "source": [
    "# float allowed \"0-9, space at last or starting, '.'\"\n",
    "v = \"3.45f\""
   ]
  },
  {
   "cell_type": "code",
   "execution_count": 59,
   "id": "9611cfdd",
   "metadata": {},
   "outputs": [
    {
     "ename": "ValueError",
     "evalue": "could not convert string to float: '3.45f'",
     "output_type": "error",
     "traceback": [
      "\u001b[31m---------------------------------------------------------------------------\u001b[39m",
      "\u001b[31mValueError\u001b[39m                                Traceback (most recent call last)",
      "\u001b[36mCell\u001b[39m\u001b[36m \u001b[39m\u001b[32mIn[59]\u001b[39m\u001b[32m, line 1\u001b[39m\n\u001b[32m----> \u001b[39m\u001b[32m1\u001b[39m \u001b[38;5;28;43mfloat\u001b[39;49m\u001b[43m(\u001b[49m\u001b[43mv\u001b[49m\u001b[43m)\u001b[49m\n",
      "\u001b[31mValueError\u001b[39m: could not convert string to float: '3.45f'"
     ]
    }
   ],
   "source": [
    "float(v)"
   ]
  },
  {
   "cell_type": "code",
   "execution_count": 60,
   "id": "80828a15",
   "metadata": {},
   "outputs": [
    {
     "data": {
      "text/plain": [
       "3.45"
      ]
     },
     "execution_count": 60,
     "metadata": {},
     "output_type": "execute_result"
    }
   ],
   "source": [
    "v = \"3.45\"\n",
    "float(v)"
   ]
  },
  {
   "cell_type": "code",
   "execution_count": 61,
   "id": "d926e175",
   "metadata": {},
   "outputs": [
    {
     "name": "stdout",
     "output_type": "stream",
     "text": [
      "9.75\n",
      "3.456.3\n"
     ]
    }
   ],
   "source": [
    "v1 = '3.45'\n",
    "v2 = '6.3'\n",
    "\n",
    "float_v1 = float(v1)\n",
    "float_v2 = float(v2)\n",
    "print(float_v1 + float_v2)\n",
    "print(v1 + v2)"
   ]
  },
  {
   "cell_type": "code",
   "execution_count": null,
   "id": "b17cd9dd",
   "metadata": {},
   "outputs": [],
   "source": []
  }
 ],
 "metadata": {
  "kernelspec": {
   "display_name": ".venv",
   "language": "python",
   "name": "python3"
  },
  "language_info": {
   "codemirror_mode": {
    "name": "ipython",
    "version": 3
   },
   "file_extension": ".py",
   "mimetype": "text/x-python",
   "name": "python",
   "nbconvert_exporter": "python",
   "pygments_lexer": "ipython3",
   "version": "3.12.5"
  }
 },
 "nbformat": 4,
 "nbformat_minor": 5
}
