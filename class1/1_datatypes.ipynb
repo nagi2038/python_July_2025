{
 "cells": [
  {
   "cell_type": "markdown",
   "id": "42497e34",
   "metadata": {},
   "source": [
    "# Data Types"
   ]
  },
  {
   "cell_type": "markdown",
   "id": "0d5198e2",
   "metadata": {},
   "source": [
    "## Agenda\n",
    "\n",
    "- What are data types?\n",
    "- How to declare data types in python?"
   ]
  },
  {
   "cell_type": "markdown",
   "id": "6b290905",
   "metadata": {},
   "source": [
    "### What are data types?\n",
    "- Numbers\n",
    "- Text\n",
    "- Booleans\n",
    "- Binary\n",
    "- None"
   ]
  },
  {
   "cell_type": "markdown",
   "id": "b1ab2ee3",
   "metadata": {},
   "source": []
  },
  {
   "cell_type": "markdown",
   "id": "a7d2993e",
   "metadata": {},
   "source": [
    "#### Number\n",
    "- Integer\n",
    "- Decimal\n",
    "- Complex"
   ]
  },
  {
   "cell_type": "code",
   "execution_count": null,
   "id": "6612305d",
   "metadata": {},
   "outputs": [],
   "source": [
    "# -inf to inf\n",
    "# -1,0,1..\n",
    "\n"
   ]
  },
  {
   "cell_type": "markdown",
   "id": "89709509",
   "metadata": {},
   "source": [
    "Integers"
   ]
  },
  {
   "cell_type": "code",
   "execution_count": 1,
   "id": "7030aa57",
   "metadata": {},
   "outputs": [
    {
     "name": "stdout",
     "output_type": "stream",
     "text": [
      "5\n"
     ]
    }
   ],
   "source": [
    "a = 5\n",
    "print(a)"
   ]
  },
  {
   "cell_type": "markdown",
   "id": "ba020b55",
   "metadata": {},
   "source": [
    "Decimals"
   ]
  },
  {
   "cell_type": "code",
   "execution_count": 2,
   "id": "2d764a1c",
   "metadata": {},
   "outputs": [
    {
     "name": "stdout",
     "output_type": "stream",
     "text": [
      "4.56\n"
     ]
    }
   ],
   "source": [
    "b = 4.56\n",
    "print(b)"
   ]
  },
  {
   "cell_type": "code",
   "execution_count": 4,
   "id": "3b1351d1",
   "metadata": {},
   "outputs": [
    {
     "name": "stdout",
     "output_type": "stream",
     "text": [
      "<class 'int'>\n"
     ]
    }
   ],
   "source": [
    "print(type(a))"
   ]
  },
  {
   "cell_type": "code",
   "execution_count": 13,
   "id": "3a17479e",
   "metadata": {},
   "outputs": [
    {
     "name": "stdout",
     "output_type": "stream",
     "text": [
      "<class 'float'>\n"
     ]
    }
   ],
   "source": [
    "d = 4.0\n",
    "print(type(d))"
   ]
  },
  {
   "cell_type": "code",
   "execution_count": 16,
   "id": "ec423993",
   "metadata": {},
   "outputs": [
    {
     "name": "stdout",
     "output_type": "stream",
     "text": [
      "<class 'int'>\n"
     ]
    }
   ],
   "source": [
    "a = -45\n",
    "print(type(a))"
   ]
  },
  {
   "cell_type": "code",
   "execution_count": 5,
   "id": "9ecf101e",
   "metadata": {},
   "outputs": [
    {
     "name": "stdout",
     "output_type": "stream",
     "text": [
      "<class 'float'>\n"
     ]
    }
   ],
   "source": [
    "print(type(b))"
   ]
  },
  {
   "cell_type": "markdown",
   "id": "d4c8af41",
   "metadata": {},
   "source": [
    "Complex numbers"
   ]
  },
  {
   "cell_type": "code",
   "execution_count": 11,
   "id": "d8eef894",
   "metadata": {},
   "outputs": [],
   "source": [
    "# a + jb (real + j Image)\n",
    "\n",
    "# help(complex)\n",
    "\n",
    "c = 3+4j\n"
   ]
  },
  {
   "cell_type": "code",
   "execution_count": 12,
   "id": "dcdd7a45",
   "metadata": {},
   "outputs": [
    {
     "name": "stdout",
     "output_type": "stream",
     "text": [
      "<class 'complex'>\n"
     ]
    }
   ],
   "source": [
    "print(type(c))"
   ]
  },
  {
   "cell_type": "markdown",
   "id": "db3b418f",
   "metadata": {},
   "source": [
    "#### Text"
   ]
  },
  {
   "cell_type": "code",
   "execution_count": 18,
   "id": "c82544b4",
   "metadata": {},
   "outputs": [],
   "source": [
    "hello = 'hello'"
   ]
  },
  {
   "cell_type": "code",
   "execution_count": 19,
   "id": "9abd4e2a",
   "metadata": {},
   "outputs": [
    {
     "name": "stdout",
     "output_type": "stream",
     "text": [
      "hello\n"
     ]
    }
   ],
   "source": [
    "print(hello)"
   ]
  },
  {
   "cell_type": "code",
   "execution_count": null,
   "id": "6775b747",
   "metadata": {},
   "outputs": [
    {
     "ename": "NameError",
     "evalue": "name 'world' is not defined",
     "output_type": "error",
     "traceback": [
      "\u001b[31m---------------------------------------------------------------------------\u001b[39m",
      "\u001b[31mNameError\u001b[39m                                 Traceback (most recent call last)",
      "\u001b[36mCell\u001b[39m\u001b[36m \u001b[39m\u001b[32mIn[21]\u001b[39m\u001b[32m, line 1\u001b[39m\n\u001b[32m----> \u001b[39m\u001b[32m1\u001b[39m \u001b[38;5;28mprint\u001b[39m(\u001b[43mworld\u001b[49m)\n",
      "\u001b[31mNameError\u001b[39m: name 'world' is not defined"
     ]
    }
   ],
   "source": [
    "print(world)"
   ]
  },
  {
   "cell_type": "code",
   "execution_count": 22,
   "id": "7e0e3b5e",
   "metadata": {},
   "outputs": [
    {
     "name": "stdout",
     "output_type": "stream",
     "text": [
      "world\n"
     ]
    }
   ],
   "source": [
    "print('world')"
   ]
  },
  {
   "cell_type": "code",
   "execution_count": 23,
   "id": "bebb2cc2",
   "metadata": {},
   "outputs": [
    {
     "name": "stdout",
     "output_type": "stream",
     "text": [
      "single quotes\n"
     ]
    }
   ],
   "source": [
    "str1 = 'single quotes'\n",
    "print(str1)"
   ]
  },
  {
   "cell_type": "code",
   "execution_count": 24,
   "id": "c4987787",
   "metadata": {},
   "outputs": [
    {
     "name": "stdout",
     "output_type": "stream",
     "text": [
      "double quotes\n"
     ]
    }
   ],
   "source": [
    "str2 = \"double quotes\"\n",
    "print(str2)"
   ]
  },
  {
   "cell_type": "code",
   "execution_count": 25,
   "id": "55b4314d",
   "metadata": {},
   "outputs": [
    {
     "name": "stdout",
     "output_type": "stream",
     "text": [
      "this is triple quotes\n"
     ]
    }
   ],
   "source": [
    "st3 = \"\"\"this is triple quotes\"\"\"\n",
    "print(st3)"
   ]
  },
  {
   "cell_type": "code",
   "execution_count": 26,
   "id": "04ced58e",
   "metadata": {},
   "outputs": [
    {
     "name": "stdout",
     "output_type": "stream",
     "text": [
      "this is another doc string\n"
     ]
    }
   ],
   "source": [
    "str4 = '''this is another doc string'''\n",
    "print(str4)"
   ]
  },
  {
   "cell_type": "code",
   "execution_count": 27,
   "id": "32d65506",
   "metadata": {},
   "outputs": [
    {
     "name": "stdout",
     "output_type": "stream",
     "text": [
      "hello\n"
     ]
    }
   ],
   "source": [
    "print(\"hello\")"
   ]
  },
  {
   "cell_type": "code",
   "execution_count": 28,
   "id": "06051cb8",
   "metadata": {},
   "outputs": [
    {
     "name": "stdout",
     "output_type": "stream",
     "text": [
      "Help on built-in function print in module builtins:\n",
      "\n",
      "print(*args, sep=' ', end='\\n', file=None, flush=False)\n",
      "    Prints the values to a stream, or to sys.stdout by default.\n",
      "\n",
      "    sep\n",
      "      string inserted between values, default a space.\n",
      "    end\n",
      "      string appended after the last value, default a newline.\n",
      "    file\n",
      "      a file-like object (stream); defaults to the current sys.stdout.\n",
      "    flush\n",
      "      whether to forcibly flush the stream.\n",
      "\n"
     ]
    }
   ],
   "source": [
    "help(print)"
   ]
  },
  {
   "cell_type": "code",
   "execution_count": null,
   "id": "05a62852",
   "metadata": {},
   "outputs": [],
   "source": [
    "a = 'Help on built-in function print in module builtins:print(*args, sep=' ', end='\\n', file=None, flush=False)Prints the values to a stream, or to sys.stdout by default.\n",
    "\n",
    "    sepstring inserted between values, default a space.endstring appended after the last value, default a newline.\n",
    "    file\n",
    "      a file-like object (stream); defaults to the current sys.stdout.\n",
    "    flush\n",
    "      whether to forcibly flush the stream.'"
   ]
  },
  {
   "cell_type": "code",
   "execution_count": 64,
   "id": "513db286",
   "metadata": {},
   "outputs": [
    {
     "name": "stdout",
     "output_type": "stream",
     "text": [
      "fist line second line third line \n"
     ]
    }
   ],
   "source": [
    "b = 'fist line ' \\\n",
    "'second line ' \\\n",
    "'third line '\n",
    "print(b)"
   ]
  },
  {
   "cell_type": "code",
   "execution_count": 65,
   "id": "91b2dfc2",
   "metadata": {},
   "outputs": [
    {
     "name": "stdout",
     "output_type": "stream",
     "text": [
      "fist line\n",
      "second line\n",
      "third line\n"
     ]
    }
   ],
   "source": [
    "c = \"\"\"fist line\n",
    "second line\n",
    "third line\"\"\"\n",
    "print(c)"
   ]
  },
  {
   "cell_type": "code",
   "execution_count": 66,
   "id": "bce5b05f",
   "metadata": {},
   "outputs": [
    {
     "name": "stdout",
     "output_type": "stream",
     "text": [
      "hello \n",
      "agi\n"
     ]
    }
   ],
   "source": [
    "print('hello \\nagi')"
   ]
  },
  {
   "cell_type": "code",
   "execution_count": 67,
   "id": "90344675",
   "metadata": {},
   "outputs": [],
   "source": [
    "# \\n - newline\n",
    "# \\t - tab\n",
    "# \\b - back space"
   ]
  },
  {
   "cell_type": "code",
   "execution_count": 70,
   "id": "d8c8986b",
   "metadata": {},
   "outputs": [
    {
     "name": "stdout",
     "output_type": "stream",
     "text": [
      "fist line \n",
      "second line \tthird lin\n"
     ]
    }
   ],
   "source": [
    "b = 'fist line \\n' \\\n",
    "'second line \\t' \\\n",
    "'third line\\b'\n",
    "print(b)"
   ]
  },
  {
   "cell_type": "code",
   "execution_count": 30,
   "id": "a90d954a",
   "metadata": {},
   "outputs": [
    {
     "ename": "SyntaxError",
     "evalue": "unterminated string literal (detected at line 1) (620245360.py, line 1)",
     "output_type": "error",
     "traceback": [
      "  \u001b[36mCell\u001b[39m\u001b[36m \u001b[39m\u001b[32mIn[30]\u001b[39m\u001b[32m, line 1\u001b[39m\n\u001b[31m    \u001b[39m\u001b[31mstr5 = 'hello\u001b[39m\n           ^\n\u001b[31mSyntaxError\u001b[39m\u001b[31m:\u001b[39m unterminated string literal (detected at line 1)\n"
     ]
    }
   ],
   "source": [
    "str5 = 'hello \n",
    "world\n",
    "welcom'"
   ]
  },
  {
   "cell_type": "code",
   "execution_count": null,
   "id": "b086164e",
   "metadata": {},
   "outputs": [
    {
     "name": "stdout",
     "output_type": "stream",
     "text": [
      "hello \n",
      "world\n",
      "welcome\n",
      "\n",
      "\n",
      "\n"
     ]
    }
   ],
   "source": [
    "str6 = '''hello \n",
    "world\n",
    "welcome\n",
    "\n",
    "\n",
    "'''\n",
    "print(str6)"
   ]
  },
  {
   "cell_type": "markdown",
   "id": "4bc372f2",
   "metadata": {},
   "source": [
    "#### Booleans"
   ]
  },
  {
   "cell_type": "code",
   "execution_count": null,
   "id": "461ac0a2",
   "metadata": {},
   "outputs": [
    {
     "name": "stdout",
     "output_type": "stream",
     "text": [
      "True\n"
     ]
    }
   ],
   "source": [
    "b1 = True\n",
    "print(b1)"
   ]
  },
  {
   "cell_type": "code",
   "execution_count": 56,
   "id": "8653d3ff",
   "metadata": {},
   "outputs": [
    {
     "ename": "NameError",
     "evalue": "name 'B2' is not defined",
     "output_type": "error",
     "traceback": [
      "\u001b[31m---------------------------------------------------------------------------\u001b[39m",
      "\u001b[31mNameError\u001b[39m                                 Traceback (most recent call last)",
      "\u001b[36mCell\u001b[39m\u001b[36m \u001b[39m\u001b[32mIn[56]\u001b[39m\u001b[32m, line 2\u001b[39m\n\u001b[32m      1\u001b[39m b2 = \u001b[38;5;28;01mTrue\u001b[39;00m \n\u001b[32m----> \u001b[39m\u001b[32m2\u001b[39m \u001b[38;5;28mprint\u001b[39m(\u001b[43mB2\u001b[49m)\n",
      "\u001b[31mNameError\u001b[39m: name 'B2' is not defined"
     ]
    }
   ],
   "source": [
    "b2 = True \n",
    "print(B2)"
   ]
  },
  {
   "cell_type": "code",
   "execution_count": 35,
   "id": "5082b6eb",
   "metadata": {},
   "outputs": [
    {
     "name": "stdout",
     "output_type": "stream",
     "text": [
      "True\n"
     ]
    }
   ],
   "source": [
    "b2 = True\n",
    "print(b2)"
   ]
  },
  {
   "cell_type": "code",
   "execution_count": 37,
   "id": "a425d110",
   "metadata": {},
   "outputs": [
    {
     "name": "stdout",
     "output_type": "stream",
     "text": [
      "False\n"
     ]
    }
   ],
   "source": [
    "b3 = False\n",
    "print(b3)"
   ]
  },
  {
   "cell_type": "markdown",
   "id": "02564008",
   "metadata": {},
   "source": [
    "#### Binary\n",
    "\n",
    "Bit About 'ASCII' and 'UTF-8' ?\n"
   ]
  },
  {
   "cell_type": "markdown",
   "id": "f7fe55e3",
   "metadata": {},
   "source": [
    "- bytes\n",
    "- bytearray"
   ]
  },
  {
   "cell_type": "code",
   "execution_count": null,
   "id": "55dbf275",
   "metadata": {},
   "outputs": [],
   "source": [
    "# American Standard Code for Information Iterchange\n",
    "\n",
    "# limitation 128 char"
   ]
  },
  {
   "cell_type": "code",
   "execution_count": 39,
   "id": "4ee90ecd",
   "metadata": {},
   "outputs": [],
   "source": [
    "a = \"Hello\""
   ]
  },
  {
   "cell_type": "code",
   "execution_count": 41,
   "id": "ae884ce2",
   "metadata": {},
   "outputs": [
    {
     "data": {
      "text/plain": [
       "72"
      ]
     },
     "execution_count": 41,
     "metadata": {},
     "output_type": "execute_result"
    }
   ],
   "source": [
    "ord('H')"
   ]
  },
  {
   "cell_type": "code",
   "execution_count": 42,
   "id": "ee2da5bb",
   "metadata": {},
   "outputs": [
    {
     "data": {
      "text/plain": [
       "101"
      ]
     },
     "execution_count": 42,
     "metadata": {},
     "output_type": "execute_result"
    }
   ],
   "source": [
    "ord('e')"
   ]
  },
  {
   "cell_type": "code",
   "execution_count": 43,
   "id": "4cdc0bb0",
   "metadata": {},
   "outputs": [
    {
     "data": {
      "text/plain": [
       "108"
      ]
     },
     "execution_count": 43,
     "metadata": {},
     "output_type": "execute_result"
    }
   ],
   "source": [
    "ord('l')"
   ]
  },
  {
   "cell_type": "code",
   "execution_count": 44,
   "id": "0c7adb27",
   "metadata": {},
   "outputs": [
    {
     "data": {
      "text/plain": [
       "111"
      ]
     },
     "execution_count": 44,
     "metadata": {},
     "output_type": "execute_result"
    }
   ],
   "source": [
    "ord('o')"
   ]
  },
  {
   "cell_type": "code",
   "execution_count": 45,
   "id": "d77acd62",
   "metadata": {},
   "outputs": [
    {
     "data": {
      "text/plain": [
       "'o'"
      ]
     },
     "execution_count": 45,
     "metadata": {},
     "output_type": "execute_result"
    }
   ],
   "source": [
    "chr(111)"
   ]
  },
  {
   "cell_type": "code",
   "execution_count": 46,
   "id": "1eb3ca31",
   "metadata": {},
   "outputs": [
    {
     "data": {
      "text/plain": [
       "'H'"
      ]
     },
     "execution_count": 46,
     "metadata": {},
     "output_type": "execute_result"
    }
   ],
   "source": [
    "chr(72)"
   ]
  },
  {
   "cell_type": "code",
   "execution_count": 49,
   "id": "cc7858e2",
   "metadata": {},
   "outputs": [
    {
     "data": {
      "text/plain": [
       "'అ'"
      ]
     },
     "execution_count": 49,
     "metadata": {},
     "output_type": "execute_result"
    }
   ],
   "source": [
    "chr(3077)"
   ]
  },
  {
   "cell_type": "code",
   "execution_count": 50,
   "id": "3cba04f1",
   "metadata": {},
   "outputs": [
    {
     "data": {
      "text/plain": [
       "b'Hello'"
      ]
     },
     "execution_count": 50,
     "metadata": {},
     "output_type": "execute_result"
    }
   ],
   "source": [
    "bytes([72,101,108,108,111])"
   ]
  },
  {
   "cell_type": "code",
   "execution_count": 52,
   "id": "ef375165",
   "metadata": {},
   "outputs": [
    {
     "data": {
      "text/plain": [
       "bytearray(b'Hello')"
      ]
     },
     "execution_count": 52,
     "metadata": {},
     "output_type": "execute_result"
    }
   ],
   "source": [
    "bytearray([72,101,108,108,111])"
   ]
  },
  {
   "cell_type": "code",
   "execution_count": 54,
   "id": "81abdf0e",
   "metadata": {},
   "outputs": [
    {
     "data": {
      "text/plain": [
       "('H', 'h')"
      ]
     },
     "execution_count": 54,
     "metadata": {},
     "output_type": "execute_result"
    }
   ],
   "source": [
    "chr(72), chr(104)"
   ]
  },
  {
   "cell_type": "code",
   "execution_count": 51,
   "id": "c17f3950",
   "metadata": {},
   "outputs": [
    {
     "name": "stdout",
     "output_type": "stream",
     "text": [
      "Hello\n"
     ]
    }
   ],
   "source": [
    "print(\"Hello\")"
   ]
  },
  {
   "cell_type": "code",
   "execution_count": 57,
   "id": "08523f9b",
   "metadata": {},
   "outputs": [
    {
     "data": {
      "text/plain": [
       "32"
      ]
     },
     "execution_count": 57,
     "metadata": {},
     "output_type": "execute_result"
    }
   ],
   "source": [
    "ord(' ')"
   ]
  },
  {
   "cell_type": "markdown",
   "id": "af83c382",
   "metadata": {},
   "source": [
    "#### None Type"
   ]
  },
  {
   "cell_type": "markdown",
   "id": "82ec66f7",
   "metadata": {},
   "source": []
  },
  {
   "cell_type": "code",
   "execution_count": 58,
   "id": "90b01426",
   "metadata": {},
   "outputs": [],
   "source": [
    "n1 = ''"
   ]
  },
  {
   "cell_type": "code",
   "execution_count": 59,
   "id": "15c3cac5",
   "metadata": {},
   "outputs": [],
   "source": [
    "n2 = None"
   ]
  },
  {
   "cell_type": "code",
   "execution_count": 60,
   "id": "148dc6ee",
   "metadata": {},
   "outputs": [
    {
     "name": "stdout",
     "output_type": "stream",
     "text": [
      "<class 'NoneType'>\n"
     ]
    }
   ],
   "source": [
    "print(type(n2))"
   ]
  },
  {
   "cell_type": "code",
   "execution_count": null,
   "id": "ec0ae84c",
   "metadata": {},
   "outputs": [],
   "source": []
  }
 ],
 "metadata": {
  "kernelspec": {
   "display_name": ".venv",
   "language": "python",
   "name": "python3"
  },
  "language_info": {
   "codemirror_mode": {
    "name": "ipython",
    "version": 3
   },
   "file_extension": ".py",
   "mimetype": "text/x-python",
   "name": "python",
   "nbconvert_exporter": "python",
   "pygments_lexer": "ipython3",
   "version": "3.12.5"
  }
 },
 "nbformat": 4,
 "nbformat_minor": 5
}
